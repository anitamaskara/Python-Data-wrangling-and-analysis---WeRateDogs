{
 "cells": [
  {
   "cell_type": "markdown",
   "metadata": {},
   "source": [
    "## Project: Wrangle and Analyze Data - WeRateDogs"
   ]
  },
  {
   "cell_type": "markdown",
   "metadata": {},
   "source": [
    "### Gathering data"
   ]
  },
  {
   "cell_type": "code",
   "execution_count": 416,
   "metadata": {},
   "outputs": [],
   "source": [
    "import numpy as np\n",
    "import pandas as pd\n",
    "import seaborn as sns\n",
    "import matplotlib.pyplot as plt\n",
    "import json\n",
    "%matplotlib inline\n",
    "\n",
    "pd.set_option('display.max_colwidth', -1)"
   ]
  },
  {
   "cell_type": "code",
   "execution_count": 417,
   "metadata": {},
   "outputs": [],
   "source": [
    "# Import the Twitter archive CSV file into a DataFrame\n",
    "df_1 = pd.read_csv('twitter-archive-enhanced.csv')"
   ]
  },
  {
   "cell_type": "code",
   "execution_count": 418,
   "metadata": {},
   "outputs": [
    {
     "data": {
      "text/plain": [
       "(2356, 17)"
      ]
     },
     "execution_count": 418,
     "metadata": {},
     "output_type": "execute_result"
    }
   ],
   "source": [
    "df_1.shape"
   ]
  },
  {
   "cell_type": "code",
   "execution_count": 419,
   "metadata": {},
   "outputs": [
    {
     "name": "stdout",
     "output_type": "stream",
     "text": [
      "<class 'pandas.core.frame.DataFrame'>\n",
      "RangeIndex: 2356 entries, 0 to 2355\n",
      "Data columns (total 17 columns):\n",
      "tweet_id                      2356 non-null int64\n",
      "in_reply_to_status_id         78 non-null float64\n",
      "in_reply_to_user_id           78 non-null float64\n",
      "timestamp                     2356 non-null object\n",
      "source                        2356 non-null object\n",
      "text                          2356 non-null object\n",
      "retweeted_status_id           181 non-null float64\n",
      "retweeted_status_user_id      181 non-null float64\n",
      "retweeted_status_timestamp    181 non-null object\n",
      "expanded_urls                 2297 non-null object\n",
      "rating_numerator              2356 non-null int64\n",
      "rating_denominator            2356 non-null int64\n",
      "name                          2356 non-null object\n",
      "doggo                         2356 non-null object\n",
      "floofer                       2356 non-null object\n",
      "pupper                        2356 non-null object\n",
      "puppo                         2356 non-null object\n",
      "dtypes: float64(4), int64(3), object(10)\n",
      "memory usage: 313.0+ KB\n"
     ]
    }
   ],
   "source": [
    "df_1.info()"
   ]
  },
  {
   "cell_type": "code",
   "execution_count": 420,
   "metadata": {},
   "outputs": [
    {
     "data": {
      "text/html": [
       "<div>\n",
       "<style scoped>\n",
       "    .dataframe tbody tr th:only-of-type {\n",
       "        vertical-align: middle;\n",
       "    }\n",
       "\n",
       "    .dataframe tbody tr th {\n",
       "        vertical-align: top;\n",
       "    }\n",
       "\n",
       "    .dataframe thead th {\n",
       "        text-align: right;\n",
       "    }\n",
       "</style>\n",
       "<table border=\"1\" class=\"dataframe\">\n",
       "  <thead>\n",
       "    <tr style=\"text-align: right;\">\n",
       "      <th></th>\n",
       "      <th>tweet_id</th>\n",
       "      <th>in_reply_to_status_id</th>\n",
       "      <th>in_reply_to_user_id</th>\n",
       "      <th>timestamp</th>\n",
       "      <th>source</th>\n",
       "      <th>text</th>\n",
       "      <th>retweeted_status_id</th>\n",
       "      <th>retweeted_status_user_id</th>\n",
       "      <th>retweeted_status_timestamp</th>\n",
       "      <th>expanded_urls</th>\n",
       "      <th>rating_numerator</th>\n",
       "      <th>rating_denominator</th>\n",
       "      <th>name</th>\n",
       "      <th>doggo</th>\n",
       "      <th>floofer</th>\n",
       "      <th>pupper</th>\n",
       "      <th>puppo</th>\n",
       "    </tr>\n",
       "  </thead>\n",
       "  <tbody>\n",
       "    <tr>\n",
       "      <th>0</th>\n",
       "      <td>892420643555336193</td>\n",
       "      <td>NaN</td>\n",
       "      <td>NaN</td>\n",
       "      <td>2017-08-01 16:23:56 +0000</td>\n",
       "      <td>&lt;a href=\"http://twitter.com/download/iphone\" rel=\"nofollow\"&gt;Twitter for iPhone&lt;/a&gt;</td>\n",
       "      <td>This is Phineas. He's a mystical boy. Only ever appears in the hole of a donut. 13/10 https://t.co/MgUWQ76dJU</td>\n",
       "      <td>NaN</td>\n",
       "      <td>NaN</td>\n",
       "      <td>NaN</td>\n",
       "      <td>https://twitter.com/dog_rates/status/892420643555336193/photo/1</td>\n",
       "      <td>13</td>\n",
       "      <td>10</td>\n",
       "      <td>Phineas</td>\n",
       "      <td>None</td>\n",
       "      <td>None</td>\n",
       "      <td>None</td>\n",
       "      <td>None</td>\n",
       "    </tr>\n",
       "    <tr>\n",
       "      <th>1</th>\n",
       "      <td>892177421306343426</td>\n",
       "      <td>NaN</td>\n",
       "      <td>NaN</td>\n",
       "      <td>2017-08-01 00:17:27 +0000</td>\n",
       "      <td>&lt;a href=\"http://twitter.com/download/iphone\" rel=\"nofollow\"&gt;Twitter for iPhone&lt;/a&gt;</td>\n",
       "      <td>This is Tilly. She's just checking pup on you. Hopes you're doing ok. If not, she's available for pats, snugs, boops, the whole bit. 13/10 https://t.co/0Xxu71qeIV</td>\n",
       "      <td>NaN</td>\n",
       "      <td>NaN</td>\n",
       "      <td>NaN</td>\n",
       "      <td>https://twitter.com/dog_rates/status/892177421306343426/photo/1</td>\n",
       "      <td>13</td>\n",
       "      <td>10</td>\n",
       "      <td>Tilly</td>\n",
       "      <td>None</td>\n",
       "      <td>None</td>\n",
       "      <td>None</td>\n",
       "      <td>None</td>\n",
       "    </tr>\n",
       "    <tr>\n",
       "      <th>2</th>\n",
       "      <td>891815181378084864</td>\n",
       "      <td>NaN</td>\n",
       "      <td>NaN</td>\n",
       "      <td>2017-07-31 00:18:03 +0000</td>\n",
       "      <td>&lt;a href=\"http://twitter.com/download/iphone\" rel=\"nofollow\"&gt;Twitter for iPhone&lt;/a&gt;</td>\n",
       "      <td>This is Archie. He is a rare Norwegian Pouncing Corgo. Lives in the tall grass. You never know when one may strike. 12/10 https://t.co/wUnZnhtVJB</td>\n",
       "      <td>NaN</td>\n",
       "      <td>NaN</td>\n",
       "      <td>NaN</td>\n",
       "      <td>https://twitter.com/dog_rates/status/891815181378084864/photo/1</td>\n",
       "      <td>12</td>\n",
       "      <td>10</td>\n",
       "      <td>Archie</td>\n",
       "      <td>None</td>\n",
       "      <td>None</td>\n",
       "      <td>None</td>\n",
       "      <td>None</td>\n",
       "    </tr>\n",
       "    <tr>\n",
       "      <th>3</th>\n",
       "      <td>891689557279858688</td>\n",
       "      <td>NaN</td>\n",
       "      <td>NaN</td>\n",
       "      <td>2017-07-30 15:58:51 +0000</td>\n",
       "      <td>&lt;a href=\"http://twitter.com/download/iphone\" rel=\"nofollow\"&gt;Twitter for iPhone&lt;/a&gt;</td>\n",
       "      <td>This is Darla. She commenced a snooze mid meal. 13/10 happens to the best of us https://t.co/tD36da7qLQ</td>\n",
       "      <td>NaN</td>\n",
       "      <td>NaN</td>\n",
       "      <td>NaN</td>\n",
       "      <td>https://twitter.com/dog_rates/status/891689557279858688/photo/1</td>\n",
       "      <td>13</td>\n",
       "      <td>10</td>\n",
       "      <td>Darla</td>\n",
       "      <td>None</td>\n",
       "      <td>None</td>\n",
       "      <td>None</td>\n",
       "      <td>None</td>\n",
       "    </tr>\n",
       "    <tr>\n",
       "      <th>4</th>\n",
       "      <td>891327558926688256</td>\n",
       "      <td>NaN</td>\n",
       "      <td>NaN</td>\n",
       "      <td>2017-07-29 16:00:24 +0000</td>\n",
       "      <td>&lt;a href=\"http://twitter.com/download/iphone\" rel=\"nofollow\"&gt;Twitter for iPhone&lt;/a&gt;</td>\n",
       "      <td>This is Franklin. He would like you to stop calling him \"cute.\" He is a very fierce shark and should be respected as such. 12/10 #BarkWeek https://t.co/AtUZn91f7f</td>\n",
       "      <td>NaN</td>\n",
       "      <td>NaN</td>\n",
       "      <td>NaN</td>\n",
       "      <td>https://twitter.com/dog_rates/status/891327558926688256/photo/1,https://twitter.com/dog_rates/status/891327558926688256/photo/1</td>\n",
       "      <td>12</td>\n",
       "      <td>10</td>\n",
       "      <td>Franklin</td>\n",
       "      <td>None</td>\n",
       "      <td>None</td>\n",
       "      <td>None</td>\n",
       "      <td>None</td>\n",
       "    </tr>\n",
       "  </tbody>\n",
       "</table>\n",
       "</div>"
      ],
      "text/plain": [
       "             tweet_id  in_reply_to_status_id  in_reply_to_user_id  \\\n",
       "0  892420643555336193 NaN                    NaN                    \n",
       "1  892177421306343426 NaN                    NaN                    \n",
       "2  891815181378084864 NaN                    NaN                    \n",
       "3  891689557279858688 NaN                    NaN                    \n",
       "4  891327558926688256 NaN                    NaN                    \n",
       "\n",
       "                   timestamp  \\\n",
       "0  2017-08-01 16:23:56 +0000   \n",
       "1  2017-08-01 00:17:27 +0000   \n",
       "2  2017-07-31 00:18:03 +0000   \n",
       "3  2017-07-30 15:58:51 +0000   \n",
       "4  2017-07-29 16:00:24 +0000   \n",
       "\n",
       "                                                                               source  \\\n",
       "0  <a href=\"http://twitter.com/download/iphone\" rel=\"nofollow\">Twitter for iPhone</a>   \n",
       "1  <a href=\"http://twitter.com/download/iphone\" rel=\"nofollow\">Twitter for iPhone</a>   \n",
       "2  <a href=\"http://twitter.com/download/iphone\" rel=\"nofollow\">Twitter for iPhone</a>   \n",
       "3  <a href=\"http://twitter.com/download/iphone\" rel=\"nofollow\">Twitter for iPhone</a>   \n",
       "4  <a href=\"http://twitter.com/download/iphone\" rel=\"nofollow\">Twitter for iPhone</a>   \n",
       "\n",
       "                                                                                                                                                                 text  \\\n",
       "0  This is Phineas. He's a mystical boy. Only ever appears in the hole of a donut. 13/10 https://t.co/MgUWQ76dJU                                                        \n",
       "1  This is Tilly. She's just checking pup on you. Hopes you're doing ok. If not, she's available for pats, snugs, boops, the whole bit. 13/10 https://t.co/0Xxu71qeIV   \n",
       "2  This is Archie. He is a rare Norwegian Pouncing Corgo. Lives in the tall grass. You never know when one may strike. 12/10 https://t.co/wUnZnhtVJB                    \n",
       "3  This is Darla. She commenced a snooze mid meal. 13/10 happens to the best of us https://t.co/tD36da7qLQ                                                              \n",
       "4  This is Franklin. He would like you to stop calling him \"cute.\" He is a very fierce shark and should be respected as such. 12/10 #BarkWeek https://t.co/AtUZn91f7f   \n",
       "\n",
       "   retweeted_status_id  retweeted_status_user_id retweeted_status_timestamp  \\\n",
       "0 NaN                  NaN                        NaN                         \n",
       "1 NaN                  NaN                        NaN                         \n",
       "2 NaN                  NaN                        NaN                         \n",
       "3 NaN                  NaN                        NaN                         \n",
       "4 NaN                  NaN                        NaN                         \n",
       "\n",
       "                                                                                                                     expanded_urls  \\\n",
       "0  https://twitter.com/dog_rates/status/892420643555336193/photo/1                                                                   \n",
       "1  https://twitter.com/dog_rates/status/892177421306343426/photo/1                                                                   \n",
       "2  https://twitter.com/dog_rates/status/891815181378084864/photo/1                                                                   \n",
       "3  https://twitter.com/dog_rates/status/891689557279858688/photo/1                                                                   \n",
       "4  https://twitter.com/dog_rates/status/891327558926688256/photo/1,https://twitter.com/dog_rates/status/891327558926688256/photo/1   \n",
       "\n",
       "   rating_numerator  rating_denominator      name doggo floofer pupper puppo  \n",
       "0  13                10                  Phineas   None  None    None   None  \n",
       "1  13                10                  Tilly     None  None    None   None  \n",
       "2  12                10                  Archie    None  None    None   None  \n",
       "3  13                10                  Darla     None  None    None   None  \n",
       "4  12                10                  Franklin  None  None    None   None  "
      ]
     },
     "execution_count": 420,
     "metadata": {},
     "output_type": "execute_result"
    }
   ],
   "source": [
    "df_1.head()"
   ]
  },
  {
   "cell_type": "code",
   "execution_count": 421,
   "metadata": {},
   "outputs": [],
   "source": [
    "import requests\n",
    "# Download tweet image predictions TSV using the Requests library and write it to image_predictions.tsv\n",
    "url='https://d17h27t6h515a5.cloudfront.net/topher/2017/August/599fd2ad_image-predictions/image-predictions.tsv'\n",
    "\n",
    "# we use requests.get on a url that returns a response\n",
    "response = requests.get(url)\n",
    "\n",
    "# the data is stored in response variable which we can access using response.content\n",
    "\n",
    "with open('image_predictions.tsv', mode='wb') as file:\n",
    "    file.write(response.content)\n",
    "# \"wb\" means that you are writing to the file (w), and that you are writing in binary mode (b).\n",
    "    \n",
    "# Import the tweet image predictions TSV file into a DataFrame\n",
    "img_df = pd.read_csv('image_predictions.tsv', sep='\\t')"
   ]
  },
  {
   "cell_type": "code",
   "execution_count": 422,
   "metadata": {},
   "outputs": [
    {
     "data": {
      "text/html": [
       "<div>\n",
       "<style scoped>\n",
       "    .dataframe tbody tr th:only-of-type {\n",
       "        vertical-align: middle;\n",
       "    }\n",
       "\n",
       "    .dataframe tbody tr th {\n",
       "        vertical-align: top;\n",
       "    }\n",
       "\n",
       "    .dataframe thead th {\n",
       "        text-align: right;\n",
       "    }\n",
       "</style>\n",
       "<table border=\"1\" class=\"dataframe\">\n",
       "  <thead>\n",
       "    <tr style=\"text-align: right;\">\n",
       "      <th></th>\n",
       "      <th>tweet_id</th>\n",
       "      <th>jpg_url</th>\n",
       "      <th>img_num</th>\n",
       "      <th>p1</th>\n",
       "      <th>p1_conf</th>\n",
       "      <th>p1_dog</th>\n",
       "      <th>p2</th>\n",
       "      <th>p2_conf</th>\n",
       "      <th>p2_dog</th>\n",
       "      <th>p3</th>\n",
       "      <th>p3_conf</th>\n",
       "      <th>p3_dog</th>\n",
       "    </tr>\n",
       "  </thead>\n",
       "  <tbody>\n",
       "    <tr>\n",
       "      <th>0</th>\n",
       "      <td>666020888022790149</td>\n",
       "      <td>https://pbs.twimg.com/media/CT4udn0WwAA0aMy.jpg</td>\n",
       "      <td>1</td>\n",
       "      <td>Welsh_springer_spaniel</td>\n",
       "      <td>0.465074</td>\n",
       "      <td>True</td>\n",
       "      <td>collie</td>\n",
       "      <td>0.156665</td>\n",
       "      <td>True</td>\n",
       "      <td>Shetland_sheepdog</td>\n",
       "      <td>0.061428</td>\n",
       "      <td>True</td>\n",
       "    </tr>\n",
       "    <tr>\n",
       "      <th>1</th>\n",
       "      <td>666029285002620928</td>\n",
       "      <td>https://pbs.twimg.com/media/CT42GRgUYAA5iDo.jpg</td>\n",
       "      <td>1</td>\n",
       "      <td>redbone</td>\n",
       "      <td>0.506826</td>\n",
       "      <td>True</td>\n",
       "      <td>miniature_pinscher</td>\n",
       "      <td>0.074192</td>\n",
       "      <td>True</td>\n",
       "      <td>Rhodesian_ridgeback</td>\n",
       "      <td>0.072010</td>\n",
       "      <td>True</td>\n",
       "    </tr>\n",
       "    <tr>\n",
       "      <th>2</th>\n",
       "      <td>666033412701032449</td>\n",
       "      <td>https://pbs.twimg.com/media/CT4521TWwAEvMyu.jpg</td>\n",
       "      <td>1</td>\n",
       "      <td>German_shepherd</td>\n",
       "      <td>0.596461</td>\n",
       "      <td>True</td>\n",
       "      <td>malinois</td>\n",
       "      <td>0.138584</td>\n",
       "      <td>True</td>\n",
       "      <td>bloodhound</td>\n",
       "      <td>0.116197</td>\n",
       "      <td>True</td>\n",
       "    </tr>\n",
       "    <tr>\n",
       "      <th>3</th>\n",
       "      <td>666044226329800704</td>\n",
       "      <td>https://pbs.twimg.com/media/CT5Dr8HUEAA-lEu.jpg</td>\n",
       "      <td>1</td>\n",
       "      <td>Rhodesian_ridgeback</td>\n",
       "      <td>0.408143</td>\n",
       "      <td>True</td>\n",
       "      <td>redbone</td>\n",
       "      <td>0.360687</td>\n",
       "      <td>True</td>\n",
       "      <td>miniature_pinscher</td>\n",
       "      <td>0.222752</td>\n",
       "      <td>True</td>\n",
       "    </tr>\n",
       "    <tr>\n",
       "      <th>4</th>\n",
       "      <td>666049248165822465</td>\n",
       "      <td>https://pbs.twimg.com/media/CT5IQmsXIAAKY4A.jpg</td>\n",
       "      <td>1</td>\n",
       "      <td>miniature_pinscher</td>\n",
       "      <td>0.560311</td>\n",
       "      <td>True</td>\n",
       "      <td>Rottweiler</td>\n",
       "      <td>0.243682</td>\n",
       "      <td>True</td>\n",
       "      <td>Doberman</td>\n",
       "      <td>0.154629</td>\n",
       "      <td>True</td>\n",
       "    </tr>\n",
       "  </tbody>\n",
       "</table>\n",
       "</div>"
      ],
      "text/plain": [
       "             tweet_id                                          jpg_url  \\\n",
       "0  666020888022790149  https://pbs.twimg.com/media/CT4udn0WwAA0aMy.jpg   \n",
       "1  666029285002620928  https://pbs.twimg.com/media/CT42GRgUYAA5iDo.jpg   \n",
       "2  666033412701032449  https://pbs.twimg.com/media/CT4521TWwAEvMyu.jpg   \n",
       "3  666044226329800704  https://pbs.twimg.com/media/CT5Dr8HUEAA-lEu.jpg   \n",
       "4  666049248165822465  https://pbs.twimg.com/media/CT5IQmsXIAAKY4A.jpg   \n",
       "\n",
       "   img_num                      p1   p1_conf  p1_dog                  p2  \\\n",
       "0  1        Welsh_springer_spaniel  0.465074  True    collie               \n",
       "1  1        redbone                 0.506826  True    miniature_pinscher   \n",
       "2  1        German_shepherd         0.596461  True    malinois             \n",
       "3  1        Rhodesian_ridgeback     0.408143  True    redbone              \n",
       "4  1        miniature_pinscher      0.560311  True    Rottweiler           \n",
       "\n",
       "    p2_conf  p2_dog                   p3   p3_conf  p3_dog  \n",
       "0  0.156665  True    Shetland_sheepdog    0.061428  True    \n",
       "1  0.074192  True    Rhodesian_ridgeback  0.072010  True    \n",
       "2  0.138584  True    bloodhound           0.116197  True    \n",
       "3  0.360687  True    miniature_pinscher   0.222752  True    \n",
       "4  0.243682  True    Doberman             0.154629  True    "
      ]
     },
     "execution_count": 422,
     "metadata": {},
     "output_type": "execute_result"
    }
   ],
   "source": [
    "img_df.head()"
   ]
  },
  {
   "cell_type": "markdown",
   "metadata": {},
   "source": [
    "import tweepy\n",
    "from tweepy import OAuthHandler\n",
    "import json\n",
    "from timeit import default_timer as timer\n",
    "\n",
    "# Query Twitter API for each tweet in the Twitter archive and save JSON in a text file\n",
    "\n",
    "consumer_key = 'X4Brx0KqE3BHMhfM7klRQzGb5'\n",
    "consumer_secret = '8KBd6D3cjoNH02Iv3SQuyZDY62xxIjO6qFHI0C3msHBCslg4H9'\n",
    "access_token = '901126343823327234-k6ITYAZnJsAwHqSpc8z4aTTfEhiM6bt'\n",
    "access_secret = 'GZaqeDQ3Vxy6GiNIhZavJIJ5QveLSkM4BbUHeaWWMmj9j'\n",
    "\n",
    "auth = OAuthHandler(consumer_key, consumer_secret)\n",
    "auth.set_access_token(access_token, access_secret)\n",
    "\n",
    "api = tweepy.API(auth, wait_on_rate_limit=True)\n",
    "\n",
    "# Tweet IDs for which to gather additional data via Twitter's API\n",
    "tweet_ids = df_1.tweet_id.values\n",
    "len(tweet_ids)\n",
    "\n",
    "# Query Twitter's API for JSON data for each tweet ID in the Twitter archive\n",
    "count = 0\n",
    "fails_dict = {}\n",
    "start = timer()\n",
    "# Save each tweet's returned JSON as a new line in a .txt file\n",
    "with open('tweet_json.txt', 'w', encoding = 'utf8') as outfile:\n",
    "    # This loop will likely take 20-30 minutes to run because of Twitter's rate limit\n",
    "    for tweet_id in df_1['tweet_id']:\n",
    "        count += 1\n",
    "        print(str(count) + \": \" + str(tweet_id))\n",
    "        try:\n",
    "            tweet = api.get_status(tweet_id, tweet_mode='extended')\n",
    "            print(\"Success\")\n",
    "            json.dump(tweet._json, outfile)\n",
    "            outfile.write('\\n')\n",
    "        except tweepy.TweepError as e:\n",
    "            print(\"Fail\")\n",
    "            fails_dict[tweet_id] = e\n",
    "            pass\n",
    "end = timer()\n",
    "print(end - start)\n",
    "print(fails_dict)"
   ]
  },
  {
   "cell_type": "code",
   "execution_count": 423,
   "metadata": {},
   "outputs": [],
   "source": [
    "# List of dictionaries to read tweet's JSON data line by line and later convert to a DataFrame\n",
    "df_list = []\n",
    "with open('tweet-json.txt', 'r') as json_file:\n",
    "    for line in json_file:\n",
    "        status = json.loads(line)\n",
    "        \n",
    "        # Append to list of dictionaries\n",
    "        df_list.append({'tweet_id': status['id'],\n",
    "                        'retweet_count': status['retweet_count'],\n",
    "                        'favorite_count': status['favorite_count'],\n",
    "                        'display_text_range': status['display_text_range']\n",
    "                       })\n",
    "\n",
    "# Create a DataFrame with tweet ID, retweet count, favorite count and display_text_range\n",
    "status_df = pd.DataFrame(df_list, columns = ['tweet_id', 'retweet_count', 'favorite_count', 'display_text_range'])"
   ]
  },
  {
   "cell_type": "code",
   "execution_count": 424,
   "metadata": {},
   "outputs": [
    {
     "data": {
      "text/html": [
       "<div>\n",
       "<style scoped>\n",
       "    .dataframe tbody tr th:only-of-type {\n",
       "        vertical-align: middle;\n",
       "    }\n",
       "\n",
       "    .dataframe tbody tr th {\n",
       "        vertical-align: top;\n",
       "    }\n",
       "\n",
       "    .dataframe thead th {\n",
       "        text-align: right;\n",
       "    }\n",
       "</style>\n",
       "<table border=\"1\" class=\"dataframe\">\n",
       "  <thead>\n",
       "    <tr style=\"text-align: right;\">\n",
       "      <th></th>\n",
       "      <th>tweet_id</th>\n",
       "      <th>retweet_count</th>\n",
       "      <th>favorite_count</th>\n",
       "      <th>display_text_range</th>\n",
       "    </tr>\n",
       "  </thead>\n",
       "  <tbody>\n",
       "    <tr>\n",
       "      <th>0</th>\n",
       "      <td>892420643555336193</td>\n",
       "      <td>8853</td>\n",
       "      <td>39467</td>\n",
       "      <td>[0, 85]</td>\n",
       "    </tr>\n",
       "    <tr>\n",
       "      <th>1</th>\n",
       "      <td>892177421306343426</td>\n",
       "      <td>6514</td>\n",
       "      <td>33819</td>\n",
       "      <td>[0, 138]</td>\n",
       "    </tr>\n",
       "    <tr>\n",
       "      <th>2</th>\n",
       "      <td>891815181378084864</td>\n",
       "      <td>4328</td>\n",
       "      <td>25461</td>\n",
       "      <td>[0, 121]</td>\n",
       "    </tr>\n",
       "    <tr>\n",
       "      <th>3</th>\n",
       "      <td>891689557279858688</td>\n",
       "      <td>8964</td>\n",
       "      <td>42908</td>\n",
       "      <td>[0, 79]</td>\n",
       "    </tr>\n",
       "    <tr>\n",
       "      <th>4</th>\n",
       "      <td>891327558926688256</td>\n",
       "      <td>9774</td>\n",
       "      <td>41048</td>\n",
       "      <td>[0, 138]</td>\n",
       "    </tr>\n",
       "  </tbody>\n",
       "</table>\n",
       "</div>"
      ],
      "text/plain": [
       "             tweet_id  retweet_count  favorite_count display_text_range\n",
       "0  892420643555336193  8853           39467           [0, 85]          \n",
       "1  892177421306343426  6514           33819           [0, 138]         \n",
       "2  891815181378084864  4328           25461           [0, 121]         \n",
       "3  891689557279858688  8964           42908           [0, 79]          \n",
       "4  891327558926688256  9774           41048           [0, 138]         "
      ]
     },
     "execution_count": 424,
     "metadata": {},
     "output_type": "execute_result"
    }
   ],
   "source": [
    "status_df.head()"
   ]
  },
  {
   "cell_type": "markdown",
   "metadata": {},
   "source": [
    "### Assessing the data"
   ]
  },
  {
   "cell_type": "code",
   "execution_count": 425,
   "metadata": {},
   "outputs": [],
   "source": [
    "# creating a copy of df_1 as df, because using df is easier and faster instead of long names like df_1 or twitter_achive\n",
    "df = df_1.copy()"
   ]
  },
  {
   "cell_type": "code",
   "execution_count": 426,
   "metadata": {},
   "outputs": [
    {
     "data": {
      "text/html": [
       "<div>\n",
       "<style scoped>\n",
       "    .dataframe tbody tr th:only-of-type {\n",
       "        vertical-align: middle;\n",
       "    }\n",
       "\n",
       "    .dataframe tbody tr th {\n",
       "        vertical-align: top;\n",
       "    }\n",
       "\n",
       "    .dataframe thead th {\n",
       "        text-align: right;\n",
       "    }\n",
       "</style>\n",
       "<table border=\"1\" class=\"dataframe\">\n",
       "  <thead>\n",
       "    <tr style=\"text-align: right;\">\n",
       "      <th></th>\n",
       "      <th>tweet_id</th>\n",
       "      <th>in_reply_to_status_id</th>\n",
       "      <th>in_reply_to_user_id</th>\n",
       "      <th>timestamp</th>\n",
       "      <th>source</th>\n",
       "      <th>text</th>\n",
       "      <th>retweeted_status_id</th>\n",
       "      <th>retweeted_status_user_id</th>\n",
       "      <th>retweeted_status_timestamp</th>\n",
       "      <th>expanded_urls</th>\n",
       "      <th>rating_numerator</th>\n",
       "      <th>rating_denominator</th>\n",
       "      <th>name</th>\n",
       "      <th>doggo</th>\n",
       "      <th>floofer</th>\n",
       "      <th>pupper</th>\n",
       "      <th>puppo</th>\n",
       "    </tr>\n",
       "  </thead>\n",
       "  <tbody>\n",
       "    <tr>\n",
       "      <th>1626</th>\n",
       "      <td>684800227459624960</td>\n",
       "      <td>NaN</td>\n",
       "      <td>NaN</td>\n",
       "      <td>2016-01-06 18:14:31 +0000</td>\n",
       "      <td>&lt;a href=\"http://twitter.com/download/iphone\" rel=\"nofollow\"&gt;Twitter for iPhone&lt;/a&gt;</td>\n",
       "      <td>Meet Theodore. He's dapper as hell. Probably owns horses. Uses 'summer' as a verb. Often quotes philosophers. 11/10 https://t.co/J3Ld4fRbSy</td>\n",
       "      <td>NaN</td>\n",
       "      <td>NaN</td>\n",
       "      <td>NaN</td>\n",
       "      <td>https://twitter.com/dog_rates/status/684800227459624960/photo/1</td>\n",
       "      <td>11</td>\n",
       "      <td>10</td>\n",
       "      <td>Theodore</td>\n",
       "      <td>None</td>\n",
       "      <td>None</td>\n",
       "      <td>None</td>\n",
       "      <td>None</td>\n",
       "    </tr>\n",
       "    <tr>\n",
       "      <th>998</th>\n",
       "      <td>748307329658011649</td>\n",
       "      <td>NaN</td>\n",
       "      <td>NaN</td>\n",
       "      <td>2016-06-30 00:09:04 +0000</td>\n",
       "      <td>&lt;a href=\"http://twitter.com/download/iphone\" rel=\"nofollow\"&gt;Twitter for iPhone&lt;/a&gt;</td>\n",
       "      <td>This sherk must've leapt out of the water and into the canoe, trapping the human. Won't even help paddle smh. 7/10 https://t.co/KubWEqOIgO</td>\n",
       "      <td>NaN</td>\n",
       "      <td>NaN</td>\n",
       "      <td>NaN</td>\n",
       "      <td>https://twitter.com/dog_rates/status/748307329658011649/photo/1,https://twitter.com/dog_rates/status/748307329658011649/photo/1</td>\n",
       "      <td>7</td>\n",
       "      <td>10</td>\n",
       "      <td>None</td>\n",
       "      <td>None</td>\n",
       "      <td>None</td>\n",
       "      <td>None</td>\n",
       "      <td>None</td>\n",
       "    </tr>\n",
       "    <tr>\n",
       "      <th>1346</th>\n",
       "      <td>704480331685040129</td>\n",
       "      <td>NaN</td>\n",
       "      <td>NaN</td>\n",
       "      <td>2016-03-01 01:36:14 +0000</td>\n",
       "      <td>&lt;a href=\"http://twitter.com/download/iphone\" rel=\"nofollow\"&gt;Twitter for iPhone&lt;/a&gt;</td>\n",
       "      <td>Meet Lucia. She's a Cumulonimbus Floofmallow. Only has two legs tho (unfortunate). 11/10 would definitely still pet https://t.co/qv6qlEUCEe</td>\n",
       "      <td>NaN</td>\n",
       "      <td>NaN</td>\n",
       "      <td>NaN</td>\n",
       "      <td>https://twitter.com/dog_rates/status/704480331685040129/photo/1</td>\n",
       "      <td>11</td>\n",
       "      <td>10</td>\n",
       "      <td>Lucia</td>\n",
       "      <td>None</td>\n",
       "      <td>None</td>\n",
       "      <td>None</td>\n",
       "      <td>None</td>\n",
       "    </tr>\n",
       "    <tr>\n",
       "      <th>1158</th>\n",
       "      <td>724049859469295616</td>\n",
       "      <td>NaN</td>\n",
       "      <td>NaN</td>\n",
       "      <td>2016-04-24 01:38:33 +0000</td>\n",
       "      <td>&lt;a href=\"http://twitter.com/download/iphone\" rel=\"nofollow\"&gt;Twitter for iPhone&lt;/a&gt;</td>\n",
       "      <td>This is Kreggory. He just took a look at his student debt. 10/10 can't even comprehend it https://t.co/XTsZTgilnT</td>\n",
       "      <td>NaN</td>\n",
       "      <td>NaN</td>\n",
       "      <td>NaN</td>\n",
       "      <td>https://twitter.com/dog_rates/status/724049859469295616/photo/1</td>\n",
       "      <td>10</td>\n",
       "      <td>10</td>\n",
       "      <td>Kreggory</td>\n",
       "      <td>None</td>\n",
       "      <td>None</td>\n",
       "      <td>None</td>\n",
       "      <td>None</td>\n",
       "    </tr>\n",
       "    <tr>\n",
       "      <th>653</th>\n",
       "      <td>792050063153438720</td>\n",
       "      <td>NaN</td>\n",
       "      <td>NaN</td>\n",
       "      <td>2016-10-28 17:07:05 +0000</td>\n",
       "      <td>&lt;a href=\"http://twitter.com/download/iphone\" rel=\"nofollow\"&gt;Twitter for iPhone&lt;/a&gt;</td>\n",
       "      <td>This is Remus. He's a mop that came to life. Can't see anything. Constantly trips over himself. Still a very good dog. 11/10 https://t.co/S3f1SYylzu</td>\n",
       "      <td>NaN</td>\n",
       "      <td>NaN</td>\n",
       "      <td>NaN</td>\n",
       "      <td>https://twitter.com/dog_rates/status/792050063153438720/photo/1,https://twitter.com/dog_rates/status/792050063153438720/photo/1</td>\n",
       "      <td>11</td>\n",
       "      <td>10</td>\n",
       "      <td>Remus</td>\n",
       "      <td>None</td>\n",
       "      <td>None</td>\n",
       "      <td>None</td>\n",
       "      <td>None</td>\n",
       "    </tr>\n",
       "  </tbody>\n",
       "</table>\n",
       "</div>"
      ],
      "text/plain": [
       "                tweet_id  in_reply_to_status_id  in_reply_to_user_id  \\\n",
       "1626  684800227459624960 NaN                    NaN                    \n",
       "998   748307329658011649 NaN                    NaN                    \n",
       "1346  704480331685040129 NaN                    NaN                    \n",
       "1158  724049859469295616 NaN                    NaN                    \n",
       "653   792050063153438720 NaN                    NaN                    \n",
       "\n",
       "                      timestamp  \\\n",
       "1626  2016-01-06 18:14:31 +0000   \n",
       "998   2016-06-30 00:09:04 +0000   \n",
       "1346  2016-03-01 01:36:14 +0000   \n",
       "1158  2016-04-24 01:38:33 +0000   \n",
       "653   2016-10-28 17:07:05 +0000   \n",
       "\n",
       "                                                                                  source  \\\n",
       "1626  <a href=\"http://twitter.com/download/iphone\" rel=\"nofollow\">Twitter for iPhone</a>   \n",
       "998   <a href=\"http://twitter.com/download/iphone\" rel=\"nofollow\">Twitter for iPhone</a>   \n",
       "1346  <a href=\"http://twitter.com/download/iphone\" rel=\"nofollow\">Twitter for iPhone</a>   \n",
       "1158  <a href=\"http://twitter.com/download/iphone\" rel=\"nofollow\">Twitter for iPhone</a>   \n",
       "653   <a href=\"http://twitter.com/download/iphone\" rel=\"nofollow\">Twitter for iPhone</a>   \n",
       "\n",
       "                                                                                                                                                      text  \\\n",
       "1626  Meet Theodore. He's dapper as hell. Probably owns horses. Uses 'summer' as a verb. Often quotes philosophers. 11/10 https://t.co/J3Ld4fRbSy            \n",
       "998   This sherk must've leapt out of the water and into the canoe, trapping the human. Won't even help paddle smh. 7/10 https://t.co/KubWEqOIgO             \n",
       "1346  Meet Lucia. She's a Cumulonimbus Floofmallow. Only has two legs tho (unfortunate). 11/10 would definitely still pet https://t.co/qv6qlEUCEe            \n",
       "1158  This is Kreggory. He just took a look at his student debt. 10/10 can't even comprehend it https://t.co/XTsZTgilnT                                      \n",
       "653   This is Remus. He's a mop that came to life. Can't see anything. Constantly trips over himself. Still a very good dog. 11/10 https://t.co/S3f1SYylzu   \n",
       "\n",
       "      retweeted_status_id  retweeted_status_user_id  \\\n",
       "1626 NaN                  NaN                         \n",
       "998  NaN                  NaN                         \n",
       "1346 NaN                  NaN                         \n",
       "1158 NaN                  NaN                         \n",
       "653  NaN                  NaN                         \n",
       "\n",
       "     retweeted_status_timestamp  \\\n",
       "1626  NaN                         \n",
       "998   NaN                         \n",
       "1346  NaN                         \n",
       "1158  NaN                         \n",
       "653   NaN                         \n",
       "\n",
       "                                                                                                                        expanded_urls  \\\n",
       "1626  https://twitter.com/dog_rates/status/684800227459624960/photo/1                                                                   \n",
       "998   https://twitter.com/dog_rates/status/748307329658011649/photo/1,https://twitter.com/dog_rates/status/748307329658011649/photo/1   \n",
       "1346  https://twitter.com/dog_rates/status/704480331685040129/photo/1                                                                   \n",
       "1158  https://twitter.com/dog_rates/status/724049859469295616/photo/1                                                                   \n",
       "653   https://twitter.com/dog_rates/status/792050063153438720/photo/1,https://twitter.com/dog_rates/status/792050063153438720/photo/1   \n",
       "\n",
       "      rating_numerator  rating_denominator      name doggo floofer pupper  \\\n",
       "1626  11                10                  Theodore  None  None    None    \n",
       "998   7                 10                  None      None  None    None    \n",
       "1346  11                10                  Lucia     None  None    None    \n",
       "1158  10                10                  Kreggory  None  None    None    \n",
       "653   11                10                  Remus     None  None    None    \n",
       "\n",
       "     puppo  \n",
       "1626  None  \n",
       "998   None  \n",
       "1346  None  \n",
       "1158  None  \n",
       "653   None  "
      ]
     },
     "execution_count": 426,
     "metadata": {},
     "output_type": "execute_result"
    }
   ],
   "source": [
    "df.sample(5)"
   ]
  },
  {
   "cell_type": "markdown",
   "metadata": {},
   "source": [
    "df columns\n",
    "\n",
    "- **tweet_id**: the unique identifier for each tweet\n",
    "\n",
    "- **in_reply_to_status_id**: if the represented Tweet is a reply, this field will contain the integer representation of the original Tweet’s ID\n",
    "- **in_reply_to_user_id**: if the represented Tweet is a reply, this field will contain the integer representation of the original Tweet’s author ID\n",
    "- **timestamp**: time when this Tweet was created\n",
    "- **source**: utility used to post the Tweet, as an HTML-formatted string. e.g. Twitter for Android, Twitter for iPhone, Twitter Web Client\n",
    "- **text**: actual UTF-8 text of the status update\n",
    "- **retweeted_status_id**: if the represented Tweet is a retweet, this field will contain the integer representation of the original Tweet’s ID\n",
    "- **retweeted_status_user_id**: if the represented Tweet is a retweet, this field will contain the integer representation of the original Tweet’s author ID\n",
    "- **retweeted_status_timestamp**: time of retweet\n",
    "- **expanded_urls**: tweet URL\n",
    "- **rating_numerator**: numerator of the rating of a dog. Note: ratings almost always greater than 10\n",
    "- **rating_denominator**: denominator of the rating of a dog. Note: ratings almost always have a denominator of 10\n",
    "- **name**: name of the dog\n",
    "- **doggo**: one of the 4 dog \"stage\"\n",
    "- **floofer**: one of the 4 dog \"stage\"\n",
    "- **pupper**: one of the 4 dog \"stage\"\n",
    "- **puppo**: one of the 4 dog \"stage\""
   ]
  },
  {
   "cell_type": "code",
   "execution_count": 427,
   "metadata": {},
   "outputs": [
    {
     "name": "stdout",
     "output_type": "stream",
     "text": [
      "<class 'pandas.core.frame.DataFrame'>\n",
      "RangeIndex: 2356 entries, 0 to 2355\n",
      "Data columns (total 17 columns):\n",
      "tweet_id                      2356 non-null int64\n",
      "in_reply_to_status_id         78 non-null float64\n",
      "in_reply_to_user_id           78 non-null float64\n",
      "timestamp                     2356 non-null object\n",
      "source                        2356 non-null object\n",
      "text                          2356 non-null object\n",
      "retweeted_status_id           181 non-null float64\n",
      "retweeted_status_user_id      181 non-null float64\n",
      "retweeted_status_timestamp    181 non-null object\n",
      "expanded_urls                 2297 non-null object\n",
      "rating_numerator              2356 non-null int64\n",
      "rating_denominator            2356 non-null int64\n",
      "name                          2356 non-null object\n",
      "doggo                         2356 non-null object\n",
      "floofer                       2356 non-null object\n",
      "pupper                        2356 non-null object\n",
      "puppo                         2356 non-null object\n",
      "dtypes: float64(4), int64(3), object(10)\n",
      "memory usage: 313.0+ KB\n"
     ]
    }
   ],
   "source": [
    "df.info()"
   ]
  },
  {
   "cell_type": "code",
   "execution_count": 428,
   "metadata": {},
   "outputs": [
    {
     "data": {
      "text/plain": [
       "tweet_id                      0   \n",
       "in_reply_to_status_id         2278\n",
       "in_reply_to_user_id           2278\n",
       "timestamp                     0   \n",
       "source                        0   \n",
       "text                          0   \n",
       "retweeted_status_id           2175\n",
       "retweeted_status_user_id      2175\n",
       "retweeted_status_timestamp    2175\n",
       "expanded_urls                 59  \n",
       "rating_numerator              0   \n",
       "rating_denominator            0   \n",
       "name                          0   \n",
       "doggo                         0   \n",
       "floofer                       0   \n",
       "pupper                        0   \n",
       "puppo                         0   \n",
       "dtype: int64"
      ]
     },
     "execution_count": 428,
     "metadata": {},
     "output_type": "execute_result"
    }
   ],
   "source": [
    "# total missing values for each features\n",
    "df.isnull().sum()"
   ]
  },
  {
   "cell_type": "code",
   "execution_count": 429,
   "metadata": {},
   "outputs": [
    {
     "data": {
      "image/png": "[encoded data removed]",
      "text/plain": [
       "<matplotlib.figure.Figure at 0x1eecb845828>"
      ]
     },
     "metadata": {},
     "output_type": "display_data"
    }
   ],
   "source": [
    "sns.heatmap(df.isnull(),yticklabels=False,cbar=False,cmap='viridis');"
   ]
  },
  {
   "cell_type": "markdown",
   "metadata": {},
   "source": [
    "in_reply_to_status_id, in_reply_to_user_id,retweeted_status_id, retweeted_status_user_id, retweeted_status_timestamp have a lot of missing values as shown above.\n",
    "\n",
    "expanded_urls also has a few missing values."
   ]
  },
  {
   "cell_type": "code",
   "execution_count": 430,
   "metadata": {},
   "outputs": [
    {
     "data": {
      "text/html": [
       "<div>\n",
       "<style scoped>\n",
       "    .dataframe tbody tr th:only-of-type {\n",
       "        vertical-align: middle;\n",
       "    }\n",
       "\n",
       "    .dataframe tbody tr th {\n",
       "        vertical-align: top;\n",
       "    }\n",
       "\n",
       "    .dataframe thead th {\n",
       "        text-align: right;\n",
       "    }\n",
       "</style>\n",
       "<table border=\"1\" class=\"dataframe\">\n",
       "  <thead>\n",
       "    <tr style=\"text-align: right;\">\n",
       "      <th></th>\n",
       "      <th>tweet_id</th>\n",
       "      <th>jpg_url</th>\n",
       "      <th>img_num</th>\n",
       "      <th>p1</th>\n",
       "      <th>p1_conf</th>\n",
       "      <th>p1_dog</th>\n",
       "      <th>p2</th>\n",
       "      <th>p2_conf</th>\n",
       "      <th>p2_dog</th>\n",
       "      <th>p3</th>\n",
       "      <th>p3_conf</th>\n",
       "      <th>p3_dog</th>\n",
       "    </tr>\n",
       "  </thead>\n",
       "  <tbody>\n",
       "    <tr>\n",
       "      <th>0</th>\n",
       "      <td>666020888022790149</td>\n",
       "      <td>https://pbs.twimg.com/media/CT4udn0WwAA0aMy.jpg</td>\n",
       "      <td>1</td>\n",
       "      <td>Welsh_springer_spaniel</td>\n",
       "      <td>0.465074</td>\n",
       "      <td>True</td>\n",
       "      <td>collie</td>\n",
       "      <td>0.156665</td>\n",
       "      <td>True</td>\n",
       "      <td>Shetland_sheepdog</td>\n",
       "      <td>0.061428</td>\n",
       "      <td>True</td>\n",
       "    </tr>\n",
       "    <tr>\n",
       "      <th>1</th>\n",
       "      <td>666029285002620928</td>\n",
       "      <td>https://pbs.twimg.com/media/CT42GRgUYAA5iDo.jpg</td>\n",
       "      <td>1</td>\n",
       "      <td>redbone</td>\n",
       "      <td>0.506826</td>\n",
       "      <td>True</td>\n",
       "      <td>miniature_pinscher</td>\n",
       "      <td>0.074192</td>\n",
       "      <td>True</td>\n",
       "      <td>Rhodesian_ridgeback</td>\n",
       "      <td>0.072010</td>\n",
       "      <td>True</td>\n",
       "    </tr>\n",
       "    <tr>\n",
       "      <th>2</th>\n",
       "      <td>666033412701032449</td>\n",
       "      <td>https://pbs.twimg.com/media/CT4521TWwAEvMyu.jpg</td>\n",
       "      <td>1</td>\n",
       "      <td>German_shepherd</td>\n",
       "      <td>0.596461</td>\n",
       "      <td>True</td>\n",
       "      <td>malinois</td>\n",
       "      <td>0.138584</td>\n",
       "      <td>True</td>\n",
       "      <td>bloodhound</td>\n",
       "      <td>0.116197</td>\n",
       "      <td>True</td>\n",
       "    </tr>\n",
       "    <tr>\n",
       "      <th>3</th>\n",
       "      <td>666044226329800704</td>\n",
       "      <td>https://pbs.twimg.com/media/CT5Dr8HUEAA-lEu.jpg</td>\n",
       "      <td>1</td>\n",
       "      <td>Rhodesian_ridgeback</td>\n",
       "      <td>0.408143</td>\n",
       "      <td>True</td>\n",
       "      <td>redbone</td>\n",
       "      <td>0.360687</td>\n",
       "      <td>True</td>\n",
       "      <td>miniature_pinscher</td>\n",
       "      <td>0.222752</td>\n",
       "      <td>True</td>\n",
       "    </tr>\n",
       "    <tr>\n",
       "      <th>4</th>\n",
       "      <td>666049248165822465</td>\n",
       "      <td>https://pbs.twimg.com/media/CT5IQmsXIAAKY4A.jpg</td>\n",
       "      <td>1</td>\n",
       "      <td>miniature_pinscher</td>\n",
       "      <td>0.560311</td>\n",
       "      <td>True</td>\n",
       "      <td>Rottweiler</td>\n",
       "      <td>0.243682</td>\n",
       "      <td>True</td>\n",
       "      <td>Doberman</td>\n",
       "      <td>0.154629</td>\n",
       "      <td>True</td>\n",
       "    </tr>\n",
       "  </tbody>\n",
       "</table>\n",
       "</div>"
      ],
      "text/plain": [
       "             tweet_id                                          jpg_url  \\\n",
       "0  666020888022790149  https://pbs.twimg.com/media/CT4udn0WwAA0aMy.jpg   \n",
       "1  666029285002620928  https://pbs.twimg.com/media/CT42GRgUYAA5iDo.jpg   \n",
       "2  666033412701032449  https://pbs.twimg.com/media/CT4521TWwAEvMyu.jpg   \n",
       "3  666044226329800704  https://pbs.twimg.com/media/CT5Dr8HUEAA-lEu.jpg   \n",
       "4  666049248165822465  https://pbs.twimg.com/media/CT5IQmsXIAAKY4A.jpg   \n",
       "\n",
       "   img_num                      p1   p1_conf  p1_dog                  p2  \\\n",
       "0  1        Welsh_springer_spaniel  0.465074  True    collie               \n",
       "1  1        redbone                 0.506826  True    miniature_pinscher   \n",
       "2  1        German_shepherd         0.596461  True    malinois             \n",
       "3  1        Rhodesian_ridgeback     0.408143  True    redbone              \n",
       "4  1        miniature_pinscher      0.560311  True    Rottweiler           \n",
       "\n",
       "    p2_conf  p2_dog                   p3   p3_conf  p3_dog  \n",
       "0  0.156665  True    Shetland_sheepdog    0.061428  True    \n",
       "1  0.074192  True    Rhodesian_ridgeback  0.072010  True    \n",
       "2  0.138584  True    bloodhound           0.116197  True    \n",
       "3  0.360687  True    miniature_pinscher   0.222752  True    \n",
       "4  0.243682  True    Doberman             0.154629  True    "
      ]
     },
     "execution_count": 430,
     "metadata": {},
     "output_type": "execute_result"
    }
   ],
   "source": [
    "img_df.head()"
   ]
  },
  {
   "cell_type": "markdown",
   "metadata": {},
   "source": [
    "img_df` (tweet image predictions) columns:\n",
    "    \n",
    "- **tweet_id**: the unique identifier for each tweet\n",
    "- **jpg_url**: dog's image URL\n",
    "- **img_num**: the image number that corresponded to the most confident prediction (numbered 1 to 4 since tweets can have up to four images)\n",
    "- **p1**: algorithm's #1 prediction for the image in the tweet\n",
    "- **p1_conf**: how confident the algorithm is in its #1 prediction\n",
    "- **p1_dog**: whether or not the #1 prediction is a breed of dog\n",
    "- **p2**: algorithm's #2 prediction for the image in the tweet\n",
    "- **p2_conf**: how confident the algorithm is in its #2 prediction\n",
    "- **p2_dog**: whether or not the #2 prediction is a breed of dog\n",
    "- **p3**: algorithm's #3 prediction for the image in the tweet\n",
    "- **p3_conf**: how confident the algorithm is in its #3 prediction\n",
    "- **p3_dog**: whether or not the #3 prediction is a breed of dog"
   ]
  },
  {
   "cell_type": "code",
   "execution_count": 431,
   "metadata": {},
   "outputs": [
    {
     "name": "stdout",
     "output_type": "stream",
     "text": [
      "<class 'pandas.core.frame.DataFrame'>\n",
      "RangeIndex: 2075 entries, 0 to 2074\n",
      "Data columns (total 12 columns):\n",
      "tweet_id    2075 non-null int64\n",
      "jpg_url     2075 non-null object\n",
      "img_num     2075 non-null int64\n",
      "p1          2075 non-null object\n",
      "p1_conf     2075 non-null float64\n",
      "p1_dog      2075 non-null bool\n",
      "p2          2075 non-null object\n",
      "p2_conf     2075 non-null float64\n",
      "p2_dog      2075 non-null bool\n",
      "p3          2075 non-null object\n",
      "p3_conf     2075 non-null float64\n",
      "p3_dog      2075 non-null bool\n",
      "dtypes: bool(3), float64(3), int64(2), object(4)\n",
      "memory usage: 152.1+ KB\n"
     ]
    }
   ],
   "source": [
    "img_df.info()"
   ]
  },
  {
   "cell_type": "code",
   "execution_count": 432,
   "metadata": {},
   "outputs": [
    {
     "data": {
      "text/html": [
       "<div>\n",
       "<style scoped>\n",
       "    .dataframe tbody tr th:only-of-type {\n",
       "        vertical-align: middle;\n",
       "    }\n",
       "\n",
       "    .dataframe tbody tr th {\n",
       "        vertical-align: top;\n",
       "    }\n",
       "\n",
       "    .dataframe thead th {\n",
       "        text-align: right;\n",
       "    }\n",
       "</style>\n",
       "<table border=\"1\" class=\"dataframe\">\n",
       "  <thead>\n",
       "    <tr style=\"text-align: right;\">\n",
       "      <th></th>\n",
       "      <th>tweet_id</th>\n",
       "      <th>retweet_count</th>\n",
       "      <th>favorite_count</th>\n",
       "      <th>display_text_range</th>\n",
       "    </tr>\n",
       "  </thead>\n",
       "  <tbody>\n",
       "    <tr>\n",
       "      <th>1797</th>\n",
       "      <td>677187300187611136</td>\n",
       "      <td>1033</td>\n",
       "      <td>2981</td>\n",
       "      <td>[0, 139]</td>\n",
       "    </tr>\n",
       "    <tr>\n",
       "      <th>833</th>\n",
       "      <td>768193404517830656</td>\n",
       "      <td>4080</td>\n",
       "      <td>12157</td>\n",
       "      <td>[0, 115]</td>\n",
       "    </tr>\n",
       "    <tr>\n",
       "      <th>1380</th>\n",
       "      <td>700864154249383937</td>\n",
       "      <td>685</td>\n",
       "      <td>2828</td>\n",
       "      <td>[0, 104]</td>\n",
       "    </tr>\n",
       "    <tr>\n",
       "      <th>754</th>\n",
       "      <td>778748913645780993</td>\n",
       "      <td>1562</td>\n",
       "      <td>7717</td>\n",
       "      <td>[0, 85]</td>\n",
       "    </tr>\n",
       "    <tr>\n",
       "      <th>766</th>\n",
       "      <td>777641927919427584</td>\n",
       "      <td>4947</td>\n",
       "      <td>0</td>\n",
       "      <td>[0, 102]</td>\n",
       "    </tr>\n",
       "  </tbody>\n",
       "</table>\n",
       "</div>"
      ],
      "text/plain": [
       "                tweet_id  retweet_count  favorite_count display_text_range\n",
       "1797  677187300187611136  1033           2981            [0, 139]         \n",
       "833   768193404517830656  4080           12157           [0, 115]         \n",
       "1380  700864154249383937  685            2828            [0, 104]         \n",
       "754   778748913645780993  1562           7717            [0, 85]          \n",
       "766   777641927919427584  4947           0               [0, 102]         "
      ]
     },
     "execution_count": 432,
     "metadata": {},
     "output_type": "execute_result"
    }
   ],
   "source": [
    "status_df.sample(5)"
   ]
  },
  {
   "cell_type": "markdown",
   "metadata": {},
   "source": [
    "status_df (tweet status) columns:\n",
    "\n",
    "- **id**: the unique identifier for each tweet\n",
    "- **retweet_count**: number of times this Tweet has been retweeted\n",
    "- **favorite_count**: indicates approximately how many times this Tweet has been liked by Twitter users\n",
    "- **display_text_range**: an array of two unicode code point indices, identifying the inclusive start and exclusive end of the displayable content of the Tweet"
   ]
  },
  {
   "cell_type": "code",
   "execution_count": 433,
   "metadata": {},
   "outputs": [
    {
     "name": "stdout",
     "output_type": "stream",
     "text": [
      "<class 'pandas.core.frame.DataFrame'>\n",
      "RangeIndex: 2354 entries, 0 to 2353\n",
      "Data columns (total 4 columns):\n",
      "tweet_id              2354 non-null int64\n",
      "retweet_count         2354 non-null int64\n",
      "favorite_count        2354 non-null int64\n",
      "display_text_range    2354 non-null object\n",
      "dtypes: int64(3), object(1)\n",
      "memory usage: 73.6+ KB\n"
     ]
    }
   ],
   "source": [
    "status_df.info()"
   ]
  },
  {
   "cell_type": "markdown",
   "metadata": {},
   "source": [
    "### Assessing data quality"
   ]
  },
  {
   "cell_type": "markdown",
   "metadata": {},
   "source": [
    "> **df**"
   ]
  },
  {
   "cell_type": "code",
   "execution_count": 434,
   "metadata": {},
   "outputs": [
    {
     "data": {
      "text/plain": [
       "0      1   \n",
       "2      1   \n",
       "7      1   \n",
       "10     2333\n",
       "11     3   \n",
       "15     1   \n",
       "16     1   \n",
       "20     2   \n",
       "40     1   \n",
       "50     3   \n",
       "70     1   \n",
       "80     2   \n",
       "90     1   \n",
       "110    1   \n",
       "120    1   \n",
       "130    1   \n",
       "150    1   \n",
       "170    1   \n",
       "Name: rating_denominator, dtype: int64"
      ]
     },
     "execution_count": 434,
     "metadata": {},
     "output_type": "execute_result"
    }
   ],
   "source": [
    "df['rating_denominator'].value_counts().sort_index()"
   ]
  },
  {
   "cell_type": "code",
   "execution_count": 435,
   "metadata": {},
   "outputs": [
    {
     "data": {
      "text/plain": [
       "0       2  \n",
       "1       9  \n",
       "2       9  \n",
       "3       19 \n",
       "4       17 \n",
       "5       37 \n",
       "6       32 \n",
       "7       55 \n",
       "8       102\n",
       "9       158\n",
       "10      461\n",
       "11      464\n",
       "12      558\n",
       "13      351\n",
       "14      54 \n",
       "15      2  \n",
       "17      1  \n",
       "20      1  \n",
       "24      1  \n",
       "26      1  \n",
       "27      1  \n",
       "44      1  \n",
       "45      1  \n",
       "50      1  \n",
       "60      1  \n",
       "75      2  \n",
       "80      1  \n",
       "84      1  \n",
       "88      1  \n",
       "99      1  \n",
       "121     1  \n",
       "143     1  \n",
       "144     1  \n",
       "165     1  \n",
       "182     1  \n",
       "204     1  \n",
       "420     2  \n",
       "666     1  \n",
       "960     1  \n",
       "1776    1  \n",
       "Name: rating_numerator, dtype: int64"
      ]
     },
     "execution_count": 435,
     "metadata": {},
     "output_type": "execute_result"
    }
   ],
   "source": [
    "df['rating_numerator'].value_counts().sort_index()"
   ]
  },
  {
   "cell_type": "code",
   "execution_count": 436,
   "metadata": {},
   "outputs": [
    {
     "data": {
      "text/plain": [
       "1944    Riley   \n",
       "19      Canela  \n",
       "2283    Joshwa  \n",
       "2323    None    \n",
       "1659    None    \n",
       "1919    Bob     \n",
       "2296    Clybe   \n",
       "1307    Finnegus\n",
       "2301    None    \n",
       "1371    None    \n",
       "Name: name, dtype: object"
      ]
     },
     "execution_count": 436,
     "metadata": {},
     "output_type": "execute_result"
    }
   ],
   "source": [
    "df['name'].sample(10)"
   ]
  },
  {
   "cell_type": "markdown",
   "metadata": {},
   "source": [
    "### Enlisting quality issues identified in df table\n",
    "\n",
    "-  many tweet_id(s) of df table are missing in img_df (image predictions) table\n",
    "- lots of missing values in \"in_reply_to_status_id\", \"in_reply_to_user_id\", \"retweeted_status_id\", \"retweeted_status_user_id\", \"retweeted_status_timestamp\" variables.\n",
    "- contains retweets and therefore, duplicates\n",
    "- Incorrect datatype of \"timestamp\" variable.\n",
    "- The value in rating_denominator should be always 10. But some other values are also present.\n",
    "- rating_numerator almost always greater than 10; but some records have values less than 10\n",
    "- Outliers present in rating_numerator(e.g.1776)\n",
    "- Inconsistent pattern in the values in name column \n",
    "- some of the values in name column are incorrect e.g \"his\", \"a\", \"an\", \"actually\",\"by\"\n"
   ]
  },
  {
   "cell_type": "markdown",
   "metadata": {},
   "source": [
    "> **img_df**"
   ]
  },
  {
   "cell_type": "markdown",
   "metadata": {},
   "source": [
    "- has only 2075 rows while df has 2376 rows indicating that we do not have images of certain tweet_ids\n",
    "- Inconsistent pattern in values in p1, p2, p3 variables (first letter is in upper case and sometimes in lower case)\n"
   ]
  },
  {
   "cell_type": "markdown",
   "metadata": {},
   "source": [
    "### > Tidiness Issues"
   ]
  },
  {
   "cell_type": "markdown",
   "metadata": {},
   "source": [
    "- Columns 'doggo', 'floofer', 'pupper', 'puppo' in df should be in one column – stage\n",
    "- img_df table should be merged with df on tweet_id\n",
    "- status_df table should be merged with df on tweet_id"
   ]
  },
  {
   "cell_type": "markdown",
   "metadata": {},
   "source": [
    "### Cleaning the data"
   ]
  },
  {
   "cell_type": "code",
   "execution_count": 437,
   "metadata": {},
   "outputs": [],
   "source": [
    "# creating a copy of tables before cleaning tasks are performed\n",
    "df_clean = df.copy()\n",
    "img_df_copy = img_df.copy()\n",
    "status_df_copy = status_df.copy()"
   ]
  },
  {
   "cell_type": "markdown",
   "metadata": {},
   "source": [
    "**df_clean: many tweet_id(s) of df_clean table are missing in img_df (image predictions) table**"
   ]
  },
  {
   "cell_type": "markdown",
   "metadata": {},
   "source": [
    "**Define**"
   ]
  },
  {
   "cell_type": "markdown",
   "metadata": {},
   "source": [
    "Keep only those records in df_clean table whose tweet_id exists in img_df table"
   ]
  },
  {
   "cell_type": "markdown",
   "metadata": {},
   "source": [
    "**Code**"
   ]
  },
  {
   "cell_type": "code",
   "execution_count": 438,
   "metadata": {},
   "outputs": [],
   "source": [
    "df_clean = df_clean[df_clean['tweet_id'].isin(img_df['tweet_id'])]"
   ]
  },
  {
   "cell_type": "markdown",
   "metadata": {},
   "source": [
    "**Test**"
   ]
  },
  {
   "cell_type": "code",
   "execution_count": 439,
   "metadata": {},
   "outputs": [
    {
     "name": "stdout",
     "output_type": "stream",
     "text": [
      "<class 'pandas.core.frame.DataFrame'>\n",
      "RangeIndex: 2075 entries, 0 to 2074\n",
      "Data columns (total 12 columns):\n",
      "tweet_id    2075 non-null int64\n",
      "jpg_url     2075 non-null object\n",
      "img_num     2075 non-null int64\n",
      "p1          2075 non-null object\n",
      "p1_conf     2075 non-null float64\n",
      "p1_dog      2075 non-null bool\n",
      "p2          2075 non-null object\n",
      "p2_conf     2075 non-null float64\n",
      "p2_dog      2075 non-null bool\n",
      "p3          2075 non-null object\n",
      "p3_conf     2075 non-null float64\n",
      "p3_dog      2075 non-null bool\n",
      "dtypes: bool(3), float64(3), int64(2), object(4)\n",
      "memory usage: 152.1+ KB\n"
     ]
    }
   ],
   "source": [
    "img_df.info()"
   ]
  },
  {
   "cell_type": "code",
   "execution_count": 440,
   "metadata": {},
   "outputs": [
    {
     "name": "stdout",
     "output_type": "stream",
     "text": [
      "<class 'pandas.core.frame.DataFrame'>\n",
      "Int64Index: 2075 entries, 0 to 2355\n",
      "Data columns (total 17 columns):\n",
      "tweet_id                      2075 non-null int64\n",
      "in_reply_to_status_id         23 non-null float64\n",
      "in_reply_to_user_id           23 non-null float64\n",
      "timestamp                     2075 non-null object\n",
      "source                        2075 non-null object\n",
      "text                          2075 non-null object\n",
      "retweeted_status_id           81 non-null float64\n",
      "retweeted_status_user_id      81 non-null float64\n",
      "retweeted_status_timestamp    81 non-null object\n",
      "expanded_urls                 2075 non-null object\n",
      "rating_numerator              2075 non-null int64\n",
      "rating_denominator            2075 non-null int64\n",
      "name                          2075 non-null object\n",
      "doggo                         2075 non-null object\n",
      "floofer                       2075 non-null object\n",
      "pupper                        2075 non-null object\n",
      "puppo                         2075 non-null object\n",
      "dtypes: float64(4), int64(3), object(10)\n",
      "memory usage: 291.8+ KB\n"
     ]
    }
   ],
   "source": [
    "#df_clean should also now have only 2075 tweet_id(s)\n",
    "df_clean.info()"
   ]
  },
  {
   "cell_type": "markdown",
   "metadata": {},
   "source": [
    "**df_clean: contains retweets and therefore, duplicates**"
   ]
  },
  {
   "cell_type": "markdown",
   "metadata": {},
   "source": [
    "**Define**"
   ]
  },
  {
   "cell_type": "markdown",
   "metadata": {},
   "source": [
    "Keep only those rows in df_clean that are original tweets and NOT retweets (i.e. rows where retweeted_status_id column is null)"
   ]
  },
  {
   "cell_type": "markdown",
   "metadata": {},
   "source": [
    "**Code**"
   ]
  },
  {
   "cell_type": "code",
   "execution_count": 441,
   "metadata": {},
   "outputs": [],
   "source": [
    "df_clean = df_clean[df_clean['retweeted_status_id'].isnull()]"
   ]
  },
  {
   "cell_type": "code",
   "execution_count": 442,
   "metadata": {},
   "outputs": [
    {
     "name": "stdout",
     "output_type": "stream",
     "text": [
      "<class 'pandas.core.frame.DataFrame'>\n",
      "Int64Index: 1994 entries, 0 to 2355\n",
      "Data columns (total 17 columns):\n",
      "tweet_id                      1994 non-null int64\n",
      "in_reply_to_status_id         23 non-null float64\n",
      "in_reply_to_user_id           23 non-null float64\n",
      "timestamp                     1994 non-null object\n",
      "source                        1994 non-null object\n",
      "text                          1994 non-null object\n",
      "retweeted_status_id           0 non-null float64\n",
      "retweeted_status_user_id      0 non-null float64\n",
      "retweeted_status_timestamp    0 non-null object\n",
      "expanded_urls                 1994 non-null object\n",
      "rating_numerator              1994 non-null int64\n",
      "rating_denominator            1994 non-null int64\n",
      "name                          1994 non-null object\n",
      "doggo                         1994 non-null object\n",
      "floofer                       1994 non-null object\n",
      "pupper                        1994 non-null object\n",
      "puppo                         1994 non-null object\n",
      "dtypes: float64(4), int64(3), object(10)\n",
      "memory usage: 280.4+ KB\n"
     ]
    }
   ],
   "source": [
    "df_clean.info()"
   ]
  },
  {
   "cell_type": "markdown",
   "metadata": {},
   "source": [
    "**Test**"
   ]
  },
  {
   "cell_type": "code",
   "execution_count": 443,
   "metadata": {},
   "outputs": [
    {
     "data": {
      "text/plain": [
       "0"
      ]
     },
     "execution_count": 443,
     "metadata": {},
     "output_type": "execute_result"
    }
   ],
   "source": [
    "len(df_clean[df_clean['retweeted_status_id'].isnull() == False])"
   ]
  },
  {
   "cell_type": "markdown",
   "metadata": {},
   "source": [
    "**retweeted_status_id, retweeted_status_user_id , retweeted_status_timestamp in df_clean have no values now. Hence can be dropped.**"
   ]
  },
  {
   "cell_type": "markdown",
   "metadata": {},
   "source": [
    "**Define**"
   ]
  },
  {
   "cell_type": "markdown",
   "metadata": {},
   "source": [
    "Drop retweeted_status_id, retweeted_status_user_id , retweeted_status_timestamp from df_clean"
   ]
  },
  {
   "cell_type": "markdown",
   "metadata": {},
   "source": [
    "**Code**"
   ]
  },
  {
   "cell_type": "code",
   "execution_count": 444,
   "metadata": {},
   "outputs": [],
   "source": [
    "df_clean = df_clean.drop(['retweeted_status_id', 'retweeted_status_user_id', 'retweeted_status_timestamp'], axis = 1)"
   ]
  },
  {
   "cell_type": "markdown",
   "metadata": {},
   "source": [
    "**Test**"
   ]
  },
  {
   "cell_type": "code",
   "execution_count": 445,
   "metadata": {},
   "outputs": [
    {
     "name": "stdout",
     "output_type": "stream",
     "text": [
      "<class 'pandas.core.frame.DataFrame'>\n",
      "Int64Index: 1994 entries, 0 to 2355\n",
      "Data columns (total 14 columns):\n",
      "tweet_id                 1994 non-null int64\n",
      "in_reply_to_status_id    23 non-null float64\n",
      "in_reply_to_user_id      23 non-null float64\n",
      "timestamp                1994 non-null object\n",
      "source                   1994 non-null object\n",
      "text                     1994 non-null object\n",
      "expanded_urls            1994 non-null object\n",
      "rating_numerator         1994 non-null int64\n",
      "rating_denominator       1994 non-null int64\n",
      "name                     1994 non-null object\n",
      "doggo                    1994 non-null object\n",
      "floofer                  1994 non-null object\n",
      "pupper                   1994 non-null object\n",
      "puppo                    1994 non-null object\n",
      "dtypes: float64(2), int64(3), object(9)\n",
      "memory usage: 233.7+ KB\n"
     ]
    }
   ],
   "source": [
    "df_clean.info()"
   ]
  },
  {
   "cell_type": "code",
   "execution_count": 446,
   "metadata": {},
   "outputs": [
    {
     "data": {
      "text/plain": [
       "0"
      ]
     },
     "execution_count": 446,
     "metadata": {},
     "output_type": "execute_result"
    }
   ],
   "source": [
    "len(df_clean[~df_clean.tweet_id.isin(img_df.tweet_id)])"
   ]
  },
  {
   "cell_type": "markdown",
   "metadata": {},
   "source": [
    "**timestamp variable datatype object makes it unusable for feature engineering.**"
   ]
  },
  {
   "cell_type": "markdown",
   "metadata": {},
   "source": [
    "**Define**"
   ]
  },
  {
   "cell_type": "markdown",
   "metadata": {},
   "source": [
    "Change datatype of timestamp variable to datetime using to_datetime function of pandas"
   ]
  },
  {
   "cell_type": "markdown",
   "metadata": {},
   "source": [
    "**Code**"
   ]
  },
  {
   "cell_type": "code",
   "execution_count": 447,
   "metadata": {},
   "outputs": [],
   "source": [
    "df_clean['timestamp']=pd.to_datetime(df_clean['timestamp'])"
   ]
  },
  {
   "cell_type": "markdown",
   "metadata": {},
   "source": [
    "**Test**"
   ]
  },
  {
   "cell_type": "code",
   "execution_count": 448,
   "metadata": {},
   "outputs": [
    {
     "name": "stdout",
     "output_type": "stream",
     "text": [
      "<class 'pandas.core.frame.DataFrame'>\n",
      "Int64Index: 1994 entries, 0 to 2355\n",
      "Data columns (total 14 columns):\n",
      "tweet_id                 1994 non-null int64\n",
      "in_reply_to_status_id    23 non-null float64\n",
      "in_reply_to_user_id      23 non-null float64\n",
      "timestamp                1994 non-null datetime64[ns]\n",
      "source                   1994 non-null object\n",
      "text                     1994 non-null object\n",
      "expanded_urls            1994 non-null object\n",
      "rating_numerator         1994 non-null int64\n",
      "rating_denominator       1994 non-null int64\n",
      "name                     1994 non-null object\n",
      "doggo                    1994 non-null object\n",
      "floofer                  1994 non-null object\n",
      "pupper                   1994 non-null object\n",
      "puppo                    1994 non-null object\n",
      "dtypes: datetime64[ns](1), float64(2), int64(3), object(8)\n",
      "memory usage: 233.7+ KB\n"
     ]
    }
   ],
   "source": [
    "df_clean.info()"
   ]
  },
  {
   "cell_type": "markdown",
   "metadata": {},
   "source": [
    "**in_reply_to_status_id, in_reply_to_user_id do not appear to be useful for analysis. So need to be dropped**"
   ]
  },
  {
   "cell_type": "markdown",
   "metadata": {},
   "source": [
    "**Define**"
   ]
  },
  {
   "cell_type": "markdown",
   "metadata": {},
   "source": [
    "drop in_reply_to_status_id, in_reply_to_user_id from df_clean"
   ]
  },
  {
   "cell_type": "markdown",
   "metadata": {},
   "source": [
    "**Code**"
   ]
  },
  {
   "cell_type": "code",
   "execution_count": 449,
   "metadata": {},
   "outputs": [],
   "source": [
    "df_clean = df_clean.drop(['in_reply_to_status_id','in_reply_to_user_id'], axis=1)"
   ]
  },
  {
   "cell_type": "markdown",
   "metadata": {},
   "source": [
    "**Test**"
   ]
  },
  {
   "cell_type": "code",
   "execution_count": 450,
   "metadata": {},
   "outputs": [
    {
     "name": "stdout",
     "output_type": "stream",
     "text": [
      "<class 'pandas.core.frame.DataFrame'>\n",
      "Int64Index: 1994 entries, 0 to 2355\n",
      "Data columns (total 12 columns):\n",
      "tweet_id              1994 non-null int64\n",
      "timestamp             1994 non-null datetime64[ns]\n",
      "source                1994 non-null object\n",
      "text                  1994 non-null object\n",
      "expanded_urls         1994 non-null object\n",
      "rating_numerator      1994 non-null int64\n",
      "rating_denominator    1994 non-null int64\n",
      "name                  1994 non-null object\n",
      "doggo                 1994 non-null object\n",
      "floofer               1994 non-null object\n",
      "pupper                1994 non-null object\n",
      "puppo                 1994 non-null object\n",
      "dtypes: datetime64[ns](1), int64(3), object(8)\n",
      "memory usage: 202.5+ KB\n"
     ]
    }
   ],
   "source": [
    "df_clean.info()"
   ]
  },
  {
   "cell_type": "markdown",
   "metadata": {},
   "source": [
    "**source column contains html tags**\n",
    "e.g. <a href=\"\"http://twitter.com/download/iphone\"\" rel=\"\"nofollow\"\">Twitter for ihone</a>"
   ]
  },
  {
   "cell_type": "markdown",
   "metadata": {},
   "source": [
    "**Define**"
   ]
  },
  {
   "cell_type": "markdown",
   "metadata": {},
   "source": [
    "Strip all the html tags from values in source variable. Keep only the text between the tags. "
   ]
  },
  {
   "cell_type": "markdown",
   "metadata": {},
   "source": [
    "**Code**"
   ]
  },
  {
   "cell_type": "code",
   "execution_count": 451,
   "metadata": {},
   "outputs": [],
   "source": [
    "from bs4 import BeautifulSoup"
   ]
  },
  {
   "cell_type": "code",
   "execution_count": 452,
   "metadata": {},
   "outputs": [
    {
     "data": {
      "text/plain": [
       "'<a href=\"http://twitter.com/download/iphone\" rel=\"nofollow\">Twitter for iPhone</a>'"
      ]
     },
     "execution_count": 452,
     "metadata": {},
     "output_type": "execute_result"
    }
   ],
   "source": [
    "df_clean['source'][0]"
   ]
  },
  {
   "cell_type": "code",
   "execution_count": 453,
   "metadata": {},
   "outputs": [
    {
     "data": {
      "text/plain": [
       "'Twitter for iPhone'"
      ]
     },
     "execution_count": 453,
     "metadata": {},
     "output_type": "execute_result"
    }
   ],
   "source": [
    "# Trying get_text() on first value to see if it works\n",
    "BeautifulSoup(df_clean['source'][0], \"lxml\").get_text()"
   ]
  },
  {
   "cell_type": "code",
   "execution_count": 454,
   "metadata": {},
   "outputs": [],
   "source": [
    "# Extracting just the text from the HTML tags and storing in df['clean_source']\n",
    "df_clean['clean_source']=df_clean['source'].apply(lambda x: BeautifulSoup(x, \"lxml\").get_text())"
   ]
  },
  {
   "cell_type": "code",
   "execution_count": 455,
   "metadata": {},
   "outputs": [],
   "source": [
    "# Dropping df['source']\n",
    "df_clean = df_clean.drop('source', axis =1)"
   ]
  },
  {
   "cell_type": "code",
   "execution_count": 456,
   "metadata": {},
   "outputs": [],
   "source": [
    "# renaming clean_source to source\n",
    "df_clean=df_clean.rename(columns ={'clean_source': 'source'})"
   ]
  },
  {
   "cell_type": "code",
   "execution_count": 457,
   "metadata": {},
   "outputs": [],
   "source": [
    "# changing df['source'] to category datatype\n",
    "df_clean['source']=df_clean['source'].astype('category')"
   ]
  },
  {
   "cell_type": "markdown",
   "metadata": {},
   "source": [
    "**Test**"
   ]
  },
  {
   "cell_type": "code",
   "execution_count": 458,
   "metadata": {},
   "outputs": [
    {
     "name": "stdout",
     "output_type": "stream",
     "text": [
      "<class 'pandas.core.frame.DataFrame'>\n",
      "Int64Index: 1994 entries, 0 to 2355\n",
      "Data columns (total 12 columns):\n",
      "tweet_id              1994 non-null int64\n",
      "timestamp             1994 non-null datetime64[ns]\n",
      "text                  1994 non-null object\n",
      "expanded_urls         1994 non-null object\n",
      "rating_numerator      1994 non-null int64\n",
      "rating_denominator    1994 non-null int64\n",
      "name                  1994 non-null object\n",
      "doggo                 1994 non-null object\n",
      "floofer               1994 non-null object\n",
      "pupper                1994 non-null object\n",
      "puppo                 1994 non-null object\n",
      "source                1994 non-null category\n",
      "dtypes: category(1), datetime64[ns](1), int64(3), object(7)\n",
      "memory usage: 189.0+ KB\n"
     ]
    }
   ],
   "source": [
    "# checking if name change and datatype change was successful\n",
    "df_clean.info()"
   ]
  },
  {
   "cell_type": "code",
   "execution_count": 459,
   "metadata": {},
   "outputs": [
    {
     "data": {
      "text/plain": [
       "Twitter for iPhone    1955\n",
       "Twitter Web Client    28  \n",
       "TweetDeck             11  \n",
       "Name: source, dtype: int64"
      ]
     },
     "execution_count": 459,
     "metadata": {},
     "output_type": "execute_result"
    }
   ],
   "source": [
    "df_clean['source'].value_counts()"
   ]
  },
  {
   "cell_type": "markdown",
   "metadata": {},
   "source": [
    "**rating_denominator column has values greater 10 and some less than 10**"
   ]
  },
  {
   "cell_type": "markdown",
   "metadata": {},
   "source": [
    "**Define**"
   ]
  },
  {
   "cell_type": "markdown",
   "metadata": {},
   "source": [
    "values in rating_denominator in some cases are multiples of 10. Keeping only those records where rating_denominator is multiple of 10."
   ]
  },
  {
   "cell_type": "markdown",
   "metadata": {},
   "source": [
    "**Code**"
   ]
  },
  {
   "cell_type": "code",
   "execution_count": 460,
   "metadata": {},
   "outputs": [],
   "source": [
    "# assigning rating_denominator a value of 10 for all rows in df_clean\n",
    "df_clean = df_clean[df_clean['rating_denominator']>=10]"
   ]
  },
  {
   "cell_type": "markdown",
   "metadata": {},
   "source": [
    "**Test**"
   ]
  },
  {
   "cell_type": "code",
   "execution_count": 461,
   "metadata": {},
   "outputs": [
    {
     "data": {
      "text/plain": [
       "10     1976\n",
       "11     2   \n",
       "20     1   \n",
       "40     1   \n",
       "50     3   \n",
       "70     1   \n",
       "80     2   \n",
       "90     1   \n",
       "110    1   \n",
       "120    1   \n",
       "130    1   \n",
       "150    1   \n",
       "170    1   \n",
       "Name: rating_denominator, dtype: int64"
      ]
     },
     "execution_count": 461,
     "metadata": {},
     "output_type": "execute_result"
    }
   ],
   "source": [
    "df_clean['rating_denominator'].value_counts().sort_index()"
   ]
  },
  {
   "cell_type": "code",
   "execution_count": 462,
   "metadata": {},
   "outputs": [
    {
     "data": {
      "text/html": [
       "<div>\n",
       "<style scoped>\n",
       "    .dataframe tbody tr th:only-of-type {\n",
       "        vertical-align: middle;\n",
       "    }\n",
       "\n",
       "    .dataframe tbody tr th {\n",
       "        vertical-align: top;\n",
       "    }\n",
       "\n",
       "    .dataframe thead th {\n",
       "        text-align: right;\n",
       "    }\n",
       "</style>\n",
       "<table border=\"1\" class=\"dataframe\">\n",
       "  <thead>\n",
       "    <tr style=\"text-align: right;\">\n",
       "      <th></th>\n",
       "      <th>text</th>\n",
       "      <th>rating_denominator</th>\n",
       "    </tr>\n",
       "  </thead>\n",
       "  <tbody>\n",
       "    <tr>\n",
       "      <th>1068</th>\n",
       "      <td>After so many requests, this is Bretagne. She was the last surviving 9/11 search dog, and our second ever 14/10. RIP https://t.co/XAVDNDaVgQ</td>\n",
       "      <td>11</td>\n",
       "    </tr>\n",
       "    <tr>\n",
       "      <th>1662</th>\n",
       "      <td>This is Darrel. He just robbed a 7/11 and is in a high speed police chase. Was just spotted by the helicopter 10/10 https://t.co/7EsP8LmSp5</td>\n",
       "      <td>11</td>\n",
       "    </tr>\n",
       "  </tbody>\n",
       "</table>\n",
       "</div>"
      ],
      "text/plain": [
       "                                                                                                                                              text  \\\n",
       "1068  After so many requests, this is Bretagne. She was the last surviving 9/11 search dog, and our second ever 14/10. RIP https://t.co/XAVDNDaVgQ   \n",
       "1662  This is Darrel. He just robbed a 7/11 and is in a high speed police chase. Was just spotted by the helicopter 10/10 https://t.co/7EsP8LmSp5    \n",
       "\n",
       "      rating_denominator  \n",
       "1068  11                  \n",
       "1662  11                  "
      ]
     },
     "execution_count": 462,
     "metadata": {},
     "output_type": "execute_result"
    }
   ],
   "source": [
    "# rating_denominator of 11 was incorrectly parsed. \n",
    "df_clean[df_clean['rating_denominator']==11][['text','rating_denominator']]"
   ]
  },
  {
   "cell_type": "code",
   "execution_count": 463,
   "metadata": {},
   "outputs": [],
   "source": [
    "# changing rating_denominator to 10 for the above rows.\n",
    "df_clean.loc[df_clean['rating_denominator']==11,'rating_denominator']=10"
   ]
  },
  {
   "cell_type": "code",
   "execution_count": 464,
   "metadata": {},
   "outputs": [
    {
     "data": {
      "text/plain": [
       "10     1978\n",
       "20     1   \n",
       "40     1   \n",
       "50     3   \n",
       "70     1   \n",
       "80     2   \n",
       "90     1   \n",
       "110    1   \n",
       "120    1   \n",
       "130    1   \n",
       "150    1   \n",
       "170    1   \n",
       "Name: rating_denominator, dtype: int64"
      ]
     },
     "execution_count": 464,
     "metadata": {},
     "output_type": "execute_result"
    }
   ],
   "source": [
    "df_clean['rating_denominator'].value_counts().sort_index()"
   ]
  },
  {
   "cell_type": "code",
   "execution_count": 465,
   "metadata": {},
   "outputs": [
    {
     "data": {
      "text/plain": [
       "0       2  \n",
       "1       4  \n",
       "2       9  \n",
       "3       19 \n",
       "4       16 \n",
       "5       33 \n",
       "6       32 \n",
       "7       52 \n",
       "8       95 \n",
       "9       151\n",
       "10      419\n",
       "11      396\n",
       "12      450\n",
       "13      261\n",
       "14      35 \n",
       "26      1  \n",
       "27      1  \n",
       "44      1  \n",
       "45      1  \n",
       "50      1  \n",
       "60      1  \n",
       "75      1  \n",
       "80      1  \n",
       "84      1  \n",
       "88      1  \n",
       "99      1  \n",
       "121     1  \n",
       "143     1  \n",
       "144     1  \n",
       "165     1  \n",
       "204     1  \n",
       "420     1  \n",
       "1776    1  \n",
       "Name: rating_numerator, dtype: int64"
      ]
     },
     "execution_count": 465,
     "metadata": {},
     "output_type": "execute_result"
    }
   ],
   "source": [
    "df_clean['rating_numerator'].value_counts().sort_index()"
   ]
  },
  {
   "cell_type": "code",
   "execution_count": 466,
   "metadata": {},
   "outputs": [
    {
     "data": {
      "text/plain": [
       "433     The floofs have been released I repeat the floofs have been released. 84/70 https://t.co/NIYC820tmd                                                              \n",
       "695     This is Logan, the Chow who lived. He solemnly swears he's up to lots of good. H*ckin magical af 9.75/10 https://t.co/yBO5wuqaPS                                 \n",
       "763     This is Sophie. She's a Jubilant Bush Pupper. Super h*ckin rare. Appears at random just to smile at the locals. 11.27/10 would smile back https://t.co/QFaUiIHxHq\n",
       "902     Why does this never happen at my front door... 165/150 https://t.co/HmwrdfEfUE                                                                                   \n",
       "979     This is Atticus. He's quite simply America af. 1776/10 https://t.co/GRXwMxLBkh                                                                                   \n",
       "1120    Say hello to this unbelievably well behaved squad of doggos. 204/170 would try to pet all at once https://t.co/yGQI3He3xv                                        \n",
       "1202    This is Bluebert. He just saw that both #FinalFur match ups are split 50/50. Amazed af. 11/10 https://t.co/Kky1DPG4iq                                            \n",
       "1228    Happy Saturday here's 9 puppers on a bench. 99/90 good work everybody https://t.co/mpvaVxKmc1                                                                    \n",
       "1254    Here's a brigade of puppers. All look very prepared for whatever happens next. 80/80 https://t.co/0eb7R1Om12                                                     \n",
       "1274    From left to right:\\nCletus, Jerome, Alejandro, Burp, &amp; Titson\\nNone know where camera is. 45/50 would hug all at once https://t.co/sedre1ivTK               \n",
       "1351    Here is a whole flock of puppers.  60/50 I'll take the lot https://t.co/9dpcw6MdWa                                                                               \n",
       "1433    Happy Wednesday here's a bucket of pups. 44/40 would pet all at once https://t.co/HppvrYuamZ                                                                     \n",
       "1634    Two sneaky puppers were not initially seen, moving the rating to 143/130. Please forgive us. Thank you https://t.co/kRK51Y5ac3                                   \n",
       "1635    Someone help the girl is being mugged. Several are distracting her while two steal her shoes. Clever puppers 121/110 https://t.co/1zfnTJLt55                     \n",
       "1712    Here we have uncovered an entire battalion of holiday puppers. Average of 11.26/10 https://t.co/eNm2S6p9BD                                                       \n",
       "1779    IT'S PUPPERGEDDON. Total of 144/120 ...I think https://t.co/ZanVtAtvIq                                                                                           \n",
       "1843    Here we have an entire platoon of puppers. Total score: 88/80 would pet all at once https://t.co/y93p6FLvVw                                                      \n",
       "2074    After so many requests... here you go.\\n\\nGood dogg. 420/10 https://t.co/yfAAo1gdeY                                                                              \n",
       "Name: text, dtype: object"
      ]
     },
     "execution_count": 466,
     "metadata": {},
     "output_type": "execute_result"
    }
   ],
   "source": [
    "df_clean.loc[df_clean['rating_numerator']>14]['text']"
   ]
  },
  {
   "cell_type": "markdown",
   "metadata": {},
   "source": [
    "**ratings provided in decimals are not extracted correctly**"
   ]
  },
  {
   "cell_type": "code",
   "execution_count": 467,
   "metadata": {},
   "outputs": [
    {
     "name": "stderr",
     "output_type": "stream",
     "text": [
      "C:\\Users\\aabha.DESKTOP-HG6KK17\\Anaconda3\\lib\\site-packages\\ipykernel_launcher.py:1: UserWarning: This pattern has match groups. To actually get the groups, use str.extract.\n",
      "  \"\"\"Entry point for launching an IPython kernel.\n"
     ]
    },
    {
     "data": {
      "text/html": [
       "<div>\n",
       "<style scoped>\n",
       "    .dataframe tbody tr th:only-of-type {\n",
       "        vertical-align: middle;\n",
       "    }\n",
       "\n",
       "    .dataframe tbody tr th {\n",
       "        vertical-align: top;\n",
       "    }\n",
       "\n",
       "    .dataframe thead th {\n",
       "        text-align: right;\n",
       "    }\n",
       "</style>\n",
       "<table border=\"1\" class=\"dataframe\">\n",
       "  <thead>\n",
       "    <tr style=\"text-align: right;\">\n",
       "      <th></th>\n",
       "      <th>tweet_id</th>\n",
       "      <th>text</th>\n",
       "      <th>rating_numerator</th>\n",
       "    </tr>\n",
       "  </thead>\n",
       "  <tbody>\n",
       "    <tr>\n",
       "      <th>45</th>\n",
       "      <td>883482846933004288</td>\n",
       "      <td>This is Bella. She hopes her smile made you smile. If not, she is also offering you her favorite monkey. 13.5/10 https://t.co/qjrljjt948</td>\n",
       "      <td>5</td>\n",
       "    </tr>\n",
       "    <tr>\n",
       "      <th>695</th>\n",
       "      <td>786709082849828864</td>\n",
       "      <td>This is Logan, the Chow who lived. He solemnly swears he's up to lots of good. H*ckin magical af 9.75/10 https://t.co/yBO5wuqaPS</td>\n",
       "      <td>75</td>\n",
       "    </tr>\n",
       "    <tr>\n",
       "      <th>763</th>\n",
       "      <td>778027034220126208</td>\n",
       "      <td>This is Sophie. She's a Jubilant Bush Pupper. Super h*ckin rare. Appears at random just to smile at the locals. 11.27/10 would smile back https://t.co/QFaUiIHxHq</td>\n",
       "      <td>27</td>\n",
       "    </tr>\n",
       "    <tr>\n",
       "      <th>1712</th>\n",
       "      <td>680494726643068929</td>\n",
       "      <td>Here we have uncovered an entire battalion of holiday puppers. Average of 11.26/10 https://t.co/eNm2S6p9BD</td>\n",
       "      <td>26</td>\n",
       "    </tr>\n",
       "  </tbody>\n",
       "</table>\n",
       "</div>"
      ],
      "text/plain": [
       "                tweet_id  \\\n",
       "45    883482846933004288   \n",
       "695   786709082849828864   \n",
       "763   778027034220126208   \n",
       "1712  680494726643068929   \n",
       "\n",
       "                                                                                                                                                                   text  \\\n",
       "45    This is Bella. She hopes her smile made you smile. If not, she is also offering you her favorite monkey. 13.5/10 https://t.co/qjrljjt948                            \n",
       "695   This is Logan, the Chow who lived. He solemnly swears he's up to lots of good. H*ckin magical af 9.75/10 https://t.co/yBO5wuqaPS                                    \n",
       "763   This is Sophie. She's a Jubilant Bush Pupper. Super h*ckin rare. Appears at random just to smile at the locals. 11.27/10 would smile back https://t.co/QFaUiIHxHq   \n",
       "1712  Here we have uncovered an entire battalion of holiday puppers. Average of 11.26/10 https://t.co/eNm2S6p9BD                                                          \n",
       "\n",
       "      rating_numerator  \n",
       "45    5                 \n",
       "695   75                \n",
       "763   27                \n",
       "1712  26                "
      ]
     },
     "execution_count": 467,
     "metadata": {},
     "output_type": "execute_result"
    }
   ],
   "source": [
    "df_clean[df_clean['text'].str.contains(r\"(\\d+\\.\\d*\\/\\d+)\")][['tweet_id','text','rating_numerator']]\n",
    "\n",
    "# reference: regex provided by project evaluator"
   ]
  },
  {
   "cell_type": "code",
   "execution_count": 468,
   "metadata": {},
   "outputs": [],
   "source": [
    "# re-extracting ratings from text so that values are extracted correctly\n",
    "\n",
    "rating = df_clean.text.str.extract('((?:\\d+\\.)?\\d+)\\/(\\d+)', expand=True)\n",
    "rating.columns = ['rating_numerator', 'rating_denominator']\n",
    "df_clean['rating_numerator'] = rating['rating_numerator'].astype(float)\n",
    "df_clean['rating_denominator'] = rating['rating_denominator'].astype(float)"
   ]
  },
  {
   "cell_type": "code",
   "execution_count": 469,
   "metadata": {},
   "outputs": [
    {
     "data": {
      "text/plain": [
       "0.00       2  \n",
       "1.00       4  \n",
       "2.00       9  \n",
       "3.00       19 \n",
       "4.00       16 \n",
       "5.00       32 \n",
       "6.00       32 \n",
       "7.00       52 \n",
       "8.00       95 \n",
       "9.00       151\n",
       "9.75       1  \n",
       "10.00      419\n",
       "11.00      396\n",
       "11.26      1  \n",
       "11.27      1  \n",
       "12.00      450\n",
       "13.00      261\n",
       "13.50      1  \n",
       "14.00      35 \n",
       "44.00      1  \n",
       "45.00      1  \n",
       "50.00      1  \n",
       "60.00      1  \n",
       "80.00      1  \n",
       "84.00      1  \n",
       "88.00      1  \n",
       "99.00      1  \n",
       "121.00     1  \n",
       "143.00     1  \n",
       "144.00     1  \n",
       "165.00     1  \n",
       "204.00     1  \n",
       "420.00     1  \n",
       "1776.00    1  \n",
       "Name: rating_numerator, dtype: int64"
      ]
     },
     "execution_count": 469,
     "metadata": {},
     "output_type": "execute_result"
    }
   ],
   "source": [
    "df_clean['rating_numerator'].value_counts().sort_index()"
   ]
  },
  {
   "cell_type": "code",
   "execution_count": 470,
   "metadata": {},
   "outputs": [],
   "source": [
    "# deleting outliers\n",
    "df_clean =  df_clean[df_clean['rating_numerator']<420]"
   ]
  },
  {
   "cell_type": "markdown",
   "metadata": {},
   "source": [
    "**Creating a rating column**"
   ]
  },
  {
   "cell_type": "markdown",
   "metadata": {},
   "source": [
    "**Define**"
   ]
  },
  {
   "cell_type": "markdown",
   "metadata": {},
   "source": [
    "rating is calculated as rating_numerator divided by rating_denominator. Drop rating_numerator and rating_denominator"
   ]
  },
  {
   "cell_type": "markdown",
   "metadata": {},
   "source": [
    "**Code**"
   ]
  },
  {
   "cell_type": "code",
   "execution_count": 471,
   "metadata": {},
   "outputs": [],
   "source": [
    "df_clean['rating']=df_clean['rating_numerator']/df_clean['rating_denominator']"
   ]
  },
  {
   "cell_type": "code",
   "execution_count": 472,
   "metadata": {},
   "outputs": [],
   "source": [
    "df_clean = df_clean.drop(['rating_numerator', 'rating_denominator'], axis=1)"
   ]
  },
  {
   "cell_type": "markdown",
   "metadata": {},
   "source": [
    "**Test**"
   ]
  },
  {
   "cell_type": "code",
   "execution_count": 473,
   "metadata": {},
   "outputs": [
    {
     "name": "stdout",
     "output_type": "stream",
     "text": [
      "<class 'pandas.core.frame.DataFrame'>\n",
      "Int64Index: 1990 entries, 0 to 2355\n",
      "Data columns (total 11 columns):\n",
      "tweet_id         1990 non-null int64\n",
      "timestamp        1990 non-null datetime64[ns]\n",
      "text             1990 non-null object\n",
      "expanded_urls    1990 non-null object\n",
      "name             1990 non-null object\n",
      "doggo            1990 non-null object\n",
      "floofer          1990 non-null object\n",
      "pupper           1990 non-null object\n",
      "puppo            1990 non-null object\n",
      "source           1990 non-null category\n",
      "rating           1990 non-null float64\n",
      "dtypes: category(1), datetime64[ns](1), float64(1), int64(1), object(7)\n",
      "memory usage: 173.1+ KB\n"
     ]
    }
   ],
   "source": [
    "df_clean.info()"
   ]
  },
  {
   "cell_type": "code",
   "execution_count": 474,
   "metadata": {},
   "outputs": [
    {
     "data": {
      "text/plain": [
       "count    1990.000000\n",
       "mean     1.054891   \n",
       "std      0.218506   \n",
       "min      0.000000   \n",
       "25%      1.000000   \n",
       "50%      1.100000   \n",
       "75%      1.200000   \n",
       "max      1.400000   \n",
       "Name: rating, dtype: float64"
      ]
     },
     "execution_count": 474,
     "metadata": {},
     "output_type": "execute_result"
    }
   ],
   "source": [
    "df_clean['rating'].describe()"
   ]
  },
  {
   "cell_type": "markdown",
   "metadata": {},
   "source": [
    "**erroneous names in name column start with lowercase letter (e.g. a, by, the)**"
   ]
  },
  {
   "cell_type": "markdown",
   "metadata": {},
   "source": [
    "**Define**"
   ]
  },
  {
   "cell_type": "markdown",
   "metadata": {},
   "source": [
    "Replace all lowercase values of name column with None"
   ]
  },
  {
   "cell_type": "code",
   "execution_count": 475,
   "metadata": {},
   "outputs": [
    {
     "data": {
      "text/plain": [
       "97"
      ]
     },
     "execution_count": 475,
     "metadata": {},
     "output_type": "execute_result"
    }
   ],
   "source": [
    "# counting how many names begin with lowercase letters\n",
    "len(df_clean['name'][df_clean['name'].str.match('[a-z]+')])"
   ]
  },
  {
   "cell_type": "code",
   "execution_count": 476,
   "metadata": {},
   "outputs": [],
   "source": [
    "# identifying names that begin with lowercase letters\n",
    "name_replace = list(df_clean['name'][df_clean['name'].str.match('[a-z]+')])"
   ]
  },
  {
   "cell_type": "code",
   "execution_count": 477,
   "metadata": {},
   "outputs": [
    {
     "data": {
      "text/plain": [
       "{'a',\n",
       " 'actually',\n",
       " 'all',\n",
       " 'an',\n",
       " 'by',\n",
       " 'getting',\n",
       " 'his',\n",
       " 'incredibly',\n",
       " 'infuriating',\n",
       " 'just',\n",
       " 'light',\n",
       " 'my',\n",
       " 'not',\n",
       " 'officially',\n",
       " 'one',\n",
       " 'quite',\n",
       " 'space',\n",
       " 'such',\n",
       " 'the',\n",
       " 'this',\n",
       " 'unacceptable',\n",
       " 'very'}"
      ]
     },
     "execution_count": 477,
     "metadata": {},
     "output_type": "execute_result"
    }
   ],
   "source": [
    "# to get names that need to be replaced with None\n",
    "name_replace = set(name_replace)\n",
    "name_replace"
   ]
  },
  {
   "cell_type": "code",
   "execution_count": 478,
   "metadata": {},
   "outputs": [],
   "source": [
    "# calculating the length of name\n",
    "df_clean['names_length'] = df_clean['name'].apply(len)"
   ]
  },
  {
   "cell_type": "code",
   "execution_count": 479,
   "metadata": {},
   "outputs": [
    {
     "data": {
      "text/plain": [
       "1     56 \n",
       "2     18 \n",
       "3     89 \n",
       "4     834\n",
       "5     386\n",
       "6     301\n",
       "7     202\n",
       "8     67 \n",
       "9     25 \n",
       "10    6  \n",
       "11    2  \n",
       "12    3  \n",
       "14    1  \n",
       "Name: names_length, dtype: int64"
      ]
     },
     "execution_count": 479,
     "metadata": {},
     "output_type": "execute_result"
    }
   ],
   "source": [
    "df_clean['names_length'].value_counts().sort_index()"
   ]
  },
  {
   "cell_type": "code",
   "execution_count": 480,
   "metadata": {},
   "outputs": [
    {
     "data": {
      "text/html": [
       "<div>\n",
       "<style scoped>\n",
       "    .dataframe tbody tr th:only-of-type {\n",
       "        vertical-align: middle;\n",
       "    }\n",
       "\n",
       "    .dataframe tbody tr th {\n",
       "        vertical-align: top;\n",
       "    }\n",
       "\n",
       "    .dataframe thead th {\n",
       "        text-align: right;\n",
       "    }\n",
       "</style>\n",
       "<table border=\"1\" class=\"dataframe\">\n",
       "  <thead>\n",
       "    <tr style=\"text-align: right;\">\n",
       "      <th></th>\n",
       "      <th>tweet_id</th>\n",
       "      <th>name</th>\n",
       "      <th>text</th>\n",
       "    </tr>\n",
       "  </thead>\n",
       "  <tbody>\n",
       "    <tr>\n",
       "      <th>56</th>\n",
       "      <td>881536004380872706</td>\n",
       "      <td>a</td>\n",
       "      <td>Here is a pupper approaching maximum borkdrive. Zooming at never before seen speeds. 14/10 paw-inspiring af \\n(IG: puffie_the_chow) https://t.co/ghXBIIeQZF</td>\n",
       "    </tr>\n",
       "    <tr>\n",
       "      <th>649</th>\n",
       "      <td>792913359805018113</td>\n",
       "      <td>a</td>\n",
       "      <td>Here is a perfect example of someone who has their priorities in order. 13/10 for both owner and Forrest https://t.co/LRyMrU7Wfq</td>\n",
       "    </tr>\n",
       "    <tr>\n",
       "      <th>775</th>\n",
       "      <td>776201521193218049</td>\n",
       "      <td>O</td>\n",
       "      <td>This is O'Malley. That is how he sleeps. Doesn't care what you think about it. 10/10 comfy af https://t.co/Pq150LeRaC</td>\n",
       "    </tr>\n",
       "    <tr>\n",
       "      <th>801</th>\n",
       "      <td>772581559778025472</td>\n",
       "      <td>a</td>\n",
       "      <td>Guys this is getting so out of hand. We only rate dogs. This is a Galapagos Speed Panda. Pls only send dogs... 10/10 https://t.co/8lpAGaZRFn</td>\n",
       "    </tr>\n",
       "    <tr>\n",
       "      <th>1002</th>\n",
       "      <td>747885874273214464</td>\n",
       "      <td>a</td>\n",
       "      <td>This is a mighty rare blue-tailed hammer sherk. Human almost lost a limb trying to take these. Be careful guys. 8/10 https://t.co/TGenMeXreW</td>\n",
       "    </tr>\n",
       "    <tr>\n",
       "      <th>1004</th>\n",
       "      <td>747816857231626240</td>\n",
       "      <td>a</td>\n",
       "      <td>Viewer discretion is advised. This is a terrible attack in progress. Not even in water (tragic af). 4/10 bad sherk https://t.co/L3U0j14N5R</td>\n",
       "    </tr>\n",
       "    <tr>\n",
       "      <th>1017</th>\n",
       "      <td>746872823977771008</td>\n",
       "      <td>a</td>\n",
       "      <td>This is a carrot. We only rate dogs. Please only send in dogs. You all really should know this by now ...11/10 https://t.co/9e48aPrBm2</td>\n",
       "    </tr>\n",
       "    <tr>\n",
       "      <th>1049</th>\n",
       "      <td>743222593470234624</td>\n",
       "      <td>a</td>\n",
       "      <td>This is a very rare Great Alaskan Bush Pupper. Hard to stumble upon without spooking. 12/10 would pet passionately https://t.co/xOBKCdpzaa</td>\n",
       "    </tr>\n",
       "    <tr>\n",
       "      <th>1193</th>\n",
       "      <td>717537687239008257</td>\n",
       "      <td>a</td>\n",
       "      <td>People please. This is a Deadly Mediterranean Plop T-Rex. We only rate dogs. Only send in dogs. Thanks you... 11/10 https://t.co/2ATDsgHD4n</td>\n",
       "    </tr>\n",
       "    <tr>\n",
       "      <th>1207</th>\n",
       "      <td>715733265223708672</td>\n",
       "      <td>a</td>\n",
       "      <td>This is a taco. We only rate dogs. Please only send in dogs. Dogs are what we rate. Not tacos. Thank you... 10/10 https://t.co/cxl6xGY8B9</td>\n",
       "    </tr>\n",
       "    <tr>\n",
       "      <th>1340</th>\n",
       "      <td>704859558691414016</td>\n",
       "      <td>a</td>\n",
       "      <td>Here is a heartbreaking scene of an incredible pupper being laid to rest. 10/10 RIP pupper https://t.co/81mvJ0rGRu</td>\n",
       "    </tr>\n",
       "    <tr>\n",
       "      <th>1351</th>\n",
       "      <td>704054845121142784</td>\n",
       "      <td>a</td>\n",
       "      <td>Here is a whole flock of puppers.  60/50 I'll take the lot https://t.co/9dpcw6MdWa</td>\n",
       "    </tr>\n",
       "    <tr>\n",
       "      <th>1361</th>\n",
       "      <td>703079050210877440</td>\n",
       "      <td>a</td>\n",
       "      <td>This is a Butternut Cumberfloof. It's not windy they just look like that. 11/10 back at it again with the red socks https://t.co/hMjzhdUHaW</td>\n",
       "    </tr>\n",
       "    <tr>\n",
       "      <th>1368</th>\n",
       "      <td>702539513671897089</td>\n",
       "      <td>a</td>\n",
       "      <td>This is a Wild Tuscan Poofwiggle. Careful not to startle. Rare tongue slip. One eye magical. 12/10 would def pet https://t.co/4EnShAQjv6</td>\n",
       "    </tr>\n",
       "    <tr>\n",
       "      <th>1382</th>\n",
       "      <td>700864154249383937</td>\n",
       "      <td>a</td>\n",
       "      <td>\"Pupper is a present to world. Here is a bow for pupper.\" 12/10 precious as hell https://t.co/ItSsE92gCW</td>\n",
       "    </tr>\n",
       "    <tr>\n",
       "      <th>1499</th>\n",
       "      <td>692187005137076224</td>\n",
       "      <td>a</td>\n",
       "      <td>This is a rare Arctic Wubberfloof. Unamused by the happenings. No longer has the appetites. 12/10 would totally hug https://t.co/krvbacIX0N</td>\n",
       "    </tr>\n",
       "    <tr>\n",
       "      <th>1737</th>\n",
       "      <td>679530280114372609</td>\n",
       "      <td>a</td>\n",
       "      <td>Guys this really needs to stop. We've been over this way too many times. This is a giraffe. We only rate dogs.. 7/10 https://t.co/yavgkHYPOC</td>\n",
       "    </tr>\n",
       "    <tr>\n",
       "      <th>1785</th>\n",
       "      <td>677644091929329666</td>\n",
       "      <td>a</td>\n",
       "      <td>This is a dog swinging. I really enjoyed it so I hope you all do as well. 11/10 https://t.co/Ozo9KHTRND</td>\n",
       "    </tr>\n",
       "    <tr>\n",
       "      <th>1853</th>\n",
       "      <td>675706639471788032</td>\n",
       "      <td>a</td>\n",
       "      <td>This is a Sizzlin Menorah spaniel from Brooklyn named Wylie. Lovable eyes. Chiller as hell. 10/10 and I'm out.. poof https://t.co/7E0AiJXPmI</td>\n",
       "    </tr>\n",
       "    <tr>\n",
       "      <th>1854</th>\n",
       "      <td>675534494439489536</td>\n",
       "      <td>a</td>\n",
       "      <td>Seriously guys?! Only send in dogs. I only rate dogs. This is a baby black bear... 11/10 https://t.co/H7kpabTfLj</td>\n",
       "    </tr>\n",
       "    <tr>\n",
       "      <th>1877</th>\n",
       "      <td>675109292475830276</td>\n",
       "      <td>a</td>\n",
       "      <td>C'mon guys. We've been over this. We only rate dogs. This is a cow. Please only submit dogs. Thank you...... 9/10 https://t.co/WjcELNEqN2</td>\n",
       "    </tr>\n",
       "    <tr>\n",
       "      <th>1878</th>\n",
       "      <td>675047298674663426</td>\n",
       "      <td>a</td>\n",
       "      <td>This is a fluffy albino Bacardi Columbia mix. Excellent at the tweets. 11/10 would hug gently https://t.co/diboDRUuEI</td>\n",
       "    </tr>\n",
       "    <tr>\n",
       "      <th>1923</th>\n",
       "      <td>674082852460433408</td>\n",
       "      <td>a</td>\n",
       "      <td>This is a Sagitariot Baklava mix. Loves her new hat. 11/10 radiant pup https://t.co/Bko5kFJYUU</td>\n",
       "    </tr>\n",
       "    <tr>\n",
       "      <th>1941</th>\n",
       "      <td>673715861853720576</td>\n",
       "      <td>a</td>\n",
       "      <td>This is a heavily opinionated dog. Loves walls. Nobody knows how the hair works. Always ready for a kiss. 4/10 https://t.co/dFiaKZ9cDl</td>\n",
       "    </tr>\n",
       "    <tr>\n",
       "      <th>1955</th>\n",
       "      <td>673636718965334016</td>\n",
       "      <td>a</td>\n",
       "      <td>This is a Lofted Aphrodisiac Terrier named Kip. Big fan of bed n breakfasts. Fits perfectly. 10/10 would pet firmly https://t.co/gKlLpNzIl3</td>\n",
       "    </tr>\n",
       "    <tr>\n",
       "      <th>1994</th>\n",
       "      <td>672604026190569472</td>\n",
       "      <td>a</td>\n",
       "      <td>This is a baby Rand Paul. Curls for days. 11/10 would cuddle the hell out of https://t.co/xHXNaPAYRe</td>\n",
       "    </tr>\n",
       "    <tr>\n",
       "      <th>2034</th>\n",
       "      <td>671743150407421952</td>\n",
       "      <td>a</td>\n",
       "      <td>This is a Tuscaloosa Alcatraz named Jacob (Yacōb). Loves to sit in swing. Stellar tongue. 11/10 look at his feet https://t.co/2IslQ8ZSc7</td>\n",
       "    </tr>\n",
       "    <tr>\n",
       "      <th>2066</th>\n",
       "      <td>671147085991960577</td>\n",
       "      <td>a</td>\n",
       "      <td>This is a Helvetica Listerine named Rufus. This time Rufus will be ready for the UPS guy. He'll never expect it 9/10 https://t.co/34OhVhMkVr</td>\n",
       "    </tr>\n",
       "    <tr>\n",
       "      <th>2116</th>\n",
       "      <td>670427002554466305</td>\n",
       "      <td>a</td>\n",
       "      <td>This is a Deciduous Trimester mix named Spork. Only 1 ear works. No seat belt. Incredibly reckless. 9/10 still cute https://t.co/CtuJoLHiDo</td>\n",
       "    </tr>\n",
       "    <tr>\n",
       "      <th>2125</th>\n",
       "      <td>670361874861563904</td>\n",
       "      <td>a</td>\n",
       "      <td>This is a Rich Mahogany Seltzer named Cherokee. Just got destroyed by a snowball. Isn't very happy about it. 9/10 https://t.co/98ZBi6o4dj</td>\n",
       "    </tr>\n",
       "    <tr>\n",
       "      <th>2128</th>\n",
       "      <td>670303360680108032</td>\n",
       "      <td>a</td>\n",
       "      <td>This is a Speckled Cauliflower Yosemite named Hemry. He's terrified of intruder dog. Not one bit comfortable. 9/10 https://t.co/yV3Qgjh8iN</td>\n",
       "    </tr>\n",
       "    <tr>\n",
       "      <th>2146</th>\n",
       "      <td>669923323644657664</td>\n",
       "      <td>a</td>\n",
       "      <td>This is a spotted Lipitor Rumpelstiltskin named Alphred. He can't wait for the Turkey. 10/10 would pet really well https://t.co/6GUGO7azNX</td>\n",
       "    </tr>\n",
       "    <tr>\n",
       "      <th>2153</th>\n",
       "      <td>669661792646373376</td>\n",
       "      <td>a</td>\n",
       "      <td>This is a brave dog. Excellent free climber. Trying to get closer to God. Not very loyal though. Doesn't bark. 5/10 https://t.co/ODnILTr4QM</td>\n",
       "    </tr>\n",
       "    <tr>\n",
       "      <th>2161</th>\n",
       "      <td>669564461267722241</td>\n",
       "      <td>a</td>\n",
       "      <td>This is a Coriander Baton Rouge named Alfredo. Loves to cuddle with smaller well-dressed dog. 10/10 would hug lots https://t.co/eCRdwouKCl</td>\n",
       "    </tr>\n",
       "    <tr>\n",
       "      <th>2191</th>\n",
       "      <td>668955713004314625</td>\n",
       "      <td>a</td>\n",
       "      <td>This is a Slovakian Helter Skelter Feta named Leroi. Likes to skip on roofs. Good traction. Much balance. 10/10 wow! https://t.co/Dmy2mY2Qj5</td>\n",
       "    </tr>\n",
       "    <tr>\n",
       "      <th>2198</th>\n",
       "      <td>668815180734689280</td>\n",
       "      <td>a</td>\n",
       "      <td>This is a wild Toblerone from Papua New Guinea. Mouth always open. Addicted to hay. Acts blind. 7/10 handsome dog https://t.co/IGmVbz07tZ</td>\n",
       "    </tr>\n",
       "    <tr>\n",
       "      <th>2211</th>\n",
       "      <td>668614819948453888</td>\n",
       "      <td>a</td>\n",
       "      <td>Here is a horned dog. Much grace. Can jump over moons (dam!). Paws not soft. Bad at barking. 7/10 can still pet tho https://t.co/2Su7gmsnZm</td>\n",
       "    </tr>\n",
       "    <tr>\n",
       "      <th>2218</th>\n",
       "      <td>668507509523615744</td>\n",
       "      <td>a</td>\n",
       "      <td>This is a Birmingham Quagmire named Chuk. Loves to relax and watch the game while sippin on that iced mocha. 10/10 https://t.co/HvNg9JWxFt</td>\n",
       "    </tr>\n",
       "    <tr>\n",
       "      <th>2222</th>\n",
       "      <td>668466899341221888</td>\n",
       "      <td>a</td>\n",
       "      <td>Here is a mother dog caring for her pups. Snazzy red mohawk. Doesn't wag tail. Pups look confused. Overall 4/10 https://t.co/YOHe6lf09m</td>\n",
       "    </tr>\n",
       "    <tr>\n",
       "      <th>2235</th>\n",
       "      <td>668171859951755264</td>\n",
       "      <td>a</td>\n",
       "      <td>This is a Trans Siberian Kellogg named Alfonso. Huge ass eyeballs. Actually Dobby from Harry Potter. 7/10 https://t.co/XpseHBlAAb</td>\n",
       "    </tr>\n",
       "    <tr>\n",
       "      <th>2249</th>\n",
       "      <td>667861340749471744</td>\n",
       "      <td>a</td>\n",
       "      <td>This is a Shotokon Macadamia mix named Cheryl. Sophisticated af. Looks like a disappointed librarian. Shh (lol) 9/10 https://t.co/J4GnJ5Swba</td>\n",
       "    </tr>\n",
       "    <tr>\n",
       "      <th>2255</th>\n",
       "      <td>667773195014021121</td>\n",
       "      <td>a</td>\n",
       "      <td>This is a rare Hungarian Pinot named Jessiga. She is either mid-stroke or got stuck in the washing machine. 8/10 https://t.co/ZU0i0KJyqD</td>\n",
       "    </tr>\n",
       "    <tr>\n",
       "      <th>2264</th>\n",
       "      <td>667538891197542400</td>\n",
       "      <td>a</td>\n",
       "      <td>This is a southwest Coriander named Klint. Hat looks expensive. Still on house arrest :(\\n9/10 https://t.co/IQTOMqDUIe</td>\n",
       "    </tr>\n",
       "    <tr>\n",
       "      <th>2273</th>\n",
       "      <td>667470559035432960</td>\n",
       "      <td>a</td>\n",
       "      <td>This is a northern Wahoo named Kohl. He runs this town. Chases tumbleweeds. Draws gun wicked fast. 11/10 legendary https://t.co/J4vn2rOYFk</td>\n",
       "    </tr>\n",
       "    <tr>\n",
       "      <th>2287</th>\n",
       "      <td>667177989038297088</td>\n",
       "      <td>a</td>\n",
       "      <td>This is a Dasani Kingfisher from Maine. His name is Daryl. Daryl doesn't like being swallowed by a panda. 8/10 https://t.co/jpaeu6LNmW</td>\n",
       "    </tr>\n",
       "    <tr>\n",
       "      <th>2304</th>\n",
       "      <td>666983947667116034</td>\n",
       "      <td>a</td>\n",
       "      <td>This is a curly Ticonderoga named Pepe. No feet. Loves to jet ski. 11/10 would hug until forever https://t.co/cyDfaK8NBc</td>\n",
       "    </tr>\n",
       "    <tr>\n",
       "      <th>2311</th>\n",
       "      <td>666781792255496192</td>\n",
       "      <td>a</td>\n",
       "      <td>This is a purebred Bacardi named Octaviath. Can shoot spaghetti out of mouth. 10/10 https://t.co/uEvsGLOFHa</td>\n",
       "    </tr>\n",
       "    <tr>\n",
       "      <th>2314</th>\n",
       "      <td>666701168228331520</td>\n",
       "      <td>a</td>\n",
       "      <td>This is a golden Buckminsterfullerene named Johm. Drives trucks. Lumberjack (?). Enjoys wall. 8/10 would hug softly https://t.co/uQbZJM2DQB</td>\n",
       "    </tr>\n",
       "    <tr>\n",
       "      <th>2327</th>\n",
       "      <td>666407126856765440</td>\n",
       "      <td>a</td>\n",
       "      <td>This is a southern Vesuvius bumblegruff. Can drive a truck (wow). Made friends with 5 other nifty dogs (neat). 7/10 https://t.co/LopTBkKa8h</td>\n",
       "    </tr>\n",
       "    <tr>\n",
       "      <th>2334</th>\n",
       "      <td>666293911632134144</td>\n",
       "      <td>a</td>\n",
       "      <td>This is a funny dog. Weird toes. Won't come down. Loves branch. Refuses to eat his food. Hard to cuddle with. 3/10 https://t.co/IIXis0zta0</td>\n",
       "    </tr>\n",
       "    <tr>\n",
       "      <th>2347</th>\n",
       "      <td>666057090499244032</td>\n",
       "      <td>a</td>\n",
       "      <td>My oh my. This is a rare blond Canadian terrier on wheels. Only $8.98. Rather docile. 9/10 very rare https://t.co/yWBqbrzy8O</td>\n",
       "    </tr>\n",
       "    <tr>\n",
       "      <th>2348</th>\n",
       "      <td>666055525042405380</td>\n",
       "      <td>a</td>\n",
       "      <td>Here is a Siberian heavily armored polar bear mix. Strong owner. 10/10 I would do unspeakable things to pet this dog https://t.co/rdivxLiqEt</td>\n",
       "    </tr>\n",
       "    <tr>\n",
       "      <th>2350</th>\n",
       "      <td>666050758794694657</td>\n",
       "      <td>a</td>\n",
       "      <td>This is a truly beautiful English Wilson Staff retriever. Has a nice phone. Privileged. 10/10 would trade lives with https://t.co/fvIbQfHjIe</td>\n",
       "    </tr>\n",
       "    <tr>\n",
       "      <th>2352</th>\n",
       "      <td>666044226329800704</td>\n",
       "      <td>a</td>\n",
       "      <td>This is a purebred Piers Morgan. Loves to Netflix and chill. Always looks like he forgot to unplug the iron. 6/10 https://t.co/DWnyCjf2mx</td>\n",
       "    </tr>\n",
       "    <tr>\n",
       "      <th>2353</th>\n",
       "      <td>666033412701032449</td>\n",
       "      <td>a</td>\n",
       "      <td>Here is a very happy pup. Big fan of well-maintained decks. Just look at that tongue. 9/10 would cuddle af https://t.co/y671yMhoiR</td>\n",
       "    </tr>\n",
       "    <tr>\n",
       "      <th>2354</th>\n",
       "      <td>666029285002620928</td>\n",
       "      <td>a</td>\n",
       "      <td>This is a western brown Mitsubishi terrier. Upset about leaf. Actually 2 dogs here. 7/10 would walk the shit out of https://t.co/r7mOb2m0UI</td>\n",
       "    </tr>\n",
       "  </tbody>\n",
       "</table>\n",
       "</div>"
      ],
      "text/plain": [
       "                tweet_id name  \\\n",
       "56    881536004380872706  a     \n",
       "649   792913359805018113  a     \n",
       "775   776201521193218049  O     \n",
       "801   772581559778025472  a     \n",
       "1002  747885874273214464  a     \n",
       "1004  747816857231626240  a     \n",
       "1017  746872823977771008  a     \n",
       "1049  743222593470234624  a     \n",
       "1193  717537687239008257  a     \n",
       "1207  715733265223708672  a     \n",
       "1340  704859558691414016  a     \n",
       "1351  704054845121142784  a     \n",
       "1361  703079050210877440  a     \n",
       "1368  702539513671897089  a     \n",
       "1382  700864154249383937  a     \n",
       "1499  692187005137076224  a     \n",
       "1737  679530280114372609  a     \n",
       "1785  677644091929329666  a     \n",
       "1853  675706639471788032  a     \n",
       "1854  675534494439489536  a     \n",
       "1877  675109292475830276  a     \n",
       "1878  675047298674663426  a     \n",
       "1923  674082852460433408  a     \n",
       "1941  673715861853720576  a     \n",
       "1955  673636718965334016  a     \n",
       "1994  672604026190569472  a     \n",
       "2034  671743150407421952  a     \n",
       "2066  671147085991960577  a     \n",
       "2116  670427002554466305  a     \n",
       "2125  670361874861563904  a     \n",
       "2128  670303360680108032  a     \n",
       "2146  669923323644657664  a     \n",
       "2153  669661792646373376  a     \n",
       "2161  669564461267722241  a     \n",
       "2191  668955713004314625  a     \n",
       "2198  668815180734689280  a     \n",
       "2211  668614819948453888  a     \n",
       "2218  668507509523615744  a     \n",
       "2222  668466899341221888  a     \n",
       "2235  668171859951755264  a     \n",
       "2249  667861340749471744  a     \n",
       "2255  667773195014021121  a     \n",
       "2264  667538891197542400  a     \n",
       "2273  667470559035432960  a     \n",
       "2287  667177989038297088  a     \n",
       "2304  666983947667116034  a     \n",
       "2311  666781792255496192  a     \n",
       "2314  666701168228331520  a     \n",
       "2327  666407126856765440  a     \n",
       "2334  666293911632134144  a     \n",
       "2347  666057090499244032  a     \n",
       "2348  666055525042405380  a     \n",
       "2350  666050758794694657  a     \n",
       "2352  666044226329800704  a     \n",
       "2353  666033412701032449  a     \n",
       "2354  666029285002620928  a     \n",
       "\n",
       "                                                                                                                                                             text  \n",
       "56    Here is a pupper approaching maximum borkdrive. Zooming at never before seen speeds. 14/10 paw-inspiring af \\n(IG: puffie_the_chow) https://t.co/ghXBIIeQZF  \n",
       "649   Here is a perfect example of someone who has their priorities in order. 13/10 for both owner and Forrest https://t.co/LRyMrU7Wfq                             \n",
       "775   This is O'Malley. That is how he sleeps. Doesn't care what you think about it. 10/10 comfy af https://t.co/Pq150LeRaC                                        \n",
       "801   Guys this is getting so out of hand. We only rate dogs. This is a Galapagos Speed Panda. Pls only send dogs... 10/10 https://t.co/8lpAGaZRFn                 \n",
       "1002  This is a mighty rare blue-tailed hammer sherk. Human almost lost a limb trying to take these. Be careful guys. 8/10 https://t.co/TGenMeXreW                 \n",
       "1004  Viewer discretion is advised. This is a terrible attack in progress. Not even in water (tragic af). 4/10 bad sherk https://t.co/L3U0j14N5R                   \n",
       "1017  This is a carrot. We only rate dogs. Please only send in dogs. You all really should know this by now ...11/10 https://t.co/9e48aPrBm2                       \n",
       "1049  This is a very rare Great Alaskan Bush Pupper. Hard to stumble upon without spooking. 12/10 would pet passionately https://t.co/xOBKCdpzaa                   \n",
       "1193  People please. This is a Deadly Mediterranean Plop T-Rex. We only rate dogs. Only send in dogs. Thanks you... 11/10 https://t.co/2ATDsgHD4n                  \n",
       "1207  This is a taco. We only rate dogs. Please only send in dogs. Dogs are what we rate. Not tacos. Thank you... 10/10 https://t.co/cxl6xGY8B9                    \n",
       "1340  Here is a heartbreaking scene of an incredible pupper being laid to rest. 10/10 RIP pupper https://t.co/81mvJ0rGRu                                           \n",
       "1351  Here is a whole flock of puppers.  60/50 I'll take the lot https://t.co/9dpcw6MdWa                                                                           \n",
       "1361  This is a Butternut Cumberfloof. It's not windy they just look like that. 11/10 back at it again with the red socks https://t.co/hMjzhdUHaW                  \n",
       "1368  This is a Wild Tuscan Poofwiggle. Careful not to startle. Rare tongue slip. One eye magical. 12/10 would def pet https://t.co/4EnShAQjv6                     \n",
       "1382  \"Pupper is a present to world. Here is a bow for pupper.\" 12/10 precious as hell https://t.co/ItSsE92gCW                                                     \n",
       "1499  This is a rare Arctic Wubberfloof. Unamused by the happenings. No longer has the appetites. 12/10 would totally hug https://t.co/krvbacIX0N                  \n",
       "1737  Guys this really needs to stop. We've been over this way too many times. This is a giraffe. We only rate dogs.. 7/10 https://t.co/yavgkHYPOC                 \n",
       "1785  This is a dog swinging. I really enjoyed it so I hope you all do as well. 11/10 https://t.co/Ozo9KHTRND                                                      \n",
       "1853  This is a Sizzlin Menorah spaniel from Brooklyn named Wylie. Lovable eyes. Chiller as hell. 10/10 and I'm out.. poof https://t.co/7E0AiJXPmI                 \n",
       "1854  Seriously guys?! Only send in dogs. I only rate dogs. This is a baby black bear... 11/10 https://t.co/H7kpabTfLj                                             \n",
       "1877  C'mon guys. We've been over this. We only rate dogs. This is a cow. Please only submit dogs. Thank you...... 9/10 https://t.co/WjcELNEqN2                    \n",
       "1878  This is a fluffy albino Bacardi Columbia mix. Excellent at the tweets. 11/10 would hug gently https://t.co/diboDRUuEI                                        \n",
       "1923  This is a Sagitariot Baklava mix. Loves her new hat. 11/10 radiant pup https://t.co/Bko5kFJYUU                                                               \n",
       "1941  This is a heavily opinionated dog. Loves walls. Nobody knows how the hair works. Always ready for a kiss. 4/10 https://t.co/dFiaKZ9cDl                       \n",
       "1955  This is a Lofted Aphrodisiac Terrier named Kip. Big fan of bed n breakfasts. Fits perfectly. 10/10 would pet firmly https://t.co/gKlLpNzIl3                  \n",
       "1994  This is a baby Rand Paul. Curls for days. 11/10 would cuddle the hell out of https://t.co/xHXNaPAYRe                                                         \n",
       "2034  This is a Tuscaloosa Alcatraz named Jacob (Yacōb). Loves to sit in swing. Stellar tongue. 11/10 look at his feet https://t.co/2IslQ8ZSc7                     \n",
       "2066  This is a Helvetica Listerine named Rufus. This time Rufus will be ready for the UPS guy. He'll never expect it 9/10 https://t.co/34OhVhMkVr                 \n",
       "2116  This is a Deciduous Trimester mix named Spork. Only 1 ear works. No seat belt. Incredibly reckless. 9/10 still cute https://t.co/CtuJoLHiDo                  \n",
       "2125  This is a Rich Mahogany Seltzer named Cherokee. Just got destroyed by a snowball. Isn't very happy about it. 9/10 https://t.co/98ZBi6o4dj                    \n",
       "2128  This is a Speckled Cauliflower Yosemite named Hemry. He's terrified of intruder dog. Not one bit comfortable. 9/10 https://t.co/yV3Qgjh8iN                   \n",
       "2146  This is a spotted Lipitor Rumpelstiltskin named Alphred. He can't wait for the Turkey. 10/10 would pet really well https://t.co/6GUGO7azNX                   \n",
       "2153  This is a brave dog. Excellent free climber. Trying to get closer to God. Not very loyal though. Doesn't bark. 5/10 https://t.co/ODnILTr4QM                  \n",
       "2161  This is a Coriander Baton Rouge named Alfredo. Loves to cuddle with smaller well-dressed dog. 10/10 would hug lots https://t.co/eCRdwouKCl                   \n",
       "2191  This is a Slovakian Helter Skelter Feta named Leroi. Likes to skip on roofs. Good traction. Much balance. 10/10 wow! https://t.co/Dmy2mY2Qj5                 \n",
       "2198  This is a wild Toblerone from Papua New Guinea. Mouth always open. Addicted to hay. Acts blind. 7/10 handsome dog https://t.co/IGmVbz07tZ                    \n",
       "2211  Here is a horned dog. Much grace. Can jump over moons (dam!). Paws not soft. Bad at barking. 7/10 can still pet tho https://t.co/2Su7gmsnZm                  \n",
       "2218  This is a Birmingham Quagmire named Chuk. Loves to relax and watch the game while sippin on that iced mocha. 10/10 https://t.co/HvNg9JWxFt                   \n",
       "2222  Here is a mother dog caring for her pups. Snazzy red mohawk. Doesn't wag tail. Pups look confused. Overall 4/10 https://t.co/YOHe6lf09m                      \n",
       "2235  This is a Trans Siberian Kellogg named Alfonso. Huge ass eyeballs. Actually Dobby from Harry Potter. 7/10 https://t.co/XpseHBlAAb                            \n",
       "2249  This is a Shotokon Macadamia mix named Cheryl. Sophisticated af. Looks like a disappointed librarian. Shh (lol) 9/10 https://t.co/J4GnJ5Swba                 \n",
       "2255  This is a rare Hungarian Pinot named Jessiga. She is either mid-stroke or got stuck in the washing machine. 8/10 https://t.co/ZU0i0KJyqD                     \n",
       "2264  This is a southwest Coriander named Klint. Hat looks expensive. Still on house arrest :(\\n9/10 https://t.co/IQTOMqDUIe                                       \n",
       "2273  This is a northern Wahoo named Kohl. He runs this town. Chases tumbleweeds. Draws gun wicked fast. 11/10 legendary https://t.co/J4vn2rOYFk                   \n",
       "2287  This is a Dasani Kingfisher from Maine. His name is Daryl. Daryl doesn't like being swallowed by a panda. 8/10 https://t.co/jpaeu6LNmW                       \n",
       "2304  This is a curly Ticonderoga named Pepe. No feet. Loves to jet ski. 11/10 would hug until forever https://t.co/cyDfaK8NBc                                     \n",
       "2311  This is a purebred Bacardi named Octaviath. Can shoot spaghetti out of mouth. 10/10 https://t.co/uEvsGLOFHa                                                  \n",
       "2314  This is a golden Buckminsterfullerene named Johm. Drives trucks. Lumberjack (?). Enjoys wall. 8/10 would hug softly https://t.co/uQbZJM2DQB                  \n",
       "2327  This is a southern Vesuvius bumblegruff. Can drive a truck (wow). Made friends with 5 other nifty dogs (neat). 7/10 https://t.co/LopTBkKa8h                  \n",
       "2334  This is a funny dog. Weird toes. Won't come down. Loves branch. Refuses to eat his food. Hard to cuddle with. 3/10 https://t.co/IIXis0zta0                   \n",
       "2347  My oh my. This is a rare blond Canadian terrier on wheels. Only $8.98. Rather docile. 9/10 very rare https://t.co/yWBqbrzy8O                                 \n",
       "2348  Here is a Siberian heavily armored polar bear mix. Strong owner. 10/10 I would do unspeakable things to pet this dog https://t.co/rdivxLiqEt                 \n",
       "2350  This is a truly beautiful English Wilson Staff retriever. Has a nice phone. Privileged. 10/10 would trade lives with https://t.co/fvIbQfHjIe                 \n",
       "2352  This is a purebred Piers Morgan. Loves to Netflix and chill. Always looks like he forgot to unplug the iron. 6/10 https://t.co/DWnyCjf2mx                    \n",
       "2353  Here is a very happy pup. Big fan of well-maintained decks. Just look at that tongue. 9/10 would cuddle af https://t.co/y671yMhoiR                           \n",
       "2354  This is a western brown Mitsubishi terrier. Upset about leaf. Actually 2 dogs here. 7/10 would walk the shit out of https://t.co/r7mOb2m0UI                  "
      ]
     },
     "execution_count": 480,
     "metadata": {},
     "output_type": "execute_result"
    }
   ],
   "source": [
    "#examining values in name where names_length is 1\n",
    "pd.set_option('display.max_colwidth', -1)\n",
    "df_clean[df_clean['names_length']==1][['tweet_id', 'name','text']]"
   ]
  },
  {
   "cell_type": "code",
   "execution_count": 481,
   "metadata": {},
   "outputs": [
    {
     "data": {
      "text/html": [
       "<div>\n",
       "<style scoped>\n",
       "    .dataframe tbody tr th:only-of-type {\n",
       "        vertical-align: middle;\n",
       "    }\n",
       "\n",
       "    .dataframe tbody tr th {\n",
       "        vertical-align: top;\n",
       "    }\n",
       "\n",
       "    .dataframe thead th {\n",
       "        text-align: right;\n",
       "    }\n",
       "</style>\n",
       "<table border=\"1\" class=\"dataframe\">\n",
       "  <thead>\n",
       "    <tr style=\"text-align: right;\">\n",
       "      <th></th>\n",
       "      <th>tweet_id</th>\n",
       "      <th>timestamp</th>\n",
       "      <th>text</th>\n",
       "      <th>expanded_urls</th>\n",
       "      <th>name</th>\n",
       "      <th>doggo</th>\n",
       "      <th>floofer</th>\n",
       "      <th>pupper</th>\n",
       "      <th>puppo</th>\n",
       "      <th>source</th>\n",
       "      <th>rating</th>\n",
       "      <th>names_length</th>\n",
       "    </tr>\n",
       "  </thead>\n",
       "  <tbody>\n",
       "    <tr>\n",
       "      <th>775</th>\n",
       "      <td>776201521193218049</td>\n",
       "      <td>2016-09-14 23:30:38</td>\n",
       "      <td>This is O'Malley. That is how he sleeps. Doesn't care what you think about it. 10/10 comfy af https://t.co/Pq150LeRaC</td>\n",
       "      <td>https://twitter.com/dog_rates/status/776201521193218049/photo/1</td>\n",
       "      <td>O</td>\n",
       "      <td>None</td>\n",
       "      <td>None</td>\n",
       "      <td>None</td>\n",
       "      <td>None</td>\n",
       "      <td>Twitter for iPhone</td>\n",
       "      <td>1.0</td>\n",
       "      <td>1</td>\n",
       "    </tr>\n",
       "  </tbody>\n",
       "</table>\n",
       "</div>"
      ],
      "text/plain": [
       "               tweet_id           timestamp  \\\n",
       "775  776201521193218049 2016-09-14 23:30:38   \n",
       "\n",
       "                                                                                                                      text  \\\n",
       "775  This is O'Malley. That is how he sleeps. Doesn't care what you think about it. 10/10 comfy af https://t.co/Pq150LeRaC   \n",
       "\n",
       "                                                       expanded_urls name  \\\n",
       "775  https://twitter.com/dog_rates/status/776201521193218049/photo/1  O     \n",
       "\n",
       "    doggo floofer pupper puppo              source  rating  names_length  \n",
       "775  None  None    None   None  Twitter for iPhone  1.0     1             "
      ]
     },
     "execution_count": 481,
     "metadata": {},
     "output_type": "execute_result"
    }
   ],
   "source": [
    "# Identifying the row where name is O\n",
    "df_clean[df_clean['name']==\"O\"]"
   ]
  },
  {
   "cell_type": "markdown",
   "metadata": {},
   "source": [
    "Looks like the correct name is O'Malley. We can correct it."
   ]
  },
  {
   "cell_type": "code",
   "execution_count": 482,
   "metadata": {},
   "outputs": [],
   "source": [
    "df_clean['name'] = df_clean['name'].replace(\"O\",\"O'Malley\")"
   ]
  },
  {
   "cell_type": "markdown",
   "metadata": {},
   "source": [
    "**Test**"
   ]
  },
  {
   "cell_type": "code",
   "execution_count": 483,
   "metadata": {},
   "outputs": [
    {
     "data": {
      "text/html": [
       "<div>\n",
       "<style scoped>\n",
       "    .dataframe tbody tr th:only-of-type {\n",
       "        vertical-align: middle;\n",
       "    }\n",
       "\n",
       "    .dataframe tbody tr th {\n",
       "        vertical-align: top;\n",
       "    }\n",
       "\n",
       "    .dataframe thead th {\n",
       "        text-align: right;\n",
       "    }\n",
       "</style>\n",
       "<table border=\"1\" class=\"dataframe\">\n",
       "  <thead>\n",
       "    <tr style=\"text-align: right;\">\n",
       "      <th></th>\n",
       "      <th>tweet_id</th>\n",
       "      <th>timestamp</th>\n",
       "      <th>text</th>\n",
       "      <th>expanded_urls</th>\n",
       "      <th>name</th>\n",
       "      <th>doggo</th>\n",
       "      <th>floofer</th>\n",
       "      <th>pupper</th>\n",
       "      <th>puppo</th>\n",
       "      <th>source</th>\n",
       "      <th>rating</th>\n",
       "      <th>names_length</th>\n",
       "    </tr>\n",
       "  </thead>\n",
       "  <tbody>\n",
       "  </tbody>\n",
       "</table>\n",
       "</div>"
      ],
      "text/plain": [
       "Empty DataFrame\n",
       "Columns: [tweet_id, timestamp, text, expanded_urls, name, doggo, floofer, pupper, puppo, source, rating, names_length]\n",
       "Index: []"
      ]
     },
     "execution_count": 483,
     "metadata": {},
     "output_type": "execute_result"
    }
   ],
   "source": [
    "df_clean[df_clean['name']==\"O\"]"
   ]
  },
  {
   "cell_type": "markdown",
   "metadata": {},
   "source": [
    "**Code**"
   ]
  },
  {
   "cell_type": "code",
   "execution_count": 484,
   "metadata": {},
   "outputs": [
    {
     "name": "stderr",
     "output_type": "stream",
     "text": [
      "C:\\Users\\aabha.DESKTOP-HG6KK17\\Anaconda3\\lib\\site-packages\\ipykernel_launcher.py:2: SettingWithCopyWarning: \n",
      "A value is trying to be set on a copy of a slice from a DataFrame\n",
      "\n",
      "See the caveats in the documentation: http://pandas.pydata.org/pandas-docs/stable/indexing.html#indexing-view-versus-copy\n",
      "  \n"
     ]
    }
   ],
   "source": [
    "#replacing names with lowercase letters with None\n",
    "df_clean['name'][df_clean['name'].str.match('[a-z]+')]= 'None'"
   ]
  },
  {
   "cell_type": "code",
   "execution_count": 485,
   "metadata": {},
   "outputs": [],
   "source": [
    "# dropping names_length column\n",
    "df_clean = df_clean.drop('names_length', axis=1)"
   ]
  },
  {
   "cell_type": "markdown",
   "metadata": {},
   "source": [
    "**Test**"
   ]
  },
  {
   "cell_type": "code",
   "execution_count": 486,
   "metadata": {},
   "outputs": [
    {
     "data": {
      "text/plain": [
       "['Abby',\n",
       " 'Ace',\n",
       " 'Acro',\n",
       " 'Adele',\n",
       " 'Aiden',\n",
       " 'Aja',\n",
       " 'Akumi',\n",
       " 'Al',\n",
       " 'Albert',\n",
       " 'Albus',\n",
       " 'Aldrick',\n",
       " 'Alejandro',\n",
       " 'Alexander',\n",
       " 'Alexanderson',\n",
       " 'Alf',\n",
       " 'Alfie',\n",
       " 'Alfy',\n",
       " 'Alice',\n",
       " 'Amber',\n",
       " 'Ambrose',\n",
       " 'Amy',\n",
       " 'Amélie',\n",
       " 'Anakin',\n",
       " 'Andru',\n",
       " 'Andy',\n",
       " 'Angel',\n",
       " 'Anna',\n",
       " 'Anthony',\n",
       " 'Antony',\n",
       " 'Apollo',\n",
       " 'Aqua',\n",
       " 'Archie',\n",
       " 'Arlen',\n",
       " 'Arlo',\n",
       " 'Arnie',\n",
       " 'Arnold',\n",
       " 'Arya',\n",
       " 'Ash',\n",
       " 'Asher',\n",
       " 'Ashleigh',\n",
       " 'Aspen',\n",
       " 'Astrid',\n",
       " 'Atlas',\n",
       " 'Atticus',\n",
       " 'Aubie',\n",
       " 'Augie',\n",
       " 'Autumn',\n",
       " 'Ava',\n",
       " 'Axel',\n",
       " 'Bailey',\n",
       " 'Baloo',\n",
       " 'Banditt',\n",
       " 'Banjo',\n",
       " 'Barclay',\n",
       " 'Barney',\n",
       " 'Baron',\n",
       " 'Batdog',\n",
       " 'Bauer',\n",
       " 'Baxter',\n",
       " 'Bayley',\n",
       " 'BeBe',\n",
       " 'Bear',\n",
       " 'Beau',\n",
       " 'Beckham',\n",
       " 'Beebop',\n",
       " 'Beemo',\n",
       " 'Bell',\n",
       " 'Bella',\n",
       " 'Belle',\n",
       " 'Ben',\n",
       " 'Benedict',\n",
       " 'Benji',\n",
       " 'Benny',\n",
       " 'Bentley',\n",
       " 'Berb',\n",
       " 'Berkeley',\n",
       " 'Bernie',\n",
       " 'Bert',\n",
       " 'Bertson',\n",
       " 'Betty',\n",
       " 'Beya',\n",
       " 'Biden',\n",
       " 'Bilbo',\n",
       " 'Billl',\n",
       " 'Billy',\n",
       " 'Binky',\n",
       " 'Birf',\n",
       " 'Bisquick',\n",
       " 'Blakely',\n",
       " 'Blanket',\n",
       " 'Blipson',\n",
       " 'Blitz',\n",
       " 'Bloo',\n",
       " 'Bloop',\n",
       " 'Blu',\n",
       " 'Blue',\n",
       " 'Bluebert',\n",
       " 'Bo',\n",
       " 'Bob',\n",
       " 'Bobb',\n",
       " 'Bobbay',\n",
       " 'Bobble',\n",
       " 'Bobby',\n",
       " 'Bode',\n",
       " 'Bodie',\n",
       " 'Bonaparte',\n",
       " 'Bones',\n",
       " 'Bookstore',\n",
       " 'Boomer',\n",
       " 'Boots',\n",
       " 'Boston',\n",
       " 'Bowie',\n",
       " 'Brad',\n",
       " 'Bradlay',\n",
       " 'Bradley',\n",
       " 'Brady',\n",
       " 'Brandi',\n",
       " 'Brandonald',\n",
       " 'Brandy',\n",
       " 'Brat',\n",
       " 'Brian',\n",
       " 'Brockly',\n",
       " 'Brody',\n",
       " 'Bronte',\n",
       " 'Brooks',\n",
       " 'Brownie',\n",
       " 'Bruce',\n",
       " 'Brudge',\n",
       " 'Bruiser',\n",
       " 'Bruno',\n",
       " 'Brutus',\n",
       " 'Bubba',\n",
       " 'Bubbles',\n",
       " 'Buckley',\n",
       " 'Buddah',\n",
       " 'Buddy',\n",
       " 'Bungalo',\n",
       " 'Burt',\n",
       " 'Butter',\n",
       " 'Butters',\n",
       " 'Cal',\n",
       " 'Calbert',\n",
       " 'Cali',\n",
       " 'Callie',\n",
       " 'Calvin',\n",
       " 'Canela',\n",
       " 'Cannon',\n",
       " 'Carbon',\n",
       " 'Carl',\n",
       " 'Carll',\n",
       " 'Carly',\n",
       " 'Carper',\n",
       " 'Carter',\n",
       " 'Caryl',\n",
       " 'Cash',\n",
       " 'Cassie',\n",
       " 'CeCe',\n",
       " 'Cecil',\n",
       " 'Cedrick',\n",
       " 'Cermet',\n",
       " 'Chadrick',\n",
       " 'Champ',\n",
       " 'Charl',\n",
       " 'Charles',\n",
       " 'Charleson',\n",
       " 'Charlie',\n",
       " 'Chase',\n",
       " 'Chaz',\n",
       " 'Cheesy',\n",
       " 'Chef',\n",
       " 'Chelsea',\n",
       " 'Cheryl',\n",
       " 'Chesney',\n",
       " 'Chester',\n",
       " 'Chesterson',\n",
       " 'Chet',\n",
       " 'Chevy',\n",
       " 'Chip',\n",
       " 'Chipson',\n",
       " 'Chloe',\n",
       " 'Chompsky',\n",
       " 'Christoper',\n",
       " 'Chubbs',\n",
       " 'Chuck',\n",
       " 'Chuckles',\n",
       " 'Chuq',\n",
       " 'Churlie',\n",
       " 'Cilantro',\n",
       " 'Clarence',\n",
       " 'Clark',\n",
       " 'Clarkus',\n",
       " 'Clarq',\n",
       " 'Claude',\n",
       " 'Cleopatricia',\n",
       " 'Clifford',\n",
       " 'Clybe',\n",
       " 'Clyde',\n",
       " 'Coco',\n",
       " 'Cody',\n",
       " 'Colby',\n",
       " 'Coleman',\n",
       " 'Colin',\n",
       " 'Comet',\n",
       " 'Cooper',\n",
       " 'Coops',\n",
       " 'Coopson',\n",
       " 'Cora',\n",
       " 'Corey',\n",
       " 'Covach',\n",
       " 'Craig',\n",
       " 'Crawford',\n",
       " 'Creg',\n",
       " 'Crimson',\n",
       " 'Crouton',\n",
       " 'Crumpet',\n",
       " 'Crystal',\n",
       " 'Cuddles',\n",
       " 'Cupcake',\n",
       " 'Cupid',\n",
       " 'Curtis',\n",
       " 'Daisy',\n",
       " 'Dakota',\n",
       " 'Dale',\n",
       " 'Dallas',\n",
       " 'Damon',\n",
       " 'Daniel',\n",
       " 'Danny',\n",
       " 'Dante',\n",
       " 'Darby',\n",
       " 'Darla',\n",
       " 'Darrel',\n",
       " 'Dash',\n",
       " 'Dave',\n",
       " 'Davey',\n",
       " 'Dawn',\n",
       " 'DayZ',\n",
       " 'Deacon',\n",
       " 'Derby',\n",
       " 'Derek',\n",
       " 'Devón',\n",
       " 'Dewey',\n",
       " 'Dex',\n",
       " 'Dexter',\n",
       " 'Dido',\n",
       " 'Dietrich',\n",
       " 'Diogi',\n",
       " 'Divine',\n",
       " 'Dixie',\n",
       " 'Django',\n",
       " 'Dobby',\n",
       " 'Doc',\n",
       " 'DonDon',\n",
       " 'Donny',\n",
       " 'Doobert',\n",
       " 'Dook',\n",
       " 'Dot',\n",
       " 'Dotsy',\n",
       " 'Doug',\n",
       " 'Duchess',\n",
       " 'Duddles',\n",
       " 'Dudley',\n",
       " 'Dug',\n",
       " 'Duke',\n",
       " 'Dunkin',\n",
       " 'Durg',\n",
       " 'Dutch',\n",
       " 'Dwight',\n",
       " 'Dylan',\n",
       " 'Earl',\n",
       " 'Eazy',\n",
       " 'Ebby',\n",
       " 'Ed',\n",
       " 'Edd',\n",
       " 'Edgar',\n",
       " 'Edmund',\n",
       " 'Eevee',\n",
       " 'Einstein',\n",
       " 'Eleanor',\n",
       " 'Eli',\n",
       " 'Ellie',\n",
       " 'Elliot',\n",
       " 'Emanuel',\n",
       " 'Emma',\n",
       " 'Emmie',\n",
       " 'Emmy',\n",
       " 'Enchilada',\n",
       " 'Erik',\n",
       " 'Eriq',\n",
       " 'Ester',\n",
       " 'Eugene',\n",
       " 'Eve',\n",
       " 'Evy',\n",
       " 'Fabio',\n",
       " 'Farfle',\n",
       " 'Fido',\n",
       " 'Fiji',\n",
       " 'Fillup',\n",
       " 'Filup',\n",
       " 'Finley',\n",
       " 'Finn',\n",
       " 'Finnegus',\n",
       " 'Fiona',\n",
       " 'Fizz',\n",
       " 'Flash',\n",
       " 'Fletcher',\n",
       " 'Florence',\n",
       " 'Flurpson',\n",
       " 'Flávio',\n",
       " 'Frank',\n",
       " 'Frankie',\n",
       " 'Franklin',\n",
       " 'Franq',\n",
       " 'Fred',\n",
       " 'Freddery',\n",
       " 'Frönq',\n",
       " 'Furzey',\n",
       " 'Fwed',\n",
       " 'Fynn',\n",
       " 'Gabe',\n",
       " 'Gary',\n",
       " 'General',\n",
       " 'Genevieve',\n",
       " 'Geno',\n",
       " 'Geoff',\n",
       " 'George',\n",
       " 'Georgie',\n",
       " 'Gerald',\n",
       " 'Gerbald',\n",
       " 'Gert',\n",
       " 'Gidget',\n",
       " 'Gilbert',\n",
       " 'Gin',\n",
       " 'Ginger',\n",
       " 'Gizmo',\n",
       " 'Glacier',\n",
       " 'Glenn',\n",
       " 'Godi',\n",
       " 'Godzilla',\n",
       " 'Goliath',\n",
       " 'Goose',\n",
       " 'Gordon',\n",
       " 'Grady',\n",
       " 'Grey',\n",
       " 'Griffin',\n",
       " 'Griswold',\n",
       " 'Grizz',\n",
       " 'Grizzie',\n",
       " 'Grizzwald',\n",
       " 'Gromit',\n",
       " 'Gunner',\n",
       " 'Gus',\n",
       " 'Gustaf',\n",
       " 'Gustav',\n",
       " 'Gòrdón',\n",
       " 'Hall',\n",
       " 'Halo',\n",
       " 'Hammond',\n",
       " 'Hamrick',\n",
       " 'Hank',\n",
       " 'Hanz',\n",
       " 'Happy',\n",
       " 'Harlso',\n",
       " 'Harnold',\n",
       " 'Harold',\n",
       " 'Harper',\n",
       " 'Harrison',\n",
       " 'Harry',\n",
       " 'Harvey',\n",
       " 'Hazel',\n",
       " 'Hector',\n",
       " 'Heinrich',\n",
       " 'Henry',\n",
       " 'Herald',\n",
       " 'Herb',\n",
       " 'Hercules',\n",
       " 'Herm',\n",
       " 'Hermione',\n",
       " 'Hero',\n",
       " 'Herschel',\n",
       " 'Hobbes',\n",
       " 'Holly',\n",
       " 'Horace',\n",
       " 'Howie',\n",
       " 'Hubertson',\n",
       " 'Huck',\n",
       " 'Humphrey',\n",
       " 'Hunter',\n",
       " 'Hurley',\n",
       " 'Huxley',\n",
       " 'Iggy',\n",
       " 'Ike',\n",
       " 'Indie',\n",
       " 'Iroh',\n",
       " 'Ito',\n",
       " 'Ivar',\n",
       " 'JD',\n",
       " 'Jack',\n",
       " 'Jackie',\n",
       " 'Jackson',\n",
       " 'Jameson',\n",
       " 'Jamesy',\n",
       " 'Jangle',\n",
       " 'Jareld',\n",
       " 'Jarod',\n",
       " 'Jarvis',\n",
       " 'Jaspers',\n",
       " 'Jax',\n",
       " 'Jay',\n",
       " 'Jaycob',\n",
       " 'Jazz',\n",
       " 'Jazzy',\n",
       " 'Jeb',\n",
       " 'Jebberson',\n",
       " 'Jed',\n",
       " 'Jeffrey',\n",
       " 'Jeffri',\n",
       " 'Jeffrie',\n",
       " 'Jennifur',\n",
       " 'Jeph',\n",
       " 'Jeremy',\n",
       " 'Jerome',\n",
       " 'Jerry',\n",
       " 'Jersey',\n",
       " 'Jesse',\n",
       " 'Jessifer',\n",
       " 'Jessiga',\n",
       " 'Jett',\n",
       " 'Jim',\n",
       " 'Jimbo',\n",
       " 'Jiminus',\n",
       " 'Jiminy',\n",
       " 'Jimison',\n",
       " 'Jimothy',\n",
       " 'Jo',\n",
       " 'Jockson',\n",
       " 'Joey',\n",
       " 'Jomathan',\n",
       " 'Jonah',\n",
       " 'Jordy',\n",
       " 'Josep',\n",
       " 'Joshwa',\n",
       " 'Juckson',\n",
       " 'Julio',\n",
       " 'Julius',\n",
       " 'Juno',\n",
       " 'Kaia',\n",
       " 'Kaiya',\n",
       " 'Kallie',\n",
       " 'Kane',\n",
       " 'Kanu',\n",
       " 'Kara',\n",
       " 'Karl',\n",
       " 'Karll',\n",
       " 'Karma',\n",
       " 'Kathmandu',\n",
       " 'Katie',\n",
       " 'Kawhi',\n",
       " 'Kayla',\n",
       " 'Keet',\n",
       " 'Keith',\n",
       " 'Kellogg',\n",
       " 'Ken',\n",
       " 'Kendall',\n",
       " 'Kenneth',\n",
       " 'Kenny',\n",
       " 'Kenzie',\n",
       " 'Keurig',\n",
       " 'Kevin',\n",
       " 'Kevon',\n",
       " 'Kial',\n",
       " 'Kilo',\n",
       " 'Kingsley',\n",
       " 'Kirby',\n",
       " 'Kirk',\n",
       " 'Klein',\n",
       " 'Klevin',\n",
       " 'Kloey',\n",
       " 'Kobe',\n",
       " 'Koda',\n",
       " 'Kody',\n",
       " 'Koko',\n",
       " 'Kollin',\n",
       " 'Kona',\n",
       " 'Kota',\n",
       " 'Kramer',\n",
       " 'Kreg',\n",
       " 'Kreggory',\n",
       " 'Kulet',\n",
       " 'Kuyu',\n",
       " 'Kyle',\n",
       " 'Kyro',\n",
       " 'Lacy',\n",
       " 'Laela',\n",
       " 'Laika',\n",
       " 'Lambeau',\n",
       " 'Lance',\n",
       " 'Larry',\n",
       " 'Lassie',\n",
       " 'Layla',\n",
       " 'Leela',\n",
       " 'Lennon',\n",
       " 'Lenny',\n",
       " 'Lenox',\n",
       " 'Leo',\n",
       " 'Leonard',\n",
       " 'Leonidas',\n",
       " 'Levi',\n",
       " 'Liam',\n",
       " 'Lilah',\n",
       " 'Lili',\n",
       " 'Lilli',\n",
       " 'Lillie',\n",
       " 'Lilly',\n",
       " 'Lily',\n",
       " 'Lincoln',\n",
       " 'Linda',\n",
       " 'Link',\n",
       " 'Lipton',\n",
       " 'Livvie',\n",
       " 'Lizzie',\n",
       " 'Logan',\n",
       " 'Loki',\n",
       " 'Lola',\n",
       " 'Lolo',\n",
       " 'Longfellow',\n",
       " 'Loomis',\n",
       " 'Lorelei',\n",
       " 'Lorenzo',\n",
       " 'Lou',\n",
       " 'Louie',\n",
       " 'Louis',\n",
       " 'Luca',\n",
       " 'Lucia',\n",
       " 'Lucky',\n",
       " 'Lucy',\n",
       " 'Lugan',\n",
       " 'Lulu',\n",
       " 'Luna',\n",
       " 'Lupe',\n",
       " 'Luther',\n",
       " 'Mabel',\n",
       " 'Mac',\n",
       " 'Mack',\n",
       " 'Maddie',\n",
       " 'Maggie',\n",
       " 'Mairi',\n",
       " 'Maisey',\n",
       " 'Major',\n",
       " 'Maks',\n",
       " 'Malcolm',\n",
       " 'Malikai',\n",
       " 'Margo',\n",
       " 'Mark',\n",
       " 'Marlee',\n",
       " 'Marley',\n",
       " 'Marq',\n",
       " 'Marty',\n",
       " 'Marvin',\n",
       " 'Mary',\n",
       " 'Mason',\n",
       " 'Mattie',\n",
       " 'Maude',\n",
       " 'Mauve',\n",
       " 'Max',\n",
       " 'Maxaroni',\n",
       " 'Maximus',\n",
       " 'Maxwell',\n",
       " 'Maya',\n",
       " 'Meatball',\n",
       " 'Meera',\n",
       " 'Meyer',\n",
       " 'Mia',\n",
       " 'Michelangelope',\n",
       " 'Miguel',\n",
       " 'Mike',\n",
       " 'Miley',\n",
       " 'Milky',\n",
       " 'Millie',\n",
       " 'Milo',\n",
       " 'Mimosa',\n",
       " 'Mingus',\n",
       " 'Mister',\n",
       " 'Misty',\n",
       " 'Mitch',\n",
       " 'Mo',\n",
       " 'Moe',\n",
       " 'Mojo',\n",
       " 'Mollie',\n",
       " 'Molly',\n",
       " 'Mona',\n",
       " 'Monkey',\n",
       " 'Monster',\n",
       " 'Monty',\n",
       " 'Moofasa',\n",
       " 'Mookie',\n",
       " 'Moose',\n",
       " 'Moreton',\n",
       " 'Mosby',\n",
       " 'Murphy',\n",
       " 'Mutt',\n",
       " 'Mya',\n",
       " 'Nala',\n",
       " 'Naphaniel',\n",
       " 'Napolean',\n",
       " 'Nelly',\n",
       " 'Neptune',\n",
       " 'Newt',\n",
       " 'Nico',\n",
       " 'Nida',\n",
       " 'Nigel',\n",
       " 'Nimbus',\n",
       " 'Noah',\n",
       " 'Nollie',\n",
       " 'None',\n",
       " 'Noosh',\n",
       " 'Norman',\n",
       " 'Nugget',\n",
       " \"O'Malley\",\n",
       " 'Oakley',\n",
       " 'Obi',\n",
       " 'Obie',\n",
       " 'Odie',\n",
       " 'Odin',\n",
       " 'Olaf',\n",
       " 'Ole',\n",
       " 'Olive',\n",
       " 'Oliver',\n",
       " 'Olivia',\n",
       " 'Oliviér',\n",
       " 'Ollie',\n",
       " 'Opal',\n",
       " 'Opie',\n",
       " 'Oreo',\n",
       " 'Orion',\n",
       " 'Oscar',\n",
       " 'Oshie',\n",
       " 'Otis',\n",
       " 'Ozzie',\n",
       " 'Ozzy',\n",
       " 'Pablo',\n",
       " 'Paisley',\n",
       " 'Pancake',\n",
       " 'Panda',\n",
       " 'Patch',\n",
       " 'Patrick',\n",
       " 'Paull',\n",
       " 'Pavlov',\n",
       " 'Pawnd',\n",
       " 'Peaches',\n",
       " 'Peanut',\n",
       " 'Penelope',\n",
       " 'Penny',\n",
       " 'Pepper',\n",
       " 'Percy',\n",
       " 'Perry',\n",
       " 'Pete',\n",
       " 'Petrick',\n",
       " 'Phil',\n",
       " 'Philbert',\n",
       " 'Philippe',\n",
       " 'Phineas',\n",
       " 'Phred',\n",
       " 'Pickles',\n",
       " 'Pilot',\n",
       " 'Pinot',\n",
       " 'Pip',\n",
       " 'Piper',\n",
       " 'Pippa',\n",
       " 'Pippin',\n",
       " 'Pipsy',\n",
       " 'Pluto',\n",
       " 'Poppy',\n",
       " 'Pubert',\n",
       " 'Puff',\n",
       " 'Pumpkin',\n",
       " 'Pupcasso',\n",
       " 'Quinn',\n",
       " 'Ralf',\n",
       " 'Ralph',\n",
       " 'Ralpher',\n",
       " 'Ralphie',\n",
       " 'Ralphson',\n",
       " 'Ralphus',\n",
       " 'Ralphé',\n",
       " 'Rambo',\n",
       " 'Randall',\n",
       " 'Raphael',\n",
       " 'Raymond',\n",
       " 'Reagan',\n",
       " 'Reese',\n",
       " 'Reggie',\n",
       " 'Reginald',\n",
       " 'Remington',\n",
       " 'Remus',\n",
       " 'Remy',\n",
       " 'Reptar',\n",
       " 'Rey',\n",
       " 'Rhino',\n",
       " 'Richie',\n",
       " 'Ricky',\n",
       " 'Ridley',\n",
       " 'Riley',\n",
       " 'Rilo',\n",
       " 'Rinna',\n",
       " 'River',\n",
       " 'Rizzo',\n",
       " 'Rizzy',\n",
       " 'Robin',\n",
       " 'Rocco',\n",
       " 'Rocky',\n",
       " 'Rodman',\n",
       " 'Rodney',\n",
       " 'Rolf',\n",
       " 'Romeo',\n",
       " 'Ron',\n",
       " 'Ronduh',\n",
       " 'Ronnie',\n",
       " 'Rontu',\n",
       " 'Rooney',\n",
       " 'Roosevelt',\n",
       " 'Rorie',\n",
       " 'Rory',\n",
       " 'Roscoe',\n",
       " 'Rose',\n",
       " 'Rosie',\n",
       " 'Rover',\n",
       " 'Rubio',\n",
       " 'Ruby',\n",
       " 'Rueben',\n",
       " 'Ruffles',\n",
       " 'Rufio',\n",
       " 'Rufus',\n",
       " 'Rumble',\n",
       " 'Rumpole',\n",
       " 'Rupert',\n",
       " 'Rusty',\n",
       " 'Sadie',\n",
       " 'Sage',\n",
       " 'Sailer',\n",
       " 'Sailor',\n",
       " 'Sam',\n",
       " 'Sammy',\n",
       " 'Sampson',\n",
       " 'Samsom',\n",
       " 'Samson',\n",
       " 'Sandra',\n",
       " 'Sandy',\n",
       " 'Sansa',\n",
       " 'Sarge',\n",
       " 'Saydee',\n",
       " 'Schnitzel',\n",
       " 'Schnozz',\n",
       " 'Scooter',\n",
       " 'Scott',\n",
       " 'Scout',\n",
       " 'Scruffers',\n",
       " 'Sebastian',\n",
       " 'Sephie',\n",
       " 'Severus',\n",
       " 'Shadoe',\n",
       " 'Shadow',\n",
       " 'Shaggy',\n",
       " 'Shakespeare',\n",
       " 'Shawwn',\n",
       " 'Shelby',\n",
       " 'Shikha',\n",
       " 'Shiloh',\n",
       " 'Shnuggles',\n",
       " 'Shooter',\n",
       " 'Siba',\n",
       " 'Sid',\n",
       " 'Sierra',\n",
       " 'Simba',\n",
       " 'Skittles',\n",
       " 'Sky',\n",
       " 'Skye',\n",
       " 'Smiley',\n",
       " 'Smokey',\n",
       " 'Snickers',\n",
       " 'Snicku',\n",
       " 'Snoop',\n",
       " 'Snoopy',\n",
       " 'Sobe',\n",
       " 'Socks',\n",
       " 'Sojourner',\n",
       " 'Solomon',\n",
       " 'Sonny',\n",
       " 'Sophie',\n",
       " 'Sora',\n",
       " 'Spanky',\n",
       " 'Spark',\n",
       " 'Sparky',\n",
       " 'Spencer',\n",
       " 'Sprinkles',\n",
       " 'Sprout',\n",
       " 'Staniel',\n",
       " 'Stanley',\n",
       " 'Stark',\n",
       " 'Stefan',\n",
       " 'Stella',\n",
       " 'Stephan',\n",
       " 'Stephanus',\n",
       " 'Steve',\n",
       " 'Steven',\n",
       " 'Stewie',\n",
       " 'Storkson',\n",
       " 'Stormy',\n",
       " 'Strider',\n",
       " 'Striker',\n",
       " 'Strudel',\n",
       " 'Stu',\n",
       " 'Stuart',\n",
       " 'Stubert',\n",
       " 'Sugar',\n",
       " 'Suki',\n",
       " 'Sully',\n",
       " 'Sundance',\n",
       " 'Sunny',\n",
       " 'Sunshine',\n",
       " 'Superpup',\n",
       " 'Swagger',\n",
       " 'Sweet',\n",
       " 'Taco',\n",
       " 'Tango',\n",
       " 'Tanner',\n",
       " 'Tassy',\n",
       " 'Tater',\n",
       " 'Tayzie',\n",
       " 'Taz',\n",
       " 'Tebow',\n",
       " 'Ted',\n",
       " 'Tedders',\n",
       " 'Tedrick',\n",
       " 'Terrance',\n",
       " 'Terrenth',\n",
       " 'Terry',\n",
       " 'Tess',\n",
       " 'Tessa',\n",
       " 'Theo',\n",
       " 'Theodore',\n",
       " 'Thor',\n",
       " 'Thumas',\n",
       " 'Tiger',\n",
       " 'Tilly',\n",
       " 'Timber',\n",
       " 'Timison',\n",
       " 'Timmy',\n",
       " 'Timofy',\n",
       " 'Tino',\n",
       " 'Titan',\n",
       " 'Tito',\n",
       " 'Tobi',\n",
       " 'Toby',\n",
       " 'Todo',\n",
       " 'Toffee',\n",
       " 'Tom',\n",
       " 'Tommy',\n",
       " 'Tonks',\n",
       " 'Torque',\n",
       " 'Tove',\n",
       " 'Travis',\n",
       " 'Traviss',\n",
       " 'Trevith',\n",
       " 'Trigger',\n",
       " 'Trip',\n",
       " 'Tripp',\n",
       " 'Trooper',\n",
       " 'Tuck',\n",
       " 'Tucker',\n",
       " 'Tuco',\n",
       " 'Tug',\n",
       " 'Tupawc',\n",
       " 'Tycho',\n",
       " 'Tyr',\n",
       " 'Tyrone',\n",
       " 'Tyrus',\n",
       " 'Ulysses',\n",
       " 'Venti',\n",
       " 'Vince',\n",
       " 'Vincent',\n",
       " 'Vinnie',\n",
       " 'Vinscent',\n",
       " 'Vixen',\n",
       " 'Wafer',\n",
       " 'Waffles',\n",
       " 'Walker',\n",
       " 'Wallace',\n",
       " 'Wally',\n",
       " 'Walter',\n",
       " 'Watson',\n",
       " 'Wesley',\n",
       " 'Wiggles',\n",
       " 'Willem',\n",
       " 'William',\n",
       " 'Willie',\n",
       " 'Willow',\n",
       " 'Willy',\n",
       " 'Wilson',\n",
       " 'Winifred',\n",
       " 'Winnie',\n",
       " 'Winston',\n",
       " 'Wishes',\n",
       " 'Wyatt',\n",
       " 'Yoda',\n",
       " 'Yogi',\n",
       " 'Zara',\n",
       " 'Zeek',\n",
       " 'Zeke',\n",
       " 'Zeus',\n",
       " 'Ziva',\n",
       " 'Zoe',\n",
       " 'Zoey',\n",
       " 'Zooey',\n",
       " 'Zuzu']"
      ]
     },
     "execution_count": 486,
     "metadata": {},
     "output_type": "execute_result"
    }
   ],
   "source": [
    "sorted(list(df_clean['name'].unique()))"
   ]
  },
  {
   "cell_type": "code",
   "execution_count": 487,
   "metadata": {},
   "outputs": [
    {
     "data": {
      "text/plain": [
       "Abby            2\n",
       "Ace             1\n",
       "Acro            1\n",
       "Adele           1\n",
       "Aiden           1\n",
       "Aja             1\n",
       "Akumi           1\n",
       "Al              1\n",
       "Albert          2\n",
       "Albus           2\n",
       "Aldrick         1\n",
       "Alejandro       1\n",
       "Alexander       1\n",
       "Alexanderson    1\n",
       "Alf             1\n",
       "Alfie           4\n",
       "Alfy            1\n",
       "Alice           2\n",
       "Amber           1\n",
       "Ambrose         1\n",
       "Amy             1\n",
       "Amélie          1\n",
       "Anakin          1\n",
       "Andru           1\n",
       "Andy            1\n",
       "Angel           1\n",
       "Anna            1\n",
       "Anthony         1\n",
       "Antony          1\n",
       "Apollo          1\n",
       "               ..\n",
       "Waffles         3\n",
       "Walker          1\n",
       "Wallace         3\n",
       "Wally           2\n",
       "Walter          3\n",
       "Watson          2\n",
       "Wesley          1\n",
       "Wiggles         1\n",
       "Willem          1\n",
       "William         1\n",
       "Willie          1\n",
       "Willow          1\n",
       "Willy           1\n",
       "Wilson          3\n",
       "Winifred        1\n",
       "Winnie          4\n",
       "Winston         8\n",
       "Wishes          1\n",
       "Wyatt           3\n",
       "Yoda            1\n",
       "Yogi            2\n",
       "Zara            1\n",
       "Zeek            1\n",
       "Zeke            3\n",
       "Zeus            1\n",
       "Ziva            1\n",
       "Zoe             1\n",
       "Zoey            3\n",
       "Zooey           1\n",
       "Zuzu            1\n",
       "Name: name, Length: 914, dtype: int64"
      ]
     },
     "execution_count": 487,
     "metadata": {},
     "output_type": "execute_result"
    }
   ],
   "source": [
    "df_clean['name'].value_counts().sort_index()"
   ]
  },
  {
   "cell_type": "code",
   "execution_count": 488,
   "metadata": {},
   "outputs": [
    {
     "name": "stdout",
     "output_type": "stream",
     "text": [
      "<class 'pandas.core.frame.DataFrame'>\n",
      "Int64Index: 1990 entries, 0 to 2355\n",
      "Data columns (total 11 columns):\n",
      "tweet_id         1990 non-null int64\n",
      "timestamp        1990 non-null datetime64[ns]\n",
      "text             1990 non-null object\n",
      "expanded_urls    1990 non-null object\n",
      "name             1990 non-null object\n",
      "doggo            1990 non-null object\n",
      "floofer          1990 non-null object\n",
      "pupper           1990 non-null object\n",
      "puppo            1990 non-null object\n",
      "source           1990 non-null category\n",
      "rating           1990 non-null float64\n",
      "dtypes: category(1), datetime64[ns](1), float64(1), int64(1), object(7)\n",
      "memory usage: 253.1+ KB\n"
     ]
    }
   ],
   "source": [
    "df_clean.info()"
   ]
  },
  {
   "cell_type": "markdown",
   "metadata": {},
   "source": [
    "**values in p1, p2, p3 columns in img_df_copy are in inconsistent format**"
   ]
  },
  {
   "cell_type": "markdown",
   "metadata": {},
   "source": [
    "**Define**"
   ]
  },
  {
   "cell_type": "markdown",
   "metadata": {},
   "source": [
    "Capitalize the first letter of values in p1.\n",
    "\n",
    "p1 appears to be the important one among p1, p2 and p3. p2_conf and p3_conf do not have any values greater than 0.95. So we will use just p1, p1_conf and p1_dog for further analysis."
   ]
  },
  {
   "cell_type": "markdown",
   "metadata": {},
   "source": [
    "**Code**"
   ]
  },
  {
   "cell_type": "code",
   "execution_count": 489,
   "metadata": {},
   "outputs": [],
   "source": [
    "capitalizer = lambda x: x.capitalize()\n",
    "\n",
    "img_df_copy['p1'] = img_df_copy['p1'].str.lower().apply(capitalizer)"
   ]
  },
  {
   "cell_type": "markdown",
   "metadata": {},
   "source": [
    "**Test**"
   ]
  },
  {
   "cell_type": "code",
   "execution_count": 490,
   "metadata": {},
   "outputs": [
    {
     "data": {
      "text/plain": [
       "1612    Pembroke          \n",
       "1414    Meerkat           \n",
       "1322    Geyser            \n",
       "595     Chihuahua         \n",
       "1534    Labrador_retriever\n",
       "1375    Seat_belt         \n",
       "1315    Pug               \n",
       "1356    Samoyed           \n",
       "421     Robin             \n",
       "381     Miniature_pinscher\n",
       "Name: p1, dtype: object"
      ]
     },
     "execution_count": 490,
     "metadata": {},
     "output_type": "execute_result"
    }
   ],
   "source": [
    "img_df_copy['p1'].sample(10)"
   ]
  },
  {
   "cell_type": "code",
   "execution_count": 491,
   "metadata": {},
   "outputs": [
    {
     "data": {
      "text/html": [
       "<div>\n",
       "<style scoped>\n",
       "    .dataframe tbody tr th:only-of-type {\n",
       "        vertical-align: middle;\n",
       "    }\n",
       "\n",
       "    .dataframe tbody tr th {\n",
       "        vertical-align: top;\n",
       "    }\n",
       "\n",
       "    .dataframe thead th {\n",
       "        text-align: right;\n",
       "    }\n",
       "</style>\n",
       "<table border=\"1\" class=\"dataframe\">\n",
       "  <thead>\n",
       "    <tr style=\"text-align: right;\">\n",
       "      <th></th>\n",
       "      <th>tweet_id</th>\n",
       "      <th>jpg_url</th>\n",
       "      <th>img_num</th>\n",
       "      <th>p1</th>\n",
       "      <th>p1_conf</th>\n",
       "      <th>p1_dog</th>\n",
       "      <th>p2</th>\n",
       "      <th>p2_conf</th>\n",
       "      <th>p2_dog</th>\n",
       "      <th>p3</th>\n",
       "      <th>p3_conf</th>\n",
       "      <th>p3_dog</th>\n",
       "    </tr>\n",
       "  </thead>\n",
       "  <tbody>\n",
       "    <tr>\n",
       "      <th>0</th>\n",
       "      <td>666020888022790149</td>\n",
       "      <td>https://pbs.twimg.com/media/CT4udn0WwAA0aMy.jpg</td>\n",
       "      <td>1</td>\n",
       "      <td>Welsh_springer_spaniel</td>\n",
       "      <td>0.465074</td>\n",
       "      <td>True</td>\n",
       "      <td>collie</td>\n",
       "      <td>0.156665</td>\n",
       "      <td>True</td>\n",
       "      <td>Shetland_sheepdog</td>\n",
       "      <td>0.061428</td>\n",
       "      <td>True</td>\n",
       "    </tr>\n",
       "    <tr>\n",
       "      <th>1</th>\n",
       "      <td>666029285002620928</td>\n",
       "      <td>https://pbs.twimg.com/media/CT42GRgUYAA5iDo.jpg</td>\n",
       "      <td>1</td>\n",
       "      <td>Redbone</td>\n",
       "      <td>0.506826</td>\n",
       "      <td>True</td>\n",
       "      <td>miniature_pinscher</td>\n",
       "      <td>0.074192</td>\n",
       "      <td>True</td>\n",
       "      <td>Rhodesian_ridgeback</td>\n",
       "      <td>0.072010</td>\n",
       "      <td>True</td>\n",
       "    </tr>\n",
       "    <tr>\n",
       "      <th>2</th>\n",
       "      <td>666033412701032449</td>\n",
       "      <td>https://pbs.twimg.com/media/CT4521TWwAEvMyu.jpg</td>\n",
       "      <td>1</td>\n",
       "      <td>German_shepherd</td>\n",
       "      <td>0.596461</td>\n",
       "      <td>True</td>\n",
       "      <td>malinois</td>\n",
       "      <td>0.138584</td>\n",
       "      <td>True</td>\n",
       "      <td>bloodhound</td>\n",
       "      <td>0.116197</td>\n",
       "      <td>True</td>\n",
       "    </tr>\n",
       "    <tr>\n",
       "      <th>3</th>\n",
       "      <td>666044226329800704</td>\n",
       "      <td>https://pbs.twimg.com/media/CT5Dr8HUEAA-lEu.jpg</td>\n",
       "      <td>1</td>\n",
       "      <td>Rhodesian_ridgeback</td>\n",
       "      <td>0.408143</td>\n",
       "      <td>True</td>\n",
       "      <td>redbone</td>\n",
       "      <td>0.360687</td>\n",
       "      <td>True</td>\n",
       "      <td>miniature_pinscher</td>\n",
       "      <td>0.222752</td>\n",
       "      <td>True</td>\n",
       "    </tr>\n",
       "    <tr>\n",
       "      <th>4</th>\n",
       "      <td>666049248165822465</td>\n",
       "      <td>https://pbs.twimg.com/media/CT5IQmsXIAAKY4A.jpg</td>\n",
       "      <td>1</td>\n",
       "      <td>Miniature_pinscher</td>\n",
       "      <td>0.560311</td>\n",
       "      <td>True</td>\n",
       "      <td>Rottweiler</td>\n",
       "      <td>0.243682</td>\n",
       "      <td>True</td>\n",
       "      <td>Doberman</td>\n",
       "      <td>0.154629</td>\n",
       "      <td>True</td>\n",
       "    </tr>\n",
       "  </tbody>\n",
       "</table>\n",
       "</div>"
      ],
      "text/plain": [
       "             tweet_id                                          jpg_url  \\\n",
       "0  666020888022790149  https://pbs.twimg.com/media/CT4udn0WwAA0aMy.jpg   \n",
       "1  666029285002620928  https://pbs.twimg.com/media/CT42GRgUYAA5iDo.jpg   \n",
       "2  666033412701032449  https://pbs.twimg.com/media/CT4521TWwAEvMyu.jpg   \n",
       "3  666044226329800704  https://pbs.twimg.com/media/CT5Dr8HUEAA-lEu.jpg   \n",
       "4  666049248165822465  https://pbs.twimg.com/media/CT5IQmsXIAAKY4A.jpg   \n",
       "\n",
       "   img_num                      p1   p1_conf  p1_dog                  p2  \\\n",
       "0  1        Welsh_springer_spaniel  0.465074  True    collie               \n",
       "1  1        Redbone                 0.506826  True    miniature_pinscher   \n",
       "2  1        German_shepherd         0.596461  True    malinois             \n",
       "3  1        Rhodesian_ridgeback     0.408143  True    redbone              \n",
       "4  1        Miniature_pinscher      0.560311  True    Rottweiler           \n",
       "\n",
       "    p2_conf  p2_dog                   p3   p3_conf  p3_dog  \n",
       "0  0.156665  True    Shetland_sheepdog    0.061428  True    \n",
       "1  0.074192  True    Rhodesian_ridgeback  0.072010  True    \n",
       "2  0.138584  True    bloodhound           0.116197  True    \n",
       "3  0.360687  True    miniature_pinscher   0.222752  True    \n",
       "4  0.243682  True    Doberman             0.154629  True    "
      ]
     },
     "execution_count": 491,
     "metadata": {},
     "output_type": "execute_result"
    }
   ],
   "source": [
    "img_df_copy.head()"
   ]
  },
  {
   "cell_type": "markdown",
   "metadata": {},
   "source": [
    "**Find gender from text column**"
   ]
  },
  {
   "cell_type": "markdown",
   "metadata": {},
   "source": [
    "**Define**"
   ]
  },
  {
   "cell_type": "markdown",
   "metadata": {},
   "source": [
    "Create a function to find gender based on some words in text column"
   ]
  },
  {
   "cell_type": "markdown",
   "metadata": {},
   "source": [
    "**Code**"
   ]
  },
  {
   "cell_type": "code",
   "execution_count": 492,
   "metadata": {},
   "outputs": [],
   "source": [
    "# Set up gender lists and container\n",
    "male = ['boy', 'he', \"he's\", 'hes', \"he's\", 'him', 'himself', 'his',  \n",
    "         'male', 'stud']\n",
    "female = ['bitch', 'female', 'girl', 'her', 'hers', \"her's\",\n",
    "          'herself', 'she', 'shes', \"she's\"]\n",
    "\n",
    "# Create calc gender function\n",
    "def calc_gender(text):\n",
    "    text = text.replace(\"'\", \"\") # Encoding problems (sigh)\n",
    "    text = text.lower().split()\n",
    "    for word in text:\n",
    "        if word in male:\n",
    "            return 0\n",
    "        elif word in female:\n",
    "            return 1\n",
    "        else:\n",
    "            pass\n",
    "    else:\n",
    "        return np.nan\n",
    "    \n",
    "# Reference: http://lindsaymoir.com/wp-content/uploads/2018/06/wrangle_act-1.html"
   ]
  },
  {
   "cell_type": "code",
   "execution_count": 493,
   "metadata": {},
   "outputs": [],
   "source": [
    "# Apply the function.\n",
    "df_clean['gender'] = df_clean['text'].apply(calc_gender)"
   ]
  },
  {
   "cell_type": "code",
   "execution_count": 494,
   "metadata": {},
   "outputs": [
    {
     "data": {
      "text/plain": [
       "0.0    1011\n",
       "1.0    338 \n",
       "Name: gender, dtype: int64"
      ]
     },
     "execution_count": 494,
     "metadata": {},
     "output_type": "execute_result"
    }
   ],
   "source": [
    "df_clean['gender'].value_counts()"
   ]
  },
  {
   "cell_type": "code",
   "execution_count": 495,
   "metadata": {},
   "outputs": [
    {
     "name": "stdout",
     "output_type": "stream",
     "text": [
      "<class 'pandas.core.frame.DataFrame'>\n",
      "Int64Index: 1990 entries, 0 to 2355\n",
      "Data columns (total 12 columns):\n",
      "tweet_id         1990 non-null int64\n",
      "timestamp        1990 non-null datetime64[ns]\n",
      "text             1990 non-null object\n",
      "expanded_urls    1990 non-null object\n",
      "name             1990 non-null object\n",
      "doggo            1990 non-null object\n",
      "floofer          1990 non-null object\n",
      "pupper           1990 non-null object\n",
      "puppo            1990 non-null object\n",
      "source           1990 non-null category\n",
      "rating           1990 non-null float64\n",
      "gender           1349 non-null category\n",
      "dtypes: category(2), datetime64[ns](1), float64(1), int64(1), object(7)\n",
      "memory usage: 255.1+ KB\n"
     ]
    }
   ],
   "source": [
    "df_clean['gender']=df_clean['gender'].astype('category')\n",
    "df_clean.info()"
   ]
  },
  {
   "cell_type": "markdown",
   "metadata": {},
   "source": [
    "### Tidiness"
   ]
  },
  {
   "cell_type": "markdown",
   "metadata": {},
   "source": [
    "doggo, floofer, pupper and puppo columns in df_clean table should be merged into one column named \"stage\""
   ]
  },
  {
   "cell_type": "markdown",
   "metadata": {},
   "source": [
    "**Define**"
   ]
  },
  {
   "cell_type": "markdown",
   "metadata": {},
   "source": [
    "Replace 'None' in doggo, floofer, pupper and puppo columns with 0\n",
    "\n",
    "Replace doggo, floofer, pupper and puppo in doggo, floofer, pupper and puppo columns with 1 respectively.\n",
    "\n",
    "Merge the doggo, floofer, pupper and puppo columns in a single column called stage. \n",
    "\n",
    "Convert the datatype from string to categorical as it helps with analysis and visualization.\n",
    "\n",
    "Drop the doggo, floofer, pupper and puppo columns."
   ]
  },
  {
   "cell_type": "markdown",
   "metadata": {},
   "source": [
    "**Code**"
   ]
  },
  {
   "cell_type": "code",
   "execution_count": 496,
   "metadata": {},
   "outputs": [],
   "source": [
    "df_clean['doggo'] = df_clean['doggo'].replace('None',0)\n",
    "df_clean['doggo'] = df_clean['doggo'].replace('doggo',1)\n",
    "\n",
    "df_clean['floofer'] = df_clean['floofer'].replace('None', 0)\n",
    "df_clean['floofer'] = df_clean['floofer'].replace('floofer', 1)\n",
    "\n",
    "df_clean['pupper'] = df_clean['pupper'].replace('None', 0)\n",
    "df_clean['pupper'] = df_clean['pupper'].replace('pupper', 1)\n",
    "\n",
    "df_clean['puppo'] = df_clean['puppo'].replace('None', 0)\n",
    "df_clean['puppo'] = df_clean['puppo'].replace('puppo', 1)"
   ]
  },
  {
   "cell_type": "code",
   "execution_count": 497,
   "metadata": {},
   "outputs": [],
   "source": [
    "# if doggo, floofer, pupper, puppo have 0 as values, then stage is 'None'\n",
    "df_clean.loc[(df_clean['doggo']==0) & (df_clean['floofer']==0) & (df_clean['pupper']==0) & (df_clean['puppo']==0), 'stage'] = 'None'\n",
    "\n",
    "# if doggo is 1, floofer, pupper, puppo all three have 0 as values, then stage is 'doggo'\n",
    "df_clean.loc[(df_clean['doggo']==1) & (df_clean['floofer']==0) & (df_clean['pupper']==0) & (df_clean['puppo']==0), 'stage'] = 'doggo'\n",
    "\n",
    "# if doggo is 0, floofer is 1, pupper is 0, puppo is 0, then stage is 'floofer'\n",
    "df_clean.loc[(df_clean['doggo']==0) & (df_clean['floofer']==1) & (df_clean['pupper']==0) & (df_clean['puppo']==0), 'stage'] = 'floofer'\n",
    "\n",
    "# if doggo is 0, floofer is 0, pupper is 1, puppo is 0, then stage is 'pupper'\n",
    "df_clean.loc[(df_clean['doggo']==0) & (df_clean['floofer']==0) & (df_clean['pupper']==1) & (df_clean['puppo']==0), 'stage'] = 'pupper'\n",
    "\n",
    "# if doggo is 0, floofer is 0, pupper is 0, puppo is 1, then stage is 'puppo'\n",
    "df_clean.loc[(df_clean['doggo']==0) & (df_clean['floofer']==0) & (df_clean['pupper']==0) & (df_clean['puppo']==1), 'stage'] = 'puppo'"
   ]
  },
  {
   "cell_type": "markdown",
   "metadata": {},
   "source": [
    "**some records have more than one dog stage**"
   ]
  },
  {
   "cell_type": "markdown",
   "metadata": {},
   "source": [
    "**Define**"
   ]
  },
  {
   "cell_type": "markdown",
   "metadata": {},
   "source": [
    "Identify rows that have more than one dog stage and clean the data accordingly"
   ]
  },
  {
   "cell_type": "markdown",
   "metadata": {},
   "source": [
    "**Code**"
   ]
  },
  {
   "cell_type": "code",
   "execution_count": 498,
   "metadata": {
    "scrolled": false
   },
   "outputs": [
    {
     "data": {
      "text/html": [
       "<div>\n",
       "<style scoped>\n",
       "    .dataframe tbody tr th:only-of-type {\n",
       "        vertical-align: middle;\n",
       "    }\n",
       "\n",
       "    .dataframe tbody tr th {\n",
       "        vertical-align: top;\n",
       "    }\n",
       "\n",
       "    .dataframe thead th {\n",
       "        text-align: right;\n",
       "    }\n",
       "</style>\n",
       "<table border=\"1\" class=\"dataframe\">\n",
       "  <thead>\n",
       "    <tr style=\"text-align: right;\">\n",
       "      <th></th>\n",
       "      <th></th>\n",
       "      <th></th>\n",
       "      <th></th>\n",
       "      <th>tweet_id</th>\n",
       "    </tr>\n",
       "    <tr>\n",
       "      <th>doggo</th>\n",
       "      <th>floofer</th>\n",
       "      <th>pupper</th>\n",
       "      <th>puppo</th>\n",
       "      <th></th>\n",
       "    </tr>\n",
       "  </thead>\n",
       "  <tbody>\n",
       "    <tr>\n",
       "      <th rowspan=\"4\" valign=\"top\">0</th>\n",
       "      <th rowspan=\"3\" valign=\"top\">0</th>\n",
       "      <th rowspan=\"2\" valign=\"top\">0</th>\n",
       "      <th>0</th>\n",
       "      <td>1684</td>\n",
       "    </tr>\n",
       "    <tr>\n",
       "      <th>1</th>\n",
       "      <td>22</td>\n",
       "    </tr>\n",
       "    <tr>\n",
       "      <th>1</th>\n",
       "      <th>0</th>\n",
       "      <td>203</td>\n",
       "    </tr>\n",
       "    <tr>\n",
       "      <th>1</th>\n",
       "      <th>0</th>\n",
       "      <th>0</th>\n",
       "      <td>7</td>\n",
       "    </tr>\n",
       "    <tr>\n",
       "      <th rowspan=\"4\" valign=\"top\">1</th>\n",
       "      <th rowspan=\"3\" valign=\"top\">0</th>\n",
       "      <th rowspan=\"2\" valign=\"top\">0</th>\n",
       "      <th>0</th>\n",
       "      <td>63</td>\n",
       "    </tr>\n",
       "    <tr>\n",
       "      <th>1</th>\n",
       "      <td>1</td>\n",
       "    </tr>\n",
       "    <tr>\n",
       "      <th>1</th>\n",
       "      <th>0</th>\n",
       "      <td>9</td>\n",
       "    </tr>\n",
       "    <tr>\n",
       "      <th>1</th>\n",
       "      <th>0</th>\n",
       "      <th>0</th>\n",
       "      <td>1</td>\n",
       "    </tr>\n",
       "  </tbody>\n",
       "</table>\n",
       "</div>"
      ],
      "text/plain": [
       "                            tweet_id\n",
       "doggo floofer pupper puppo          \n",
       "0     0       0      0      1684    \n",
       "                     1      22      \n",
       "              1      0      203     \n",
       "      1       0      0      7       \n",
       "1     0       0      0      63      \n",
       "                     1      1       \n",
       "              1      0      9       \n",
       "      1       0      0      1       "
      ]
     },
     "execution_count": 498,
     "metadata": {},
     "output_type": "execute_result"
    }
   ],
   "source": [
    "pd.pivot_table(df_clean, index=['doggo', 'floofer', 'pupper', 'puppo'],values = 'tweet_id', aggfunc='count')"
   ]
  },
  {
   "cell_type": "markdown",
   "metadata": {},
   "source": [
    "1 tweet_id has both doggo and puppo\n",
    "\n",
    "9 tweet_id(s) have values present in both doggo column and pupper column. Investigate the text to determine the correct breed and change the values accordingly.\n",
    "\n",
    "1 tweet_id has both doggo and floofer"
   ]
  },
  {
   "cell_type": "code",
   "execution_count": 499,
   "metadata": {},
   "outputs": [],
   "source": [
    "# setting stage to Multiple for tweet_id 855851453814013952\n",
    "df_clean.loc[df_clean['tweet_id'].isin([855851453814013952]),'stage']=\"Multiple\""
   ]
  },
  {
   "cell_type": "code",
   "execution_count": 500,
   "metadata": {},
   "outputs": [
    {
     "name": "stdout",
     "output_type": "stream",
     "text": [
      "817777686764523521 This is Dido. She's playing the lead role in \"Pupper Stops to Catch Snow Before Resuming Shadow Box with Dried Apple.\" 13/10 (IG: didodoggo) https://t.co/m7isZrOBX7\n",
      "\n",
      "808106460588765185 Here we have Burke (pupper) and Dexter (doggo). Pupper wants to be exactly like doggo. Both 12/10 would pet at same time https://t.co/ANBpEYHaho\n",
      "\n",
      "802265048156610565 Like doggo, like pupper version 2. Both 11/10 https://t.co/9IxWAXFqze\n",
      "\n",
      "801115127852503040 This is Bones. He's being haunted by another doggo of roughly the same size. 12/10 deep breaths pupper everything's fine https://t.co/55Dqe0SJNj\n",
      "\n",
      "785639753186217984 This is Pinot. He's a sophisticated doggo. You can tell by the hat. Also pointier than your average pupper. Still 10/10 would pet cautiously https://t.co/f2wmLZTPHd\n",
      "\n",
      "759793422261743616 Meet Maggie &amp; Lila. Maggie is the doggo, Lila is the pupper. They are sisters. Both 12/10 would pet at the same time https://t.co/MYwR4DQKll\n",
      "\n",
      "751583847268179968 Please stop sending it pictures that don't even have a doggo or pupper in them. Churlish af. 5/10 neat couch tho https://t.co/u2c9c7qSg8\n",
      "\n",
      "741067306818797568 This is just downright precious af. 12/10 for both pupper and doggo https://t.co/o5J479bZUC\n",
      "\n",
      "733109485275860992 Like father (doggo), like son (pupper). Both 12/10 https://t.co/pG2inLaOda\n",
      "\n"
     ]
    }
   ],
   "source": [
    "# 9 tweet_id(s) have values present in both doggo column and pupper column\n",
    "for i, row in df_clean[((df_clean['pupper']==1) & (df_clean.doggo==1))].iterrows():\n",
    "    print('%s %s\\n'%(row.tweet_id, row.text))"
   ]
  },
  {
   "cell_type": "code",
   "execution_count": 501,
   "metadata": {},
   "outputs": [],
   "source": [
    "df_clean.loc[df_clean.tweet_id.isin([817777686764523521]), 'stage'] = 'Multiple'\n",
    "df_clean.loc[df_clean.tweet_id.isin([801115127852503040,785639753186217984, 808106460588765185, 802265048156610565,759793422261743616, 751583847268179968, 741067306818797568, 733109485275860992]), 'stage']= 'Multiple'"
   ]
  },
  {
   "cell_type": "code",
   "execution_count": 502,
   "metadata": {},
   "outputs": [
    {
     "data": {
      "text/plain": [
       "200    854010172552949760\n",
       "Name: tweet_id, dtype: int64"
      ]
     },
     "execution_count": 502,
     "metadata": {},
     "output_type": "execute_result"
    }
   ],
   "source": [
    "# one row has both doggo and floofer\n",
    "df_clean[(df_clean['floofer']==1) & (df_clean['doggo']==1)]['tweet_id']"
   ]
  },
  {
   "cell_type": "code",
   "execution_count": 503,
   "metadata": {},
   "outputs": [],
   "source": [
    "# setting doggo to None for tweet_id 854010172552949760\n",
    "df_clean.loc[df_clean.tweet_id.isin([854010172552949760]), 'stage'] = 'Multiple'"
   ]
  },
  {
   "cell_type": "markdown",
   "metadata": {},
   "source": [
    "**Test**"
   ]
  },
  {
   "cell_type": "code",
   "execution_count": 504,
   "metadata": {},
   "outputs": [
    {
     "data": {
      "text/plain": [
       "None        1684\n",
       "pupper      203 \n",
       "doggo       63  \n",
       "puppo       22  \n",
       "Multiple    11  \n",
       "floofer     7   \n",
       "Name: stage, dtype: int64"
      ]
     },
     "execution_count": 504,
     "metadata": {},
     "output_type": "execute_result"
    }
   ],
   "source": [
    "df_clean['stage'].value_counts()"
   ]
  },
  {
   "cell_type": "code",
   "execution_count": 505,
   "metadata": {},
   "outputs": [],
   "source": [
    "df_clean['stage']=df_clean['stage'].astype('category')"
   ]
  },
  {
   "cell_type": "code",
   "execution_count": 506,
   "metadata": {},
   "outputs": [],
   "source": [
    "df_clean = df_clean.drop(['doggo', 'floofer', 'pupper', 'puppo'], axis =1)"
   ]
  },
  {
   "cell_type": "markdown",
   "metadata": {},
   "source": [
    "**Test**"
   ]
  },
  {
   "cell_type": "code",
   "execution_count": 507,
   "metadata": {},
   "outputs": [
    {
     "name": "stdout",
     "output_type": "stream",
     "text": [
      "<class 'pandas.core.frame.DataFrame'>\n",
      "Int64Index: 1990 entries, 0 to 2355\n",
      "Data columns (total 9 columns):\n",
      "tweet_id         1990 non-null int64\n",
      "timestamp        1990 non-null datetime64[ns]\n",
      "text             1990 non-null object\n",
      "expanded_urls    1990 non-null object\n",
      "name             1990 non-null object\n",
      "source           1990 non-null category\n",
      "rating           1990 non-null float64\n",
      "gender           1349 non-null category\n",
      "stage            1990 non-null category\n",
      "dtypes: category(3), datetime64[ns](1), float64(1), int64(1), object(3)\n",
      "memory usage: 195.1+ KB\n"
     ]
    }
   ],
   "source": [
    "df_clean.info()"
   ]
  },
  {
   "cell_type": "markdown",
   "metadata": {},
   "source": [
    "retweet_count, favorite_count,display_text_range columns from status_df table should be joined with df_clean table on the basis of tweet_id"
   ]
  },
  {
   "cell_type": "markdown",
   "metadata": {},
   "source": [
    "**Define**"
   ]
  },
  {
   "cell_type": "markdown",
   "metadata": {},
   "source": [
    "Inner join df_clean and status_df on tweet_id"
   ]
  },
  {
   "cell_type": "markdown",
   "metadata": {},
   "source": [
    "**Code**"
   ]
  },
  {
   "cell_type": "code",
   "execution_count": 508,
   "metadata": {},
   "outputs": [
    {
     "ename": "ValueError",
     "evalue": "Buffer dtype mismatch, expected 'Python object' but got 'double'",
     "output_type": "error",
     "traceback": [
      "\u001b[1;31m---------------------------------------------------------------------------\u001b[0m",
      "\u001b[1;31mValueError\u001b[0m                                Traceback (most recent call last)",
      "\u001b[1;31mValueError\u001b[0m: Buffer dtype mismatch, expected 'Python object' but got 'double'"
     ]
    },
    {
     "name": "stderr",
     "output_type": "stream",
     "text": [
      "Exception ignored in: 'pandas._libs.lib.is_bool_array'\n",
      "ValueError: Buffer dtype mismatch, expected 'Python object' but got 'double'\n"
     ]
    }
   ],
   "source": [
    "df_clean = pd.merge(df_clean, status_df, how='left', on = 'tweet_id')"
   ]
  },
  {
   "cell_type": "markdown",
   "metadata": {},
   "source": [
    "**Test**"
   ]
  },
  {
   "cell_type": "code",
   "execution_count": 509,
   "metadata": {},
   "outputs": [
    {
     "data": {
      "text/html": [
       "<div>\n",
       "<style scoped>\n",
       "    .dataframe tbody tr th:only-of-type {\n",
       "        vertical-align: middle;\n",
       "    }\n",
       "\n",
       "    .dataframe tbody tr th {\n",
       "        vertical-align: top;\n",
       "    }\n",
       "\n",
       "    .dataframe thead th {\n",
       "        text-align: right;\n",
       "    }\n",
       "</style>\n",
       "<table border=\"1\" class=\"dataframe\">\n",
       "  <thead>\n",
       "    <tr style=\"text-align: right;\">\n",
       "      <th></th>\n",
       "      <th>tweet_id</th>\n",
       "      <th>timestamp</th>\n",
       "      <th>text</th>\n",
       "      <th>expanded_urls</th>\n",
       "      <th>name</th>\n",
       "      <th>source</th>\n",
       "      <th>rating</th>\n",
       "      <th>gender</th>\n",
       "      <th>stage</th>\n",
       "      <th>retweet_count</th>\n",
       "      <th>favorite_count</th>\n",
       "      <th>display_text_range</th>\n",
       "    </tr>\n",
       "  </thead>\n",
       "  <tbody>\n",
       "    <tr>\n",
       "      <th>0</th>\n",
       "      <td>892420643555336193</td>\n",
       "      <td>2017-08-01 16:23:56</td>\n",
       "      <td>This is Phineas. He's a mystical boy. Only ever appears in the hole of a donut. 13/10 https://t.co/MgUWQ76dJU</td>\n",
       "      <td>https://twitter.com/dog_rates/status/892420643555336193/photo/1</td>\n",
       "      <td>Phineas</td>\n",
       "      <td>Twitter for iPhone</td>\n",
       "      <td>1.3</td>\n",
       "      <td>0.0</td>\n",
       "      <td>None</td>\n",
       "      <td>8853</td>\n",
       "      <td>39467</td>\n",
       "      <td>[0, 85]</td>\n",
       "    </tr>\n",
       "  </tbody>\n",
       "</table>\n",
       "</div>"
      ],
      "text/plain": [
       "             tweet_id           timestamp  \\\n",
       "0  892420643555336193 2017-08-01 16:23:56   \n",
       "\n",
       "                                                                                                            text  \\\n",
       "0  This is Phineas. He's a mystical boy. Only ever appears in the hole of a donut. 13/10 https://t.co/MgUWQ76dJU   \n",
       "\n",
       "                                                     expanded_urls     name  \\\n",
       "0  https://twitter.com/dog_rates/status/892420643555336193/photo/1  Phineas   \n",
       "\n",
       "               source  rating gender stage  retweet_count  favorite_count  \\\n",
       "0  Twitter for iPhone  1.3     0.0    None  8853           39467            \n",
       "\n",
       "  display_text_range  \n",
       "0  [0, 85]            "
      ]
     },
     "execution_count": 509,
     "metadata": {},
     "output_type": "execute_result"
    }
   ],
   "source": [
    "df_clean.head(1)"
   ]
  },
  {
   "cell_type": "markdown",
   "metadata": {},
   "source": [
    "**Merge p1, p1_conf, p1_dog from img_df_copy with df_clean dataset to create master dataset**"
   ]
  },
  {
   "cell_type": "markdown",
   "metadata": {},
   "source": [
    "**Define**"
   ]
  },
  {
   "cell_type": "markdown",
   "metadata": {},
   "source": [
    "Using pd.merge merge p1, p1_conf, p1_dog from img_df_copy with df_clean dataset on tweet_id"
   ]
  },
  {
   "cell_type": "markdown",
   "metadata": {},
   "source": [
    "**Code**"
   ]
  },
  {
   "cell_type": "code",
   "execution_count": 510,
   "metadata": {},
   "outputs": [
    {
     "ename": "ValueError",
     "evalue": "Buffer dtype mismatch, expected 'Python object' but got 'double'",
     "output_type": "error",
     "traceback": [
      "\u001b[1;31m---------------------------------------------------------------------------\u001b[0m",
      "\u001b[1;31mValueError\u001b[0m                                Traceback (most recent call last)",
      "\u001b[1;31mValueError\u001b[0m: Buffer dtype mismatch, expected 'Python object' but got 'double'"
     ]
    },
    {
     "name": "stderr",
     "output_type": "stream",
     "text": [
      "Exception ignored in: 'pandas._libs.lib.is_bool_array'\n",
      "ValueError: Buffer dtype mismatch, expected 'Python object' but got 'double'\n"
     ]
    }
   ],
   "source": [
    "df_clean = pd.merge(df_clean, img_df_copy[['tweet_id','p1', 'p1_conf','p1_dog']], how='inner', on ='tweet_id')"
   ]
  },
  {
   "cell_type": "code",
   "execution_count": 511,
   "metadata": {},
   "outputs": [
    {
     "data": {
      "text/html": [
       "<div>\n",
       "<style scoped>\n",
       "    .dataframe tbody tr th:only-of-type {\n",
       "        vertical-align: middle;\n",
       "    }\n",
       "\n",
       "    .dataframe tbody tr th {\n",
       "        vertical-align: top;\n",
       "    }\n",
       "\n",
       "    .dataframe thead th {\n",
       "        text-align: right;\n",
       "    }\n",
       "</style>\n",
       "<table border=\"1\" class=\"dataframe\">\n",
       "  <thead>\n",
       "    <tr style=\"text-align: right;\">\n",
       "      <th></th>\n",
       "      <th>tweet_id</th>\n",
       "      <th>timestamp</th>\n",
       "      <th>text</th>\n",
       "      <th>expanded_urls</th>\n",
       "      <th>name</th>\n",
       "      <th>source</th>\n",
       "      <th>rating</th>\n",
       "      <th>gender</th>\n",
       "      <th>stage</th>\n",
       "      <th>retweet_count</th>\n",
       "      <th>favorite_count</th>\n",
       "      <th>display_text_range</th>\n",
       "      <th>p1</th>\n",
       "      <th>p1_conf</th>\n",
       "      <th>p1_dog</th>\n",
       "    </tr>\n",
       "  </thead>\n",
       "  <tbody>\n",
       "    <tr>\n",
       "      <th>0</th>\n",
       "      <td>892420643555336193</td>\n",
       "      <td>2017-08-01 16:23:56</td>\n",
       "      <td>This is Phineas. He's a mystical boy. Only ever appears in the hole of a donut. 13/10 https://t.co/MgUWQ76dJU</td>\n",
       "      <td>https://twitter.com/dog_rates/status/892420643555336193/photo/1</td>\n",
       "      <td>Phineas</td>\n",
       "      <td>Twitter for iPhone</td>\n",
       "      <td>1.3</td>\n",
       "      <td>0.0</td>\n",
       "      <td>None</td>\n",
       "      <td>8853</td>\n",
       "      <td>39467</td>\n",
       "      <td>[0, 85]</td>\n",
       "      <td>Orange</td>\n",
       "      <td>0.097049</td>\n",
       "      <td>False</td>\n",
       "    </tr>\n",
       "  </tbody>\n",
       "</table>\n",
       "</div>"
      ],
      "text/plain": [
       "             tweet_id           timestamp  \\\n",
       "0  892420643555336193 2017-08-01 16:23:56   \n",
       "\n",
       "                                                                                                            text  \\\n",
       "0  This is Phineas. He's a mystical boy. Only ever appears in the hole of a donut. 13/10 https://t.co/MgUWQ76dJU   \n",
       "\n",
       "                                                     expanded_urls     name  \\\n",
       "0  https://twitter.com/dog_rates/status/892420643555336193/photo/1  Phineas   \n",
       "\n",
       "               source  rating gender stage  retweet_count  favorite_count  \\\n",
       "0  Twitter for iPhone  1.3     0.0    None  8853           39467            \n",
       "\n",
       "  display_text_range      p1   p1_conf  p1_dog  \n",
       "0  [0, 85]            Orange  0.097049  False   "
      ]
     },
     "execution_count": 511,
     "metadata": {},
     "output_type": "execute_result"
    }
   ],
   "source": [
    "df_clean.head(1)"
   ]
  },
  {
   "cell_type": "markdown",
   "metadata": {},
   "source": [
    "**Create breed column on the basis of p1 and p1_conf**"
   ]
  },
  {
   "cell_type": "markdown",
   "metadata": {},
   "source": [
    "**Define**"
   ]
  },
  {
   "cell_type": "markdown",
   "metadata": {},
   "source": [
    "If p1_conf > 0.95 and p1_dog is True, then breed is p1"
   ]
  },
  {
   "cell_type": "markdown",
   "metadata": {},
   "source": [
    "**Code**"
   ]
  },
  {
   "cell_type": "code",
   "execution_count": 512,
   "metadata": {},
   "outputs": [],
   "source": [
    "df_clean.loc[(df_clean['p1_conf'] >= 0.95) & (df_clean['p1_dog']==True), 'breed'] = df_clean['p1']  "
   ]
  },
  {
   "cell_type": "markdown",
   "metadata": {},
   "source": [
    "replace missing values in breed column with 'None'"
   ]
  },
  {
   "cell_type": "code",
   "execution_count": 513,
   "metadata": {},
   "outputs": [],
   "source": [
    "df_clean['breed'].fillna(value = 'None', inplace=True)"
   ]
  },
  {
   "cell_type": "markdown",
   "metadata": {},
   "source": [
    "**Test**"
   ]
  },
  {
   "cell_type": "code",
   "execution_count": 514,
   "metadata": {},
   "outputs": [
    {
     "data": {
      "text/plain": [
       "None                           1804\n",
       "Pug                            20  \n",
       "Pembroke                       19  \n",
       "Samoyed                        19  \n",
       "Golden_retriever               16  \n",
       "Pomeranian                     13  \n",
       "Chihuahua                      9   \n",
       "Labrador_retriever             9   \n",
       "French_bulldog                 8   \n",
       "Chow                           7   \n",
       "German_shepherd                4   \n",
       "Shetland_sheepdog              4   \n",
       "Bernese_mountain_dog           4   \n",
       "Blenheim_spaniel               3   \n",
       "Pekinese                       3   \n",
       "Old_english_sheepdog           3   \n",
       "Beagle                         3   \n",
       "Basset                         2   \n",
       "Shih-tzu                       2   \n",
       "English_springer               2   \n",
       "Saint_bernard                  2   \n",
       "Rottweiler                     2   \n",
       "Malamute                       2   \n",
       "Komondor                       2   \n",
       "Keeshond                       2   \n",
       "Dalmatian                      2   \n",
       "Vizsla                         2   \n",
       "Boston_bull                    2   \n",
       "Cocker_spaniel                 2   \n",
       "Bull_mastiff                   2   \n",
       "Boxer                          1   \n",
       "Briard                         1   \n",
       "German_short-haired_pointer    1   \n",
       "Weimaraner                     1   \n",
       "Great_pyrenees                 1   \n",
       "Cardigan                       1   \n",
       "Great_dane                     1   \n",
       "Toy_poodle                     1   \n",
       "Miniature_pinscher             1   \n",
       "Collie                         1   \n",
       "Siberian_husky                 1   \n",
       "Maltese_dog                    1   \n",
       "Brittany_spaniel               1   \n",
       "Schipperke                     1   \n",
       "Norwegian_elkhound             1   \n",
       "Tibetan_mastiff                1   \n",
       "Name: breed, dtype: int64"
      ]
     },
     "execution_count": 514,
     "metadata": {},
     "output_type": "execute_result"
    }
   ],
   "source": [
    "df_clean['breed'].value_counts()"
   ]
  },
  {
   "cell_type": "code",
   "execution_count": 515,
   "metadata": {},
   "outputs": [
    {
     "name": "stdout",
     "output_type": "stream",
     "text": [
      "<class 'pandas.core.frame.DataFrame'>\n",
      "Int64Index: 1990 entries, 0 to 1989\n",
      "Data columns (total 16 columns):\n",
      "tweet_id              1990 non-null int64\n",
      "timestamp             1990 non-null datetime64[ns]\n",
      "text                  1990 non-null object\n",
      "expanded_urls         1990 non-null object\n",
      "name                  1990 non-null object\n",
      "source                1990 non-null category\n",
      "rating                1990 non-null float64\n",
      "gender                1349 non-null category\n",
      "stage                 1990 non-null category\n",
      "retweet_count         1990 non-null int64\n",
      "favorite_count        1990 non-null int64\n",
      "display_text_range    1990 non-null object\n",
      "p1                    1990 non-null object\n",
      "p1_conf               1990 non-null float64\n",
      "p1_dog                1990 non-null bool\n",
      "breed                 1990 non-null object\n",
      "dtypes: bool(1), category(3), datetime64[ns](1), float64(2), int64(3), object(6)\n",
      "memory usage: 290.3+ KB\n"
     ]
    }
   ],
   "source": [
    "df_clean.info()"
   ]
  },
  {
   "cell_type": "markdown",
   "metadata": {},
   "source": [
    "### Storing the cleaned data"
   ]
  },
  {
   "cell_type": "code",
   "execution_count": 516,
   "metadata": {},
   "outputs": [],
   "source": [
    "df_clean.to_csv('twitter_archive_master.csv', index = False, encoding='utf-8')"
   ]
  },
  {
   "cell_type": "markdown",
   "metadata": {},
   "source": [
    "### Analysis and Visualization"
   ]
  },
  {
   "cell_type": "code",
   "execution_count": 517,
   "metadata": {},
   "outputs": [
    {
     "data": {
      "text/html": [
       "<div>\n",
       "<style scoped>\n",
       "    .dataframe tbody tr th:only-of-type {\n",
       "        vertical-align: middle;\n",
       "    }\n",
       "\n",
       "    .dataframe tbody tr th {\n",
       "        vertical-align: top;\n",
       "    }\n",
       "\n",
       "    .dataframe thead th {\n",
       "        text-align: right;\n",
       "    }\n",
       "</style>\n",
       "<table border=\"1\" class=\"dataframe\">\n",
       "  <thead>\n",
       "    <tr style=\"text-align: right;\">\n",
       "      <th></th>\n",
       "      <th>tweet_id</th>\n",
       "      <th>timestamp</th>\n",
       "      <th>text</th>\n",
       "      <th>expanded_urls</th>\n",
       "      <th>name</th>\n",
       "      <th>source</th>\n",
       "      <th>rating</th>\n",
       "      <th>gender</th>\n",
       "      <th>stage</th>\n",
       "      <th>retweet_count</th>\n",
       "      <th>favorite_count</th>\n",
       "      <th>display_text_range</th>\n",
       "      <th>p1</th>\n",
       "      <th>p1_conf</th>\n",
       "      <th>p1_dog</th>\n",
       "      <th>breed</th>\n",
       "    </tr>\n",
       "  </thead>\n",
       "  <tbody>\n",
       "    <tr>\n",
       "      <th>0</th>\n",
       "      <td>892420643555336193</td>\n",
       "      <td>2017-08-01 16:23:56</td>\n",
       "      <td>This is Phineas. He's a mystical boy. Only ever appears in the hole of a donut. 13/10 https://t.co/MgUWQ76dJU</td>\n",
       "      <td>https://twitter.com/dog_rates/status/892420643555336193/photo/1</td>\n",
       "      <td>Phineas</td>\n",
       "      <td>Twitter for iPhone</td>\n",
       "      <td>1.3</td>\n",
       "      <td>0.0</td>\n",
       "      <td>None</td>\n",
       "      <td>8853</td>\n",
       "      <td>39467</td>\n",
       "      <td>[0, 85]</td>\n",
       "      <td>Orange</td>\n",
       "      <td>0.097049</td>\n",
       "      <td>False</td>\n",
       "      <td>None</td>\n",
       "    </tr>\n",
       "  </tbody>\n",
       "</table>\n",
       "</div>"
      ],
      "text/plain": [
       "             tweet_id           timestamp  \\\n",
       "0  892420643555336193 2017-08-01 16:23:56   \n",
       "\n",
       "                                                                                                            text  \\\n",
       "0  This is Phineas. He's a mystical boy. Only ever appears in the hole of a donut. 13/10 https://t.co/MgUWQ76dJU   \n",
       "\n",
       "                                                     expanded_urls     name  \\\n",
       "0  https://twitter.com/dog_rates/status/892420643555336193/photo/1  Phineas   \n",
       "\n",
       "               source  rating gender stage  retweet_count  favorite_count  \\\n",
       "0  Twitter for iPhone  1.3     0.0    None  8853           39467            \n",
       "\n",
       "  display_text_range      p1   p1_conf  p1_dog breed  \n",
       "0  [0, 85]            Orange  0.097049  False   None  "
      ]
     },
     "execution_count": 517,
     "metadata": {},
     "output_type": "execute_result"
    }
   ],
   "source": [
    "df_clean.head(1)"
   ]
  },
  {
   "cell_type": "markdown",
   "metadata": {},
   "source": [
    "**1. Distribution of source**"
   ]
  },
  {
   "cell_type": "code",
   "execution_count": 518,
   "metadata": {},
   "outputs": [
    {
     "data": {
      "text/plain": [
       "Twitter for iPhone    1952\n",
       "Twitter Web Client    28  \n",
       "TweetDeck             10  \n",
       "Name: source, dtype: int64"
      ]
     },
     "execution_count": 518,
     "metadata": {},
     "output_type": "execute_result"
    }
   ],
   "source": [
    "df_clean['source'].value_counts()"
   ]
  },
  {
   "cell_type": "code",
   "execution_count": 519,
   "metadata": {},
   "outputs": [
    {
     "data": {
      "image/png": "[encoded data removed]",
      "text/plain": [
       "<matplotlib.figure.Figure at 0x1eecca80d30>"
      ]
     },
     "metadata": {},
     "output_type": "display_data"
    }
   ],
   "source": [
    "source_order = df_clean['source'].value_counts().index\n",
    "\n",
    "base_color = sns.color_palette()[1]\n",
    "sns.countplot(data = df_clean, x='source', color= base_color, order = source_order)\n",
    "plt.xlabel('Source', fontsize=14)\n",
    "plt.ylabel('Count', fontsize=14)\n",
    "plt.title('The Distribution of Source',fontsize=16);"
   ]
  },
  {
   "cell_type": "markdown",
   "metadata": {},
   "source": [
    "This plot shows the distribution of source. We can see that the dominate source of tweets is from iPhone twitter app, which is 94% in the total. That means the twitter app is the main channel for people using to tweet, retweet, post, and others, while the TweetDeck and Twitter  pretty rare (less than 1%)."
   ]
  },
  {
   "cell_type": "markdown",
   "metadata": {},
   "source": [
    "**2. The Distribution of Dog Stages**"
   ]
  },
  {
   "cell_type": "code",
   "execution_count": 520,
   "metadata": {},
   "outputs": [
    {
     "data": {
      "text/plain": [
       "None        1684\n",
       "pupper      203 \n",
       "doggo       63  \n",
       "puppo       22  \n",
       "Multiple    11  \n",
       "floofer     7   \n",
       "Name: stage, dtype: int64"
      ]
     },
     "execution_count": 520,
     "metadata": {},
     "output_type": "execute_result"
    }
   ],
   "source": [
    "df_clean['stage'].value_counts()"
   ]
  },
  {
   "cell_type": "code",
   "execution_count": 541,
   "metadata": {},
   "outputs": [
    {
     "data": {
      "image/png": "[encoded data removed]",
      "text/plain": [
       "<matplotlib.figure.Figure at 0x1eecd0bf7b8>"
      ]
     },
     "metadata": {},
     "output_type": "display_data"
    }
   ],
   "source": [
    "base_color = sns.color_palette()[2]\n",
    "sns.set(style=\"darkgrid\")\n",
    "sns.countplot(data = df_clean, x = 'stage', order = [\"pupper\", \"doggo\", \"puppo\", \"floofer\"], orient = 'h', color = base_color)\n",
    "plt.xticks(rotation = 360)\n",
    "plt.xlabel('Dog Stages', fontsize=14)\n",
    "plt.ylabel('Count', fontsize=14)\n",
    "plt.title('The Distribution of Dog Stages',fontsize=16);"
   ]
  },
  {
   "cell_type": "markdown",
   "metadata": {},
   "source": [
    "There is a lot of missing data in dog stage. But if we do not include missing data, then the distribution of dog stages shows that ‘pupper’ (a small doggo, usually younger) is the most popular dog stage, followed by ‘doggo’, ‘puppo’ and 'floofer'. It could be due to the young and unmatured dog is usually cuter than the adult dog."
   ]
  },
  {
   "cell_type": "markdown",
   "metadata": {},
   "source": [
    "**3. Relationship between retweet_count and favorite_count**"
   ]
  },
  {
   "cell_type": "code",
   "execution_count": 522,
   "metadata": {},
   "outputs": [
    {
     "data": {
      "text/html": [
       "<div>\n",
       "<style scoped>\n",
       "    .dataframe tbody tr th:only-of-type {\n",
       "        vertical-align: middle;\n",
       "    }\n",
       "\n",
       "    .dataframe tbody tr th {\n",
       "        vertical-align: top;\n",
       "    }\n",
       "\n",
       "    .dataframe thead th {\n",
       "        text-align: right;\n",
       "    }\n",
       "</style>\n",
       "<table border=\"1\" class=\"dataframe\">\n",
       "  <thead>\n",
       "    <tr style=\"text-align: right;\">\n",
       "      <th></th>\n",
       "      <th>retweet_count</th>\n",
       "      <th>favorite_count</th>\n",
       "    </tr>\n",
       "  </thead>\n",
       "  <tbody>\n",
       "    <tr>\n",
       "      <th>retweet_count</th>\n",
       "      <td>1.000000</td>\n",
       "      <td>0.912987</td>\n",
       "    </tr>\n",
       "    <tr>\n",
       "      <th>favorite_count</th>\n",
       "      <td>0.912987</td>\n",
       "      <td>1.000000</td>\n",
       "    </tr>\n",
       "  </tbody>\n",
       "</table>\n",
       "</div>"
      ],
      "text/plain": [
       "                retweet_count  favorite_count\n",
       "retweet_count   1.000000       0.912987      \n",
       "favorite_count  0.912987       1.000000      "
      ]
     },
     "execution_count": 522,
     "metadata": {},
     "output_type": "execute_result"
    }
   ],
   "source": [
    "df_clean[['retweet_count', 'favorite_count']].corr()"
   ]
  },
  {
   "cell_type": "code",
   "execution_count": 537,
   "metadata": {},
   "outputs": [
    {
     "data": {
      "image/png": "[encoded data removed]",
      "text/plain": [
       "<matplotlib.figure.Figure at 0x1eeccfc9dd8>"
      ]
     },
     "metadata": {},
     "output_type": "display_data"
    }
   ],
   "source": [
    "sns.jointplot(data=df_clean, x='retweet_count', y='favorite_count', kind='reg', color='g')\n",
    "plt.xlabel('retweet_count', fontsize=16)\n",
    "plt.ylabel('favorite_count', fontsize=16);"
   ]
  },
  {
   "cell_type": "markdown",
   "metadata": {},
   "source": [
    "It is seen that most popular tweets usually get a large number of retweets and favorite counts. As shown above correlation between ‘retweet_count’ and ‘favorite_count’ is 0.929101, that is a high value showing a strong positive relationship between ‘retweet_count’ and ‘favorite_count’. The plot above also confirms this linear relationship."
   ]
  },
  {
   "cell_type": "markdown",
   "metadata": {},
   "source": [
    "**4. Most popular dog names**"
   ]
  },
  {
   "cell_type": "code",
   "execution_count": 524,
   "metadata": {},
   "outputs": [
    {
     "data": {
      "text/plain": [
       "Charlie    11\n",
       "Lucy       10\n",
       "Cooper     10\n",
       "Oliver     10\n",
       "Tucker     9 \n",
       "Penny      9 \n",
       "Winston    8 \n",
       "Sadie      8 \n",
       "Lola       7 \n",
       "Daisy      7 \n",
       "Name: name, dtype: int64"
      ]
     },
     "execution_count": 524,
     "metadata": {},
     "output_type": "execute_result"
    }
   ],
   "source": [
    "df_clean['name'].value_counts()[1:11].head(11)"
   ]
  },
  {
   "cell_type": "code",
   "execution_count": 536,
   "metadata": {},
   "outputs": [
    {
     "data": {
      "image/png": "[encoded data removed]",
      "text/plain": [
       "<matplotlib.figure.Figure at 0x1eeccfa27b8>"
      ]
     },
     "metadata": {},
     "output_type": "display_data"
    }
   ],
   "source": [
    "sorted_order = df_clean['name'].value_counts()[1:11].head(11).index\n",
    "plt.figure(figsize = (10,4))\n",
    "values = np.count_nonzero(df_clean['name'])\n",
    "sns.set(style=\"whitegrid\", color_codes=True)\n",
    "\n",
    "fclrs = ['grey' if (x > min(sorted_order)) else 'red' for x in sorted_order]\n",
    "\n",
    "sns.countplot(data = df_clean, x = 'name', order = sorted_order, orient = 'h', palette=fclrs)\n",
    "plt.xlabel('Most popular names', fontsize =16)\n",
    "plt.ylabel('Count', fontsize =16);"
   ]
  },
  {
   "cell_type": "markdown",
   "metadata": {},
   "source": [
    "**5. Distribution of Rating**"
   ]
  },
  {
   "cell_type": "code",
   "execution_count": 526,
   "metadata": {},
   "outputs": [
    {
     "data": {
      "text/plain": [
       "count    1990.000000\n",
       "mean     1.054891   \n",
       "std      0.218506   \n",
       "min      0.000000   \n",
       "25%      1.000000   \n",
       "50%      1.100000   \n",
       "75%      1.200000   \n",
       "max      1.400000   \n",
       "Name: rating, dtype: float64"
      ]
     },
     "execution_count": 526,
     "metadata": {},
     "output_type": "execute_result"
    }
   ],
   "source": [
    "df_clean['rating'].describe()"
   ]
  },
  {
   "cell_type": "code",
   "execution_count": 534,
   "metadata": {},
   "outputs": [
    {
     "data": {
      "image/png": "[encoded data removed]",
      "text/plain": [
       "<matplotlib.figure.Figure at 0x1eecce05fd0>"
      ]
     },
     "metadata": {},
     "output_type": "display_data"
    }
   ],
   "source": [
    "plt.figure(figsize = (8, 5))\n",
    "plt.xlabel('Ratings')\n",
    "plt.ylabel('Count')\n",
    "bins = [0, .1, .2, .3, .4, .5, .6, .7, .8, .9, 1, 1.1, 1.2, 1.3, 1.4]\n",
    "plt.hist(x = df_clean.rating, \n",
    "         edgecolor='white', linewidth=8, bins = bins, color='blue')\n",
    "plt.title('Histogram of Dog Ratings');"
   ]
  },
  {
   "cell_type": "markdown",
   "metadata": {},
   "source": [
    "rating calculated as rating_numerator divided by rating_denominator (always 10). Most dogs receive ratings between 10 and 13"
   ]
  },
  {
   "cell_type": "markdown",
   "metadata": {},
   "source": [
    "**6. Analyzing trend in number of tweets posted over time**"
   ]
  },
  {
   "cell_type": "code",
   "execution_count": 528,
   "metadata": {},
   "outputs": [],
   "source": [
    "# extracting year and month from timestamp\n",
    "df_clean['year_month'] =df_clean['timestamp'].apply(lambda x:x.strftime('%Y-%m'))"
   ]
  },
  {
   "cell_type": "code",
   "execution_count": 529,
   "metadata": {},
   "outputs": [
    {
     "data": {
      "text/plain": [
       "2015-11    294\n",
       "2015-12    367\n",
       "2016-01    169\n",
       "2016-02    111\n",
       "2016-03    120\n",
       "2016-04    54 \n",
       "2016-05    57 \n",
       "2016-06    81 \n",
       "2016-07    87 \n",
       "2016-08    59 \n",
       "2016-09    63 \n",
       "2016-10    65 \n",
       "2016-11    53 \n",
       "2016-12    53 \n",
       "2017-01    66 \n",
       "2017-02    64 \n",
       "2017-03    48 \n",
       "2017-04    41 \n",
       "2017-05    43 \n",
       "2017-06    44 \n",
       "2017-07    49 \n",
       "2017-08    2  \n",
       "Name: year_month, dtype: int64"
      ]
     },
     "execution_count": 529,
     "metadata": {},
     "output_type": "execute_result"
    }
   ],
   "source": [
    "df_clean['year_month'].value_counts().sort_index()"
   ]
  },
  {
   "cell_type": "code",
   "execution_count": 530,
   "metadata": {},
   "outputs": [],
   "source": [
    "data = pd.DataFrame(df_clean.groupby('year_month')['tweet_id'].count())"
   ]
  },
  {
   "cell_type": "code",
   "execution_count": 531,
   "metadata": {},
   "outputs": [
    {
     "data": {
      "image/png": "[encoded data removed]",
      "text/plain": [
       "<matplotlib.figure.Figure at 0x1eeccf2c9b0>"
      ]
     },
     "metadata": {},
     "output_type": "display_data"
    }
   ],
   "source": [
    "plt.figure(figsize=(14,4))\n",
    "data['tweet_id'].plot('line')\n",
    "x = data.index\n",
    "y = data['tweet_id']\n",
    "sns.pointplot(x=x, y=y, color='orange')\n",
    "plt.tight_layout()\n",
    "plt.xlabel('year_month', fontsize=16)\n",
    "plt.ylabel(\"Number of tweets\", fontsize=16)\n",
    "plt.title('Trend in number of tweets over time', fontsize=16)\n",
    "plt.xticks(rotation =45 );"
   ]
  },
  {
   "cell_type": "code",
   "execution_count": null,
   "metadata": {},
   "outputs": [],
   "source": []
  }
 ],
 "metadata": {
  "kernelspec": {
   "display_name": "Python 3",
   "language": "python",
   "name": "python3"
  },
  "language_info": {
   "codemirror_mode": {
    "name": "ipython",
    "version": 3
   },
   "file_extension": ".py",
   "mimetype": "text/x-python",
   "name": "python",
   "nbconvert_exporter": "python",
   "pygments_lexer": "ipython3",
   "version": "3.6.4"
  }
 },
 "nbformat": 4,
 "nbformat_minor": 2
}
